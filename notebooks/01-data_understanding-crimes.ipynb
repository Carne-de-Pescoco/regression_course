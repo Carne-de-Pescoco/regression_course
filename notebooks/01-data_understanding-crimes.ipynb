{
 "cells": [
  {
   "cell_type": "markdown",
   "id": "8007b0a8",
   "metadata": {},
   "source": [
    "# Data understanding - crimes at SP\n",
    "\n",
    "## Purpose\n",
    "Initiate the understanding about the data within the SSP/SP.\n",
    "\n",
    "## Methodology\n",
    "EDA"
   ]
  },
  {
   "cell_type": "markdown",
   "id": "f771d100",
   "metadata": {},
   "source": [
    "# Setup\n",
    "\n",
    "## Library import\n",
    "We import all the required Python libraries"
   ]
  },
  {
   "cell_type": "code",
   "execution_count": 18,
   "id": "3a21cf8a",
   "metadata": {
    "ExecuteTime": {
     "end_time": "2021-08-30T00:31:26.637319Z",
     "start_time": "2021-08-30T00:31:26.503926Z"
    }
   },
   "outputs": [
    {
     "data": {
      "text/html": [
       "        <script type=\"text/javascript\">\n",
       "        window.PlotlyConfig = {MathJaxConfig: 'local'};\n",
       "        if (window.MathJax) {MathJax.Hub.Config({SVG: {font: \"STIX-Web\"}});}\n",
       "        if (typeof require !== 'undefined') {\n",
       "        require.undef(\"plotly\");\n",
       "        requirejs.config({\n",
       "            paths: {\n",
       "                'plotly': ['https://cdn.plot.ly/plotly-2.3.1.min']\n",
       "            }\n",
       "        });\n",
       "        require(['plotly'], function(Plotly) {\n",
       "            window._Plotly = Plotly;\n",
       "        });\n",
       "        }\n",
       "        </script>\n",
       "        "
      ]
     },
     "metadata": {},
     "output_type": "display_data"
    },
    {
     "data": {
      "text/html": [
       "        <script type=\"text/javascript\">\n",
       "        window.PlotlyConfig = {MathJaxConfig: 'local'};\n",
       "        if (window.MathJax) {MathJax.Hub.Config({SVG: {font: \"STIX-Web\"}});}\n",
       "        if (typeof require !== 'undefined') {\n",
       "        require.undef(\"plotly\");\n",
       "        requirejs.config({\n",
       "            paths: {\n",
       "                'plotly': ['https://cdn.plot.ly/plotly-2.3.1.min']\n",
       "            }\n",
       "        });\n",
       "        require(['plotly'], function(Plotly) {\n",
       "            window._Plotly = Plotly;\n",
       "        });\n",
       "        }\n",
       "        </script>\n",
       "        "
      ]
     },
     "metadata": {},
     "output_type": "display_data"
    }
   ],
   "source": [
    "import os\n",
    "import warnings\n",
    "\n",
    "import cufflinks as cf\n",
    "import dtale\n",
    "from feature_engine.selection import DropConstantFeatures, DropDuplicateFeatures\n",
    "import pandas as pd\n",
    "import numpy as np\n",
    "import matplotlib.pyplot as plt\n",
    "import plotly\n",
    "import chart_studio.plotly as py\n",
    "import plotly.graph_objects as go\n",
    "import plotly.offline as ply\n",
    "import plotly.figure_factory as ff\n",
    "import seaborn as sns\n",
    "\n",
    "# Options for libraries\n",
    "cf.go_offline(connected=True)\n",
    "cf.set_config_file(theme='white')\n",
    "pd.options.display.max_columns = None\n",
    "pd.options.display.max_rows = 30\n",
    "plotly.offline.init_notebook_mode(connected=True)\n",
    "plt.style.use('seaborn-paper')\n",
    "warnings.filterwarnings(\"ignore\")\n",
    "\n",
    "# Autoreload extension\n",
    "if 'autoreload' not in get_ipython().extension_manager.loaded:\n",
    "    %load_ext autoreload\n",
    "    \n",
    "%autoreload 2\n",
    "%matplotlib inline"
   ]
  },
  {
   "cell_type": "markdown",
   "id": "3875688d",
   "metadata": {},
   "source": [
    "## Local library import\n",
    "We import all the required local libraries libraries"
   ]
  },
  {
   "cell_type": "code",
   "execution_count": 19,
   "id": "5822597f",
   "metadata": {
    "ExecuteTime": {
     "end_time": "2021-08-30T00:31:28.426041Z",
     "start_time": "2021-08-30T00:31:28.312349Z"
    }
   },
   "outputs": [],
   "source": [
    "# Include local library paths\n",
    "os.chdir('../')\n",
    "# Wrtite here the local imports.\n",
    "# from src.utils.example import example\n",
    "os.chdir('./notebooks/')"
   ]
  },
  {
   "cell_type": "markdown",
   "id": "e44560e6",
   "metadata": {},
   "source": [
    "# Parameter definition\n",
    "We set all relevant parameters for our notebook. By convention, parameters are uppercase, while all the \n",
    "other variables follow Python's guidelines."
   ]
  },
  {
   "cell_type": "code",
   "execution_count": 20,
   "id": "30a8163c",
   "metadata": {
    "ExecuteTime": {
     "end_time": "2021-08-30T00:31:30.396700Z",
     "start_time": "2021-08-30T00:31:30.272026Z"
    }
   },
   "outputs": [],
   "source": [
    "# Data folders\n",
    "RAW_DATA_FOLDER = \"../data/raw/\"\n",
    "INTERIM_DATA_FOLDER = \"../data/interim/\"\n",
    "PROCESSED_DATA_FOLDER = \"../data/processed/\"\n",
    "\n",
    "RANDOM_STATE = 42"
   ]
  },
  {
   "cell_type": "markdown",
   "id": "18161423",
   "metadata": {},
   "source": [
    "\n",
    "# Data import\n",
    "We retrieve all the required data for the analysis."
   ]
  },
  {
   "cell_type": "code",
   "execution_count": 21,
   "id": "5efc4994",
   "metadata": {
    "ExecuteTime": {
     "end_time": "2021-08-30T00:31:32.532685Z",
     "start_time": "2021-08-30T00:31:32.392038Z"
    }
   },
   "outputs": [
    {
     "name": "stdout",
     "output_type": "stream",
     "text": [
      "df's shape: (31, 38)\n"
     ]
    },
    {
     "data": {
      "text/html": [
       "<div>\n",
       "<style scoped>\n",
       "    .dataframe tbody tr th:only-of-type {\n",
       "        vertical-align: middle;\n",
       "    }\n",
       "\n",
       "    .dataframe tbody tr th {\n",
       "        vertical-align: top;\n",
       "    }\n",
       "\n",
       "    .dataframe thead th {\n",
       "        text-align: right;\n",
       "    }\n",
       "</style>\n",
       "<table border=\"1\" class=\"dataframe\">\n",
       "  <thead>\n",
       "    <tr style=\"text-align: right;\">\n",
       "      <th>Ocorrencia</th>\n",
       "      <th>ANO</th>\n",
       "      <th>MES</th>\n",
       "      <th>Nº DE ARMAS DE FOGO APREENDIDAS</th>\n",
       "      <th>Nº DE FLAGRANTES LAVRADOS</th>\n",
       "      <th>Nº DE INFRATORES APREENDIDOS EM FLAGRANTE</th>\n",
       "      <th>Nº DE INFRATORES APREENDIDOS POR MANDADO</th>\n",
       "      <th>Nº DE PESSOAS PRESAS EM FLAGRANTE</th>\n",
       "      <th>Nº DE PESSOAS PRESAS POR MANDADO</th>\n",
       "      <th>Nº DE PRISÕES EFETUADAS</th>\n",
       "      <th>Nº DE VEÍCULOS RECUPERADOS</th>\n",
       "      <th>OCORRÊNCIAS DE APREENSÃO DE ENTORPECENTES(1)</th>\n",
       "      <th>OCORRÊNCIAS DE PORTE DE ENTORPECENTES</th>\n",
       "      <th>OCORRÊNCIAS DE PORTE ILEGAL DE ARMA</th>\n",
       "      <th>OCORRÊNCIAS DE TRÁFICO DE ENTORPECENTES</th>\n",
       "      <th>TOT. DE INQUÉRITOS POLICIAIS INSTAURADOS</th>\n",
       "      <th>ESTUPRO</th>\n",
       "      <th>ESTUPRO DE VULNERÁVEL</th>\n",
       "      <th>FURTO - OUTROS</th>\n",
       "      <th>FURTO DE VEÍCULO</th>\n",
       "      <th>HOMICÍDIO CULPOSO OUTROS</th>\n",
       "      <th>HOMICÍDIO CULPOSO POR ACIDENTE DE TRÂNSITO</th>\n",
       "      <th>HOMICÍDIO DOLOSO (2)</th>\n",
       "      <th>HOMICÍDIO DOLOSO POR ACIDENTE DE TRÂNSITO</th>\n",
       "      <th>LATROCÍNIO</th>\n",
       "      <th>LESÃO CORPORAL CULPOSA - OUTRAS</th>\n",
       "      <th>LESÃO CORPORAL CULPOSA POR ACIDENTE DE TRÂNSITO</th>\n",
       "      <th>LESÃO CORPORAL DOLOSA</th>\n",
       "      <th>LESÃO CORPORAL SEGUIDA DE MORTE</th>\n",
       "      <th>Nº DE VÍTIMAS EM HOMICÍDIO DOLOSO (3)</th>\n",
       "      <th>Nº DE VÍTIMAS EM HOMICÍDIO DOLOSO POR ACIDENTE DE TRÂNSITO</th>\n",
       "      <th>Nº DE VÍTIMAS EM LATROCÍNIO</th>\n",
       "      <th>ROUBO - OUTROS</th>\n",
       "      <th>ROUBO A BANCO</th>\n",
       "      <th>ROUBO DE CARGA</th>\n",
       "      <th>ROUBO DE VEÍCULO</th>\n",
       "      <th>TENTATIVA DE HOMICÍDIO</th>\n",
       "      <th>TOTAL DE ESTUPRO (4)</th>\n",
       "      <th>TOTAL DE ROUBO - OUTROS (1)</th>\n",
       "    </tr>\n",
       "  </thead>\n",
       "  <tbody>\n",
       "    <tr>\n",
       "      <th>201901</th>\n",
       "      <td>2019</td>\n",
       "      <td>01</td>\n",
       "      <td>242</td>\n",
       "      <td>2190</td>\n",
       "      <td>173</td>\n",
       "      <td>77</td>\n",
       "      <td>2647</td>\n",
       "      <td>1345</td>\n",
       "      <td>2537</td>\n",
       "      <td>1828</td>\n",
       "      <td>34</td>\n",
       "      <td>115</td>\n",
       "      <td>95</td>\n",
       "      <td>556</td>\n",
       "      <td>7471</td>\n",
       "      <td>61</td>\n",
       "      <td>153</td>\n",
       "      <td>17270</td>\n",
       "      <td>2847</td>\n",
       "      <td>3</td>\n",
       "      <td>66</td>\n",
       "      <td>55</td>\n",
       "      <td>0</td>\n",
       "      <td>6</td>\n",
       "      <td>89</td>\n",
       "      <td>1106</td>\n",
       "      <td>2565</td>\n",
       "      <td>2</td>\n",
       "      <td>56</td>\n",
       "      <td>0</td>\n",
       "      <td>6</td>\n",
       "      <td>10672</td>\n",
       "      <td>1</td>\n",
       "      <td>307</td>\n",
       "      <td>1747</td>\n",
       "      <td>71</td>\n",
       "      <td>214</td>\n",
       "      <td>10980</td>\n",
       "    </tr>\n",
       "    <tr>\n",
       "      <th>201902</th>\n",
       "      <td>2019</td>\n",
       "      <td>02</td>\n",
       "      <td>224</td>\n",
       "      <td>2230</td>\n",
       "      <td>248</td>\n",
       "      <td>15</td>\n",
       "      <td>2677</td>\n",
       "      <td>1158</td>\n",
       "      <td>2696</td>\n",
       "      <td>1623</td>\n",
       "      <td>33</td>\n",
       "      <td>133</td>\n",
       "      <td>76</td>\n",
       "      <td>632</td>\n",
       "      <td>7993</td>\n",
       "      <td>67</td>\n",
       "      <td>119</td>\n",
       "      <td>19468</td>\n",
       "      <td>2866</td>\n",
       "      <td>4</td>\n",
       "      <td>31</td>\n",
       "      <td>48</td>\n",
       "      <td>0</td>\n",
       "      <td>4</td>\n",
       "      <td>98</td>\n",
       "      <td>988</td>\n",
       "      <td>2495</td>\n",
       "      <td>2</td>\n",
       "      <td>48</td>\n",
       "      <td>0</td>\n",
       "      <td>5</td>\n",
       "      <td>9948</td>\n",
       "      <td>1</td>\n",
       "      <td>257</td>\n",
       "      <td>1585</td>\n",
       "      <td>57</td>\n",
       "      <td>186</td>\n",
       "      <td>10206</td>\n",
       "    </tr>\n",
       "    <tr>\n",
       "      <th>201903</th>\n",
       "      <td>2019</td>\n",
       "      <td>03</td>\n",
       "      <td>266</td>\n",
       "      <td>2566</td>\n",
       "      <td>338</td>\n",
       "      <td>20</td>\n",
       "      <td>3016</td>\n",
       "      <td>1080</td>\n",
       "      <td>3107</td>\n",
       "      <td>1909</td>\n",
       "      <td>29</td>\n",
       "      <td>141</td>\n",
       "      <td>113</td>\n",
       "      <td>703</td>\n",
       "      <td>7771</td>\n",
       "      <td>72</td>\n",
       "      <td>166</td>\n",
       "      <td>23693</td>\n",
       "      <td>3031</td>\n",
       "      <td>0</td>\n",
       "      <td>31</td>\n",
       "      <td>75</td>\n",
       "      <td>0</td>\n",
       "      <td>3</td>\n",
       "      <td>97</td>\n",
       "      <td>1170</td>\n",
       "      <td>2662</td>\n",
       "      <td>0</td>\n",
       "      <td>85</td>\n",
       "      <td>0</td>\n",
       "      <td>3</td>\n",
       "      <td>11509</td>\n",
       "      <td>2</td>\n",
       "      <td>299</td>\n",
       "      <td>1796</td>\n",
       "      <td>64</td>\n",
       "      <td>238</td>\n",
       "      <td>11810</td>\n",
       "    </tr>\n",
       "    <tr>\n",
       "      <th>201904</th>\n",
       "      <td>2019</td>\n",
       "      <td>04</td>\n",
       "      <td>279</td>\n",
       "      <td>2456</td>\n",
       "      <td>336</td>\n",
       "      <td>38</td>\n",
       "      <td>2996</td>\n",
       "      <td>1301</td>\n",
       "      <td>3072</td>\n",
       "      <td>1954</td>\n",
       "      <td>33</td>\n",
       "      <td>111</td>\n",
       "      <td>108</td>\n",
       "      <td>689</td>\n",
       "      <td>7991</td>\n",
       "      <td>60</td>\n",
       "      <td>169</td>\n",
       "      <td>18730</td>\n",
       "      <td>3274</td>\n",
       "      <td>0</td>\n",
       "      <td>22</td>\n",
       "      <td>59</td>\n",
       "      <td>0</td>\n",
       "      <td>3</td>\n",
       "      <td>172</td>\n",
       "      <td>1255</td>\n",
       "      <td>2793</td>\n",
       "      <td>1</td>\n",
       "      <td>59</td>\n",
       "      <td>0</td>\n",
       "      <td>3</td>\n",
       "      <td>10844</td>\n",
       "      <td>1</td>\n",
       "      <td>296</td>\n",
       "      <td>1865</td>\n",
       "      <td>69</td>\n",
       "      <td>229</td>\n",
       "      <td>11141</td>\n",
       "    </tr>\n",
       "    <tr>\n",
       "      <th>201905</th>\n",
       "      <td>2019</td>\n",
       "      <td>05</td>\n",
       "      <td>238</td>\n",
       "      <td>2600</td>\n",
       "      <td>308</td>\n",
       "      <td>21</td>\n",
       "      <td>3064</td>\n",
       "      <td>1300</td>\n",
       "      <td>3199</td>\n",
       "      <td>1905</td>\n",
       "      <td>52</td>\n",
       "      <td>153</td>\n",
       "      <td>92</td>\n",
       "      <td>767</td>\n",
       "      <td>8817</td>\n",
       "      <td>58</td>\n",
       "      <td>141</td>\n",
       "      <td>20480</td>\n",
       "      <td>3450</td>\n",
       "      <td>1</td>\n",
       "      <td>47</td>\n",
       "      <td>45</td>\n",
       "      <td>0</td>\n",
       "      <td>7</td>\n",
       "      <td>104</td>\n",
       "      <td>1285</td>\n",
       "      <td>2429</td>\n",
       "      <td>1</td>\n",
       "      <td>50</td>\n",
       "      <td>0</td>\n",
       "      <td>7</td>\n",
       "      <td>11263</td>\n",
       "      <td>1</td>\n",
       "      <td>283</td>\n",
       "      <td>1914</td>\n",
       "      <td>67</td>\n",
       "      <td>199</td>\n",
       "      <td>11547</td>\n",
       "    </tr>\n",
       "  </tbody>\n",
       "</table>\n",
       "</div>"
      ],
      "text/plain": [
       "Ocorrencia   ANO MES  Nº DE ARMAS DE FOGO APREENDIDAS  \\\n",
       "201901      2019  01                              242   \n",
       "201902      2019  02                              224   \n",
       "201903      2019  03                              266   \n",
       "201904      2019  04                              279   \n",
       "201905      2019  05                              238   \n",
       "\n",
       "Ocorrencia  Nº DE FLAGRANTES LAVRADOS  \\\n",
       "201901                           2190   \n",
       "201902                           2230   \n",
       "201903                           2566   \n",
       "201904                           2456   \n",
       "201905                           2600   \n",
       "\n",
       "Ocorrencia  Nº DE INFRATORES APREENDIDOS EM FLAGRANTE  \\\n",
       "201901                                            173   \n",
       "201902                                            248   \n",
       "201903                                            338   \n",
       "201904                                            336   \n",
       "201905                                            308   \n",
       "\n",
       "Ocorrencia  Nº DE INFRATORES APREENDIDOS POR MANDADO  \\\n",
       "201901                                            77   \n",
       "201902                                            15   \n",
       "201903                                            20   \n",
       "201904                                            38   \n",
       "201905                                            21   \n",
       "\n",
       "Ocorrencia  Nº DE PESSOAS PRESAS EM FLAGRANTE  \\\n",
       "201901                                   2647   \n",
       "201902                                   2677   \n",
       "201903                                   3016   \n",
       "201904                                   2996   \n",
       "201905                                   3064   \n",
       "\n",
       "Ocorrencia  Nº DE PESSOAS PRESAS POR MANDADO  Nº DE PRISÕES EFETUADAS  \\\n",
       "201901                                  1345                     2537   \n",
       "201902                                  1158                     2696   \n",
       "201903                                  1080                     3107   \n",
       "201904                                  1301                     3072   \n",
       "201905                                  1300                     3199   \n",
       "\n",
       "Ocorrencia  Nº DE VEÍCULOS RECUPERADOS  \\\n",
       "201901                            1828   \n",
       "201902                            1623   \n",
       "201903                            1909   \n",
       "201904                            1954   \n",
       "201905                            1905   \n",
       "\n",
       "Ocorrencia  OCORRÊNCIAS DE APREENSÃO DE ENTORPECENTES(1)  \\\n",
       "201901                                                34   \n",
       "201902                                                33   \n",
       "201903                                                29   \n",
       "201904                                                33   \n",
       "201905                                                52   \n",
       "\n",
       "Ocorrencia  OCORRÊNCIAS DE PORTE DE ENTORPECENTES  \\\n",
       "201901                                        115   \n",
       "201902                                        133   \n",
       "201903                                        141   \n",
       "201904                                        111   \n",
       "201905                                        153   \n",
       "\n",
       "Ocorrencia  OCORRÊNCIAS DE PORTE ILEGAL DE ARMA  \\\n",
       "201901                                       95   \n",
       "201902                                       76   \n",
       "201903                                      113   \n",
       "201904                                      108   \n",
       "201905                                       92   \n",
       "\n",
       "Ocorrencia  OCORRÊNCIAS DE TRÁFICO DE ENTORPECENTES  \\\n",
       "201901                                          556   \n",
       "201902                                          632   \n",
       "201903                                          703   \n",
       "201904                                          689   \n",
       "201905                                          767   \n",
       "\n",
       "Ocorrencia  TOT. DE INQUÉRITOS POLICIAIS INSTAURADOS  ESTUPRO  \\\n",
       "201901                                          7471       61   \n",
       "201902                                          7993       67   \n",
       "201903                                          7771       72   \n",
       "201904                                          7991       60   \n",
       "201905                                          8817       58   \n",
       "\n",
       "Ocorrencia  ESTUPRO DE VULNERÁVEL  FURTO - OUTROS  FURTO DE VEÍCULO  \\\n",
       "201901                        153           17270              2847   \n",
       "201902                        119           19468              2866   \n",
       "201903                        166           23693              3031   \n",
       "201904                        169           18730              3274   \n",
       "201905                        141           20480              3450   \n",
       "\n",
       "Ocorrencia  HOMICÍDIO CULPOSO OUTROS  \\\n",
       "201901                             3   \n",
       "201902                             4   \n",
       "201903                             0   \n",
       "201904                             0   \n",
       "201905                             1   \n",
       "\n",
       "Ocorrencia  HOMICÍDIO CULPOSO POR ACIDENTE DE TRÂNSITO  HOMICÍDIO DOLOSO (2)  \\\n",
       "201901                                              66                    55   \n",
       "201902                                              31                    48   \n",
       "201903                                              31                    75   \n",
       "201904                                              22                    59   \n",
       "201905                                              47                    45   \n",
       "\n",
       "Ocorrencia  HOMICÍDIO DOLOSO POR ACIDENTE DE TRÂNSITO  LATROCÍNIO  \\\n",
       "201901                                              0           6   \n",
       "201902                                              0           4   \n",
       "201903                                              0           3   \n",
       "201904                                              0           3   \n",
       "201905                                              0           7   \n",
       "\n",
       "Ocorrencia  LESÃO CORPORAL CULPOSA - OUTRAS  \\\n",
       "201901                                   89   \n",
       "201902                                   98   \n",
       "201903                                   97   \n",
       "201904                                  172   \n",
       "201905                                  104   \n",
       "\n",
       "Ocorrencia  LESÃO CORPORAL CULPOSA POR ACIDENTE DE TRÂNSITO  \\\n",
       "201901                                                 1106   \n",
       "201902                                                  988   \n",
       "201903                                                 1170   \n",
       "201904                                                 1255   \n",
       "201905                                                 1285   \n",
       "\n",
       "Ocorrencia  LESÃO CORPORAL DOLOSA  LESÃO CORPORAL SEGUIDA DE MORTE  \\\n",
       "201901                       2565                                2   \n",
       "201902                       2495                                2   \n",
       "201903                       2662                                0   \n",
       "201904                       2793                                1   \n",
       "201905                       2429                                1   \n",
       "\n",
       "Ocorrencia  Nº DE VÍTIMAS EM HOMICÍDIO DOLOSO (3)  \\\n",
       "201901                                         56   \n",
       "201902                                         48   \n",
       "201903                                         85   \n",
       "201904                                         59   \n",
       "201905                                         50   \n",
       "\n",
       "Ocorrencia  Nº DE VÍTIMAS EM HOMICÍDIO DOLOSO POR ACIDENTE DE TRÂNSITO  \\\n",
       "201901                                                      0            \n",
       "201902                                                      0            \n",
       "201903                                                      0            \n",
       "201904                                                      0            \n",
       "201905                                                      0            \n",
       "\n",
       "Ocorrencia  Nº DE VÍTIMAS EM LATROCÍNIO  ROUBO - OUTROS  ROUBO A BANCO  \\\n",
       "201901                                6           10672              1   \n",
       "201902                                5            9948              1   \n",
       "201903                                3           11509              2   \n",
       "201904                                3           10844              1   \n",
       "201905                                7           11263              1   \n",
       "\n",
       "Ocorrencia  ROUBO DE CARGA  ROUBO DE VEÍCULO  TENTATIVA DE HOMICÍDIO  \\\n",
       "201901                 307              1747                      71   \n",
       "201902                 257              1585                      57   \n",
       "201903                 299              1796                      64   \n",
       "201904                 296              1865                      69   \n",
       "201905                 283              1914                      67   \n",
       "\n",
       "Ocorrencia  TOTAL DE ESTUPRO (4)  TOTAL DE ROUBO - OUTROS (1)  \n",
       "201901                       214                        10980  \n",
       "201902                       186                        10206  \n",
       "201903                       238                        11810  \n",
       "201904                       229                        11141  \n",
       "201905                       199                        11547  "
      ]
     },
     "execution_count": 21,
     "metadata": {},
     "output_type": "execute_result"
    }
   ],
   "source": [
    "df = pd.read_parquet(INTERIM_DATA_FOLDER+'df_consolidado.pqt')\n",
    "\n",
    "print(f\"\"\"df's shape: {df.shape}\"\"\")\n",
    "\n",
    "df.head()"
   ]
  },
  {
   "cell_type": "markdown",
   "id": "24b0156d",
   "metadata": {},
   "source": [
    "# Data processing\n",
    "Put here the core of the notebook. Feel free di further split this section into subsections."
   ]
  },
  {
   "cell_type": "code",
   "execution_count": 22,
   "id": "00ffb73f",
   "metadata": {
    "ExecuteTime": {
     "end_time": "2021-08-30T00:31:36.366173Z",
     "start_time": "2021-08-30T00:31:36.247930Z"
    }
   },
   "outputs": [],
   "source": [
    "dct_crime = {\n",
    "    'ESTUPRO': [crime for crime in df.columns if 'ESTUPRO' in crime],\n",
    "    'ROUBO': [crime for crime in df.columns if 'ROUBO' in crime],\n",
    "    'FURTO': [crime for crime in df.columns if 'FURTO' in crime],\n",
    "    'LESÃO': [crime for crime in df.columns if 'LESÃO' in crime],\n",
    "    'HOMICÍDIO': [crime for crime in df.columns if 'HOMICÍDIO' in crime]\n",
    "}"
   ]
  },
  {
   "cell_type": "code",
   "execution_count": 25,
   "id": "afc13a04",
   "metadata": {
    "ExecuteTime": {
     "end_time": "2021-08-30T00:32:16.185974Z",
     "start_time": "2021-08-30T00:32:16.048186Z"
    }
   },
   "outputs": [
    {
     "data": {
      "text/html": [
       "<div>\n",
       "<style scoped>\n",
       "    .dataframe tbody tr th:only-of-type {\n",
       "        vertical-align: middle;\n",
       "    }\n",
       "\n",
       "    .dataframe tbody tr th {\n",
       "        vertical-align: top;\n",
       "    }\n",
       "\n",
       "    .dataframe thead th {\n",
       "        text-align: right;\n",
       "    }\n",
       "</style>\n",
       "<table border=\"1\" class=\"dataframe\">\n",
       "  <thead>\n",
       "    <tr style=\"text-align: right;\">\n",
       "      <th>Ocorrencia</th>\n",
       "      <th>ANO</th>\n",
       "      <th>ESTUPRO</th>\n",
       "      <th>ROUBO</th>\n",
       "      <th>FURTO</th>\n",
       "      <th>LESÃO</th>\n",
       "      <th>HOMICÍDIO</th>\n",
       "    </tr>\n",
       "  </thead>\n",
       "  <tbody>\n",
       "    <tr>\n",
       "      <th>201901</th>\n",
       "      <td>2019</td>\n",
       "      <td>428</td>\n",
       "      <td>23707</td>\n",
       "      <td>20117</td>\n",
       "      <td>3762</td>\n",
       "      <td>251</td>\n",
       "    </tr>\n",
       "    <tr>\n",
       "      <th>201902</th>\n",
       "      <td>2019</td>\n",
       "      <td>372</td>\n",
       "      <td>21997</td>\n",
       "      <td>22334</td>\n",
       "      <td>3583</td>\n",
       "      <td>188</td>\n",
       "    </tr>\n",
       "    <tr>\n",
       "      <th>201903</th>\n",
       "      <td>2019</td>\n",
       "      <td>476</td>\n",
       "      <td>25416</td>\n",
       "      <td>26724</td>\n",
       "      <td>3929</td>\n",
       "      <td>255</td>\n",
       "    </tr>\n",
       "    <tr>\n",
       "      <th>201904</th>\n",
       "      <td>2019</td>\n",
       "      <td>458</td>\n",
       "      <td>24147</td>\n",
       "      <td>22004</td>\n",
       "      <td>4221</td>\n",
       "      <td>209</td>\n",
       "    </tr>\n",
       "    <tr>\n",
       "      <th>201905</th>\n",
       "      <td>2019</td>\n",
       "      <td>398</td>\n",
       "      <td>25008</td>\n",
       "      <td>23930</td>\n",
       "      <td>3819</td>\n",
       "      <td>210</td>\n",
       "    </tr>\n",
       "    <tr>\n",
       "      <th>...</th>\n",
       "      <td>...</td>\n",
       "      <td>...</td>\n",
       "      <td>...</td>\n",
       "      <td>...</td>\n",
       "      <td>...</td>\n",
       "      <td>...</td>\n",
       "    </tr>\n",
       "    <tr>\n",
       "      <th>202103</th>\n",
       "      <td>2021</td>\n",
       "      <td>426</td>\n",
       "      <td>20660</td>\n",
       "      <td>14985</td>\n",
       "      <td>3309</td>\n",
       "      <td>200</td>\n",
       "    </tr>\n",
       "    <tr>\n",
       "      <th>202104</th>\n",
       "      <td>2021</td>\n",
       "      <td>368</td>\n",
       "      <td>19723</td>\n",
       "      <td>14587</td>\n",
       "      <td>2819</td>\n",
       "      <td>194</td>\n",
       "    </tr>\n",
       "    <tr>\n",
       "      <th>202105</th>\n",
       "      <td>2021</td>\n",
       "      <td>362</td>\n",
       "      <td>21934</td>\n",
       "      <td>17677</td>\n",
       "      <td>3123</td>\n",
       "      <td>186</td>\n",
       "    </tr>\n",
       "    <tr>\n",
       "      <th>202106</th>\n",
       "      <td>2021</td>\n",
       "      <td>366</td>\n",
       "      <td>21173</td>\n",
       "      <td>17942</td>\n",
       "      <td>2995</td>\n",
       "      <td>186</td>\n",
       "    </tr>\n",
       "    <tr>\n",
       "      <th>202107</th>\n",
       "      <td>2021</td>\n",
       "      <td>362</td>\n",
       "      <td>22868</td>\n",
       "      <td>19057</td>\n",
       "      <td>3168</td>\n",
       "      <td>174</td>\n",
       "    </tr>\n",
       "  </tbody>\n",
       "</table>\n",
       "<p>31 rows × 6 columns</p>\n",
       "</div>"
      ],
      "text/plain": [
       "Ocorrencia   ANO  ESTUPRO  ROUBO  FURTO  LESÃO  HOMICÍDIO\n",
       "201901      2019      428  23707  20117   3762        251\n",
       "201902      2019      372  21997  22334   3583        188\n",
       "201903      2019      476  25416  26724   3929        255\n",
       "201904      2019      458  24147  22004   4221        209\n",
       "201905      2019      398  25008  23930   3819        210\n",
       "...          ...      ...    ...    ...    ...        ...\n",
       "202103      2021      426  20660  14985   3309        200\n",
       "202104      2021      368  19723  14587   2819        194\n",
       "202105      2021      362  21934  17677   3123        186\n",
       "202106      2021      366  21173  17942   2995        186\n",
       "202107      2021      362  22868  19057   3168        174\n",
       "\n",
       "[31 rows x 6 columns]"
      ]
     },
     "execution_count": 25,
     "metadata": {},
     "output_type": "execute_result"
    }
   ],
   "source": [
    "df_crime_consolidado = df[[\"ANO\"]].copy()\n",
    "\n",
    "for key, value in dct_crime.items():\n",
    "    df_crime_consolidado[key] = df[value].sum(axis=1)\n",
    "    \n",
    "df_crime_consolidado"
   ]
  },
  {
   "cell_type": "code",
   "execution_count": 10,
   "id": "d076f732",
   "metadata": {
    "ExecuteTime": {
     "end_time": "2021-08-30T00:11:05.717825Z",
     "start_time": "2021-08-30T00:11:00.842061Z"
    }
   },
   "outputs": [
    {
     "data": {
      "image/png": "[encoded data removed]",
      "text/plain": [
       "<Figure size 949.05x900 with 30 Axes>"
      ]
     },
     "metadata": {
      "needs_background": "light"
     },
     "output_type": "display_data"
    }
   ],
   "source": [
    "sns.pairplot(df_crime_consolidado, hue='ANO');"
   ]
  },
  {
   "cell_type": "code",
   "execution_count": 26,
   "id": "83f044ed",
   "metadata": {
    "ExecuteTime": {
     "end_time": "2021-08-30T00:32:41.354409Z",
     "start_time": "2021-08-30T00:32:40.978369Z"
    }
   },
   "outputs": [
    {
     "data": {
      "application/vnd.plotly.v1+json": {
       "config": {
        "plotlyServerURL": "https://plot.ly"
       },
       "data": [
        {
         "marker": {
          "color": "rgb(31, 119, 180)"
         },
         "showlegend": false,
         "type": "box",
         "xaxis": "x",
         "y": [
          428,
          372,
          476,
          458,
          398,
          354,
          396,
          418,
          506,
          604,
          496,
          420
         ],
         "yaxis": "y"
        },
        {
         "marker": {
          "color": "rgb(255, 127, 14)"
         },
         "showlegend": false,
         "type": "box",
         "xaxis": "x",
         "y": [
          476,
          410,
          438,
          256,
          240,
          372,
          410,
          382,
          426,
          396,
          420,
          410
         ],
         "yaxis": "y"
        },
        {
         "marker": {
          "color": "rgb(44, 160, 44)"
         },
         "showlegend": false,
         "type": "box",
         "xaxis": "x",
         "y": [
          434,
          434,
          426,
          368,
          362,
          366,
          362
         ],
         "yaxis": "y"
        },
        {
         "marker": {
          "color": "rgb(31, 119, 180)",
          "size": 6
         },
         "mode": "markers",
         "name": "2019",
         "showlegend": true,
         "type": "scatter",
         "x": [
          23707,
          21997,
          25416,
          24147,
          25008,
          26774,
          25726,
          26132,
          24605,
          26742,
          26406,
          26837
         ],
         "xaxis": "x2",
         "y": [
          428,
          372,
          476,
          458,
          398,
          354,
          396,
          418,
          506,
          604,
          496,
          420
         ],
         "yaxis": "y2"
        },
        {
         "marker": {
          "color": "rgb(255, 127, 14)",
          "size": 6
         },
         "mode": "markers",
         "name": "2020",
         "showlegend": true,
         "type": "scatter",
         "x": [
          28713,
          30528,
          25596,
          17555,
          18783,
          22292,
          21342,
          18773,
          18092,
          19389,
          23350,
          24578
         ],
         "xaxis": "x2",
         "y": [
          476,
          410,
          438,
          256,
          240,
          372,
          410,
          382,
          426,
          396,
          420,
          410
         ],
         "yaxis": "y2"
        },
        {
         "marker": {
          "color": "rgb(44, 160, 44)",
          "size": 6
         },
         "mode": "markers",
         "name": "2021",
         "showlegend": true,
         "type": "scatter",
         "x": [
          22694,
          22915,
          20660,
          19723,
          21934,
          21173,
          22868
         ],
         "xaxis": "x2",
         "y": [
          434,
          434,
          426,
          368,
          362,
          366,
          362
         ],
         "yaxis": "y2"
        },
        {
         "marker": {
          "color": "rgb(31, 119, 180)",
          "size": 6
         },
         "mode": "markers",
         "name": "2019",
         "showlegend": false,
         "type": "scatter",
         "x": [
          20117,
          22334,
          26724,
          22004,
          23930,
          22429,
          21313,
          22036,
          20224,
          22332,
          21148,
          19306
         ],
         "xaxis": "x3",
         "y": [
          428,
          372,
          476,
          458,
          398,
          354,
          396,
          418,
          506,
          604,
          496,
          420
         ],
         "yaxis": "y3"
        },
        {
         "marker": {
          "color": "rgb(255, 127, 14)",
          "size": 6
         },
         "mode": "markers",
         "name": "2020",
         "showlegend": false,
         "type": "scatter",
         "x": [
          21558,
          27613,
          17072,
          9109,
          10846,
          14316,
          15805,
          14178,
          14015,
          14432,
          16411,
          16124
         ],
         "xaxis": "x3",
         "y": [
          476,
          410,
          438,
          256,
          240,
          372,
          410,
          382,
          426,
          396,
          420,
          410
         ],
         "yaxis": "y3"
        },
        {
         "marker": {
          "color": "rgb(44, 160, 44)",
          "size": 6
         },
         "mode": "markers",
         "name": "2021",
         "showlegend": false,
         "type": "scatter",
         "x": [
          15471,
          16261,
          14985,
          14587,
          17677,
          17942,
          19057
         ],
         "xaxis": "x3",
         "y": [
          434,
          434,
          426,
          368,
          362,
          366,
          362
         ],
         "yaxis": "y3"
        },
        {
         "marker": {
          "color": "rgb(31, 119, 180)",
          "size": 6
         },
         "mode": "markers",
         "name": "2019",
         "showlegend": false,
         "type": "scatter",
         "x": [
          3762,
          3583,
          3929,
          4221,
          3819,
          3528,
          3628,
          3610,
          3616,
          4108,
          3801,
          3746
         ],
         "xaxis": "x4",
         "y": [
          428,
          372,
          476,
          458,
          398,
          354,
          396,
          418,
          506,
          604,
          496,
          420
         ],
         "yaxis": "y4"
        },
        {
         "marker": {
          "color": "rgb(255, 127, 14)",
          "size": 6
         },
         "mode": "markers",
         "name": "2020",
         "showlegend": false,
         "type": "scatter",
         "x": [
          3488,
          3417,
          3085,
          2193,
          2148,
          2579,
          3136,
          3241,
          3080,
          3300,
          3499,
          3603
         ],
         "xaxis": "x4",
         "y": [
          476,
          410,
          438,
          256,
          240,
          372,
          410,
          382,
          426,
          396,
          420,
          410
         ],
         "yaxis": "y4"
        },
        {
         "marker": {
          "color": "rgb(44, 160, 44)",
          "size": 6
         },
         "mode": "markers",
         "name": "2021",
         "showlegend": false,
         "type": "scatter",
         "x": [
          3317,
          3334,
          3309,
          2819,
          3123,
          2995,
          3168
         ],
         "xaxis": "x4",
         "y": [
          434,
          434,
          426,
          368,
          362,
          366,
          362
         ],
         "yaxis": "y4"
        },
        {
         "marker": {
          "color": "rgb(31, 119, 180)",
          "size": 6
         },
         "mode": "markers",
         "name": "2019",
         "showlegend": false,
         "type": "scatter",
         "x": [
          251,
          188,
          255,
          209,
          210,
          182,
          207,
          181,
          204,
          221,
          223,
          201
         ],
         "xaxis": "x5",
         "y": [
          428,
          372,
          476,
          458,
          398,
          354,
          396,
          418,
          506,
          604,
          496,
          420
         ],
         "yaxis": "y5"
        },
        {
         "marker": {
          "color": "rgb(255, 127, 14)",
          "size": 6
         },
         "mode": "markers",
         "name": "2020",
         "showlegend": false,
         "type": "scatter",
         "x": [
          239,
          191,
          219,
          174,
          189,
          176,
          181,
          201,
          210,
          172,
          206,
          229
         ],
         "xaxis": "x5",
         "y": [
          476,
          410,
          438,
          256,
          240,
          372,
          410,
          382,
          426,
          396,
          420,
          410
         ],
         "yaxis": "y5"
        },
        {
         "marker": {
          "color": "rgb(44, 160, 44)",
          "size": 6
         },
         "mode": "markers",
         "name": "2021",
         "showlegend": false,
         "type": "scatter",
         "x": [
          220,
          151,
          200,
          194,
          186,
          186,
          174
         ],
         "xaxis": "x5",
         "y": [
          434,
          434,
          426,
          368,
          362,
          366,
          362
         ],
         "yaxis": "y5"
        },
        {
         "marker": {
          "color": "rgb(31, 119, 180)",
          "size": 6
         },
         "mode": "markers",
         "name": "2019",
         "showlegend": false,
         "type": "scatter",
         "x": [
          428,
          372,
          476,
          458,
          398,
          354,
          396,
          418,
          506,
          604,
          496,
          420
         ],
         "xaxis": "x6",
         "y": [
          23707,
          21997,
          25416,
          24147,
          25008,
          26774,
          25726,
          26132,
          24605,
          26742,
          26406,
          26837
         ],
         "yaxis": "y6"
        },
        {
         "marker": {
          "color": "rgb(255, 127, 14)",
          "size": 6
         },
         "mode": "markers",
         "name": "2020",
         "showlegend": false,
         "type": "scatter",
         "x": [
          476,
          410,
          438,
          256,
          240,
          372,
          410,
          382,
          426,
          396,
          420,
          410
         ],
         "xaxis": "x6",
         "y": [
          28713,
          30528,
          25596,
          17555,
          18783,
          22292,
          21342,
          18773,
          18092,
          19389,
          23350,
          24578
         ],
         "yaxis": "y6"
        },
        {
         "marker": {
          "color": "rgb(44, 160, 44)",
          "size": 6
         },
         "mode": "markers",
         "name": "2021",
         "showlegend": false,
         "type": "scatter",
         "x": [
          434,
          434,
          426,
          368,
          362,
          366,
          362
         ],
         "xaxis": "x6",
         "y": [
          22694,
          22915,
          20660,
          19723,
          21934,
          21173,
          22868
         ],
         "yaxis": "y6"
        },
        {
         "marker": {
          "color": "rgb(31, 119, 180)"
         },
         "showlegend": false,
         "type": "box",
         "xaxis": "x7",
         "y": [
          23707,
          21997,
          25416,
          24147,
          25008,
          26774,
          25726,
          26132,
          24605,
          26742,
          26406,
          26837
         ],
         "yaxis": "y7"
        },
        {
         "marker": {
          "color": "rgb(255, 127, 14)"
         },
         "showlegend": false,
         "type": "box",
         "xaxis": "x7",
         "y": [
          28713,
          30528,
          25596,
          17555,
          18783,
          22292,
          21342,
          18773,
          18092,
          19389,
          23350,
          24578
         ],
         "yaxis": "y7"
        },
        {
         "marker": {
          "color": "rgb(44, 160, 44)"
         },
         "showlegend": false,
         "type": "box",
         "xaxis": "x7",
         "y": [
          22694,
          22915,
          20660,
          19723,
          21934,
          21173,
          22868
         ],
         "yaxis": "y7"
        },
        {
         "marker": {
          "color": "rgb(31, 119, 180)",
          "size": 6
         },
         "mode": "markers",
         "name": "2019",
         "showlegend": false,
         "type": "scatter",
         "x": [
          20117,
          22334,
          26724,
          22004,
          23930,
          22429,
          21313,
          22036,
          20224,
          22332,
          21148,
          19306
         ],
         "xaxis": "x8",
         "y": [
          23707,
          21997,
          25416,
          24147,
          25008,
          26774,
          25726,
          26132,
          24605,
          26742,
          26406,
          26837
         ],
         "yaxis": "y8"
        },
        {
         "marker": {
          "color": "rgb(255, 127, 14)",
          "size": 6
         },
         "mode": "markers",
         "name": "2020",
         "showlegend": false,
         "type": "scatter",
         "x": [
          21558,
          27613,
          17072,
          9109,
          10846,
          14316,
          15805,
          14178,
          14015,
          14432,
          16411,
          16124
         ],
         "xaxis": "x8",
         "y": [
          28713,
          30528,
          25596,
          17555,
          18783,
          22292,
          21342,
          18773,
          18092,
          19389,
          23350,
          24578
         ],
         "yaxis": "y8"
        },
        {
         "marker": {
          "color": "rgb(44, 160, 44)",
          "size": 6
         },
         "mode": "markers",
         "name": "2021",
         "showlegend": false,
         "type": "scatter",
         "x": [
          15471,
          16261,
          14985,
          14587,
          17677,
          17942,
          19057
         ],
         "xaxis": "x8",
         "y": [
          22694,
          22915,
          20660,
          19723,
          21934,
          21173,
          22868
         ],
         "yaxis": "y8"
        },
        {
         "marker": {
          "color": "rgb(31, 119, 180)",
          "size": 6
         },
         "mode": "markers",
         "name": "2019",
         "showlegend": false,
         "type": "scatter",
         "x": [
          3762,
          3583,
          3929,
          4221,
          3819,
          3528,
          3628,
          3610,
          3616,
          4108,
          3801,
          3746
         ],
         "xaxis": "x9",
         "y": [
          23707,
          21997,
          25416,
          24147,
          25008,
          26774,
          25726,
          26132,
          24605,
          26742,
          26406,
          26837
         ],
         "yaxis": "y9"
        },
        {
         "marker": {
          "color": "rgb(255, 127, 14)",
          "size": 6
         },
         "mode": "markers",
         "name": "2020",
         "showlegend": false,
         "type": "scatter",
         "x": [
          3488,
          3417,
          3085,
          2193,
          2148,
          2579,
          3136,
          3241,
          3080,
          3300,
          3499,
          3603
         ],
         "xaxis": "x9",
         "y": [
          28713,
          30528,
          25596,
          17555,
          18783,
          22292,
          21342,
          18773,
          18092,
          19389,
          23350,
          24578
         ],
         "yaxis": "y9"
        },
        {
         "marker": {
          "color": "rgb(44, 160, 44)",
          "size": 6
         },
         "mode": "markers",
         "name": "2021",
         "showlegend": false,
         "type": "scatter",
         "x": [
          3317,
          3334,
          3309,
          2819,
          3123,
          2995,
          3168
         ],
         "xaxis": "x9",
         "y": [
          22694,
          22915,
          20660,
          19723,
          21934,
          21173,
          22868
         ],
         "yaxis": "y9"
        },
        {
         "marker": {
          "color": "rgb(31, 119, 180)",
          "size": 6
         },
         "mode": "markers",
         "name": "2019",
         "showlegend": false,
         "type": "scatter",
         "x": [
          251,
          188,
          255,
          209,
          210,
          182,
          207,
          181,
          204,
          221,
          223,
          201
         ],
         "xaxis": "x10",
         "y": [
          23707,
          21997,
          25416,
          24147,
          25008,
          26774,
          25726,
          26132,
          24605,
          26742,
          26406,
          26837
         ],
         "yaxis": "y10"
        },
        {
         "marker": {
          "color": "rgb(255, 127, 14)",
          "size": 6
         },
         "mode": "markers",
         "name": "2020",
         "showlegend": false,
         "type": "scatter",
         "x": [
          239,
          191,
          219,
          174,
          189,
          176,
          181,
          201,
          210,
          172,
          206,
          229
         ],
         "xaxis": "x10",
         "y": [
          28713,
          30528,
          25596,
          17555,
          18783,
          22292,
          21342,
          18773,
          18092,
          19389,
          23350,
          24578
         ],
         "yaxis": "y10"
        },
        {
         "marker": {
          "color": "rgb(44, 160, 44)",
          "size": 6
         },
         "mode": "markers",
         "name": "2021",
         "showlegend": false,
         "type": "scatter",
         "x": [
          220,
          151,
          200,
          194,
          186,
          186,
          174
         ],
         "xaxis": "x10",
         "y": [
          22694,
          22915,
          20660,
          19723,
          21934,
          21173,
          22868
         ],
         "yaxis": "y10"
        },
        {
         "marker": {
          "color": "rgb(31, 119, 180)",
          "size": 6
         },
         "mode": "markers",
         "name": "2019",
         "showlegend": false,
         "type": "scatter",
         "x": [
          428,
          372,
          476,
          458,
          398,
          354,
          396,
          418,
          506,
          604,
          496,
          420
         ],
         "xaxis": "x11",
         "y": [
          20117,
          22334,
          26724,
          22004,
          23930,
          22429,
          21313,
          22036,
          20224,
          22332,
          21148,
          19306
         ],
         "yaxis": "y11"
        },
        {
         "marker": {
          "color": "rgb(255, 127, 14)",
          "size": 6
         },
         "mode": "markers",
         "name": "2020",
         "showlegend": false,
         "type": "scatter",
         "x": [
          476,
          410,
          438,
          256,
          240,
          372,
          410,
          382,
          426,
          396,
          420,
          410
         ],
         "xaxis": "x11",
         "y": [
          21558,
          27613,
          17072,
          9109,
          10846,
          14316,
          15805,
          14178,
          14015,
          14432,
          16411,
          16124
         ],
         "yaxis": "y11"
        },
        {
         "marker": {
          "color": "rgb(44, 160, 44)",
          "size": 6
         },
         "mode": "markers",
         "name": "2021",
         "showlegend": false,
         "type": "scatter",
         "x": [
          434,
          434,
          426,
          368,
          362,
          366,
          362
         ],
         "xaxis": "x11",
         "y": [
          15471,
          16261,
          14985,
          14587,
          17677,
          17942,
          19057
         ],
         "yaxis": "y11"
        },
        {
         "marker": {
          "color": "rgb(31, 119, 180)",
          "size": 6
         },
         "mode": "markers",
         "name": "2019",
         "showlegend": false,
         "type": "scatter",
         "x": [
          23707,
          21997,
          25416,
          24147,
          25008,
          26774,
          25726,
          26132,
          24605,
          26742,
          26406,
          26837
         ],
         "xaxis": "x12",
         "y": [
          20117,
          22334,
          26724,
          22004,
          23930,
          22429,
          21313,
          22036,
          20224,
          22332,
          21148,
          19306
         ],
         "yaxis": "y12"
        },
        {
         "marker": {
          "color": "rgb(255, 127, 14)",
          "size": 6
         },
         "mode": "markers",
         "name": "2020",
         "showlegend": false,
         "type": "scatter",
         "x": [
          28713,
          30528,
          25596,
          17555,
          18783,
          22292,
          21342,
          18773,
          18092,
          19389,
          23350,
          24578
         ],
         "xaxis": "x12",
         "y": [
          21558,
          27613,
          17072,
          9109,
          10846,
          14316,
          15805,
          14178,
          14015,
          14432,
          16411,
          16124
         ],
         "yaxis": "y12"
        },
        {
         "marker": {
          "color": "rgb(44, 160, 44)",
          "size": 6
         },
         "mode": "markers",
         "name": "2021",
         "showlegend": false,
         "type": "scatter",
         "x": [
          22694,
          22915,
          20660,
          19723,
          21934,
          21173,
          22868
         ],
         "xaxis": "x12",
         "y": [
          15471,
          16261,
          14985,
          14587,
          17677,
          17942,
          19057
         ],
         "yaxis": "y12"
        },
        {
         "marker": {
          "color": "rgb(31, 119, 180)"
         },
         "showlegend": false,
         "type": "box",
         "xaxis": "x13",
         "y": [
          20117,
          22334,
          26724,
          22004,
          23930,
          22429,
          21313,
          22036,
          20224,
          22332,
          21148,
          19306
         ],
         "yaxis": "y13"
        },
        {
         "marker": {
          "color": "rgb(255, 127, 14)"
         },
         "showlegend": false,
         "type": "box",
         "xaxis": "x13",
         "y": [
          21558,
          27613,
          17072,
          9109,
          10846,
          14316,
          15805,
          14178,
          14015,
          14432,
          16411,
          16124
         ],
         "yaxis": "y13"
        },
        {
         "marker": {
          "color": "rgb(44, 160, 44)"
         },
         "showlegend": false,
         "type": "box",
         "xaxis": "x13",
         "y": [
          15471,
          16261,
          14985,
          14587,
          17677,
          17942,
          19057
         ],
         "yaxis": "y13"
        },
        {
         "marker": {
          "color": "rgb(31, 119, 180)",
          "size": 6
         },
         "mode": "markers",
         "name": "2019",
         "showlegend": false,
         "type": "scatter",
         "x": [
          3762,
          3583,
          3929,
          4221,
          3819,
          3528,
          3628,
          3610,
          3616,
          4108,
          3801,
          3746
         ],
         "xaxis": "x14",
         "y": [
          20117,
          22334,
          26724,
          22004,
          23930,
          22429,
          21313,
          22036,
          20224,
          22332,
          21148,
          19306
         ],
         "yaxis": "y14"
        },
        {
         "marker": {
          "color": "rgb(255, 127, 14)",
          "size": 6
         },
         "mode": "markers",
         "name": "2020",
         "showlegend": false,
         "type": "scatter",
         "x": [
          3488,
          3417,
          3085,
          2193,
          2148,
          2579,
          3136,
          3241,
          3080,
          3300,
          3499,
          3603
         ],
         "xaxis": "x14",
         "y": [
          21558,
          27613,
          17072,
          9109,
          10846,
          14316,
          15805,
          14178,
          14015,
          14432,
          16411,
          16124
         ],
         "yaxis": "y14"
        },
        {
         "marker": {
          "color": "rgb(44, 160, 44)",
          "size": 6
         },
         "mode": "markers",
         "name": "2021",
         "showlegend": false,
         "type": "scatter",
         "x": [
          3317,
          3334,
          3309,
          2819,
          3123,
          2995,
          3168
         ],
         "xaxis": "x14",
         "y": [
          15471,
          16261,
          14985,
          14587,
          17677,
          17942,
          19057
         ],
         "yaxis": "y14"
        },
        {
         "marker": {
          "color": "rgb(31, 119, 180)",
          "size": 6
         },
         "mode": "markers",
         "name": "2019",
         "showlegend": false,
         "type": "scatter",
         "x": [
          251,
          188,
          255,
          209,
          210,
          182,
          207,
          181,
          204,
          221,
          223,
          201
         ],
         "xaxis": "x15",
         "y": [
          20117,
          22334,
          26724,
          22004,
          23930,
          22429,
          21313,
          22036,
          20224,
          22332,
          21148,
          19306
         ],
         "yaxis": "y15"
        },
        {
         "marker": {
          "color": "rgb(255, 127, 14)",
          "size": 6
         },
         "mode": "markers",
         "name": "2020",
         "showlegend": false,
         "type": "scatter",
         "x": [
          239,
          191,
          219,
          174,
          189,
          176,
          181,
          201,
          210,
          172,
          206,
          229
         ],
         "xaxis": "x15",
         "y": [
          21558,
          27613,
          17072,
          9109,
          10846,
          14316,
          15805,
          14178,
          14015,
          14432,
          16411,
          16124
         ],
         "yaxis": "y15"
        },
        {
         "marker": {
          "color": "rgb(44, 160, 44)",
          "size": 6
         },
         "mode": "markers",
         "name": "2021",
         "showlegend": false,
         "type": "scatter",
         "x": [
          220,
          151,
          200,
          194,
          186,
          186,
          174
         ],
         "xaxis": "x15",
         "y": [
          15471,
          16261,
          14985,
          14587,
          17677,
          17942,
          19057
         ],
         "yaxis": "y15"
        },
        {
         "marker": {
          "color": "rgb(31, 119, 180)",
          "size": 6
         },
         "mode": "markers",
         "name": "2019",
         "showlegend": false,
         "type": "scatter",
         "x": [
          428,
          372,
          476,
          458,
          398,
          354,
          396,
          418,
          506,
          604,
          496,
          420
         ],
         "xaxis": "x16",
         "y": [
          3762,
          3583,
          3929,
          4221,
          3819,
          3528,
          3628,
          3610,
          3616,
          4108,
          3801,
          3746
         ],
         "yaxis": "y16"
        },
        {
         "marker": {
          "color": "rgb(255, 127, 14)",
          "size": 6
         },
         "mode": "markers",
         "name": "2020",
         "showlegend": false,
         "type": "scatter",
         "x": [
          476,
          410,
          438,
          256,
          240,
          372,
          410,
          382,
          426,
          396,
          420,
          410
         ],
         "xaxis": "x16",
         "y": [
          3488,
          3417,
          3085,
          2193,
          2148,
          2579,
          3136,
          3241,
          3080,
          3300,
          3499,
          3603
         ],
         "yaxis": "y16"
        },
        {
         "marker": {
          "color": "rgb(44, 160, 44)",
          "size": 6
         },
         "mode": "markers",
         "name": "2021",
         "showlegend": false,
         "type": "scatter",
         "x": [
          434,
          434,
          426,
          368,
          362,
          366,
          362
         ],
         "xaxis": "x16",
         "y": [
          3317,
          3334,
          3309,
          2819,
          3123,
          2995,
          3168
         ],
         "yaxis": "y16"
        },
        {
         "marker": {
          "color": "rgb(31, 119, 180)",
          "size": 6
         },
         "mode": "markers",
         "name": "2019",
         "showlegend": false,
         "type": "scatter",
         "x": [
          23707,
          21997,
          25416,
          24147,
          25008,
          26774,
          25726,
          26132,
          24605,
          26742,
          26406,
          26837
         ],
         "xaxis": "x17",
         "y": [
          3762,
          3583,
          3929,
          4221,
          3819,
          3528,
          3628,
          3610,
          3616,
          4108,
          3801,
          3746
         ],
         "yaxis": "y17"
        },
        {
         "marker": {
          "color": "rgb(255, 127, 14)",
          "size": 6
         },
         "mode": "markers",
         "name": "2020",
         "showlegend": false,
         "type": "scatter",
         "x": [
          28713,
          30528,
          25596,
          17555,
          18783,
          22292,
          21342,
          18773,
          18092,
          19389,
          23350,
          24578
         ],
         "xaxis": "x17",
         "y": [
          3488,
          3417,
          3085,
          2193,
          2148,
          2579,
          3136,
          3241,
          3080,
          3300,
          3499,
          3603
         ],
         "yaxis": "y17"
        },
        {
         "marker": {
          "color": "rgb(44, 160, 44)",
          "size": 6
         },
         "mode": "markers",
         "name": "2021",
         "showlegend": false,
         "type": "scatter",
         "x": [
          22694,
          22915,
          20660,
          19723,
          21934,
          21173,
          22868
         ],
         "xaxis": "x17",
         "y": [
          3317,
          3334,
          3309,
          2819,
          3123,
          2995,
          3168
         ],
         "yaxis": "y17"
        },
        {
         "marker": {
          "color": "rgb(31, 119, 180)",
          "size": 6
         },
         "mode": "markers",
         "name": "2019",
         "showlegend": false,
         "type": "scatter",
         "x": [
          20117,
          22334,
          26724,
          22004,
          23930,
          22429,
          21313,
          22036,
          20224,
          22332,
          21148,
          19306
         ],
         "xaxis": "x18",
         "y": [
          3762,
          3583,
          3929,
          4221,
          3819,
          3528,
          3628,
          3610,
          3616,
          4108,
          3801,
          3746
         ],
         "yaxis": "y18"
        },
        {
         "marker": {
          "color": "rgb(255, 127, 14)",
          "size": 6
         },
         "mode": "markers",
         "name": "2020",
         "showlegend": false,
         "type": "scatter",
         "x": [
          21558,
          27613,
          17072,
          9109,
          10846,
          14316,
          15805,
          14178,
          14015,
          14432,
          16411,
          16124
         ],
         "xaxis": "x18",
         "y": [
          3488,
          3417,
          3085,
          2193,
          2148,
          2579,
          3136,
          3241,
          3080,
          3300,
          3499,
          3603
         ],
         "yaxis": "y18"
        },
        {
         "marker": {
          "color": "rgb(44, 160, 44)",
          "size": 6
         },
         "mode": "markers",
         "name": "2021",
         "showlegend": false,
         "type": "scatter",
         "x": [
          15471,
          16261,
          14985,
          14587,
          17677,
          17942,
          19057
         ],
         "xaxis": "x18",
         "y": [
          3317,
          3334,
          3309,
          2819,
          3123,
          2995,
          3168
         ],
         "yaxis": "y18"
        },
        {
         "marker": {
          "color": "rgb(31, 119, 180)"
         },
         "showlegend": false,
         "type": "box",
         "xaxis": "x19",
         "y": [
          3762,
          3583,
          3929,
          4221,
          3819,
          3528,
          3628,
          3610,
          3616,
          4108,
          3801,
          3746
         ],
         "yaxis": "y19"
        },
        {
         "marker": {
          "color": "rgb(255, 127, 14)"
         },
         "showlegend": false,
         "type": "box",
         "xaxis": "x19",
         "y": [
          3488,
          3417,
          3085,
          2193,
          2148,
          2579,
          3136,
          3241,
          3080,
          3300,
          3499,
          3603
         ],
         "yaxis": "y19"
        },
        {
         "marker": {
          "color": "rgb(44, 160, 44)"
         },
         "showlegend": false,
         "type": "box",
         "xaxis": "x19",
         "y": [
          3317,
          3334,
          3309,
          2819,
          3123,
          2995,
          3168
         ],
         "yaxis": "y19"
        },
        {
         "marker": {
          "color": "rgb(31, 119, 180)",
          "size": 6
         },
         "mode": "markers",
         "name": "2019",
         "showlegend": false,
         "type": "scatter",
         "x": [
          251,
          188,
          255,
          209,
          210,
          182,
          207,
          181,
          204,
          221,
          223,
          201
         ],
         "xaxis": "x20",
         "y": [
          3762,
          3583,
          3929,
          4221,
          3819,
          3528,
          3628,
          3610,
          3616,
          4108,
          3801,
          3746
         ],
         "yaxis": "y20"
        },
        {
         "marker": {
          "color": "rgb(255, 127, 14)",
          "size": 6
         },
         "mode": "markers",
         "name": "2020",
         "showlegend": false,
         "type": "scatter",
         "x": [
          239,
          191,
          219,
          174,
          189,
          176,
          181,
          201,
          210,
          172,
          206,
          229
         ],
         "xaxis": "x20",
         "y": [
          3488,
          3417,
          3085,
          2193,
          2148,
          2579,
          3136,
          3241,
          3080,
          3300,
          3499,
          3603
         ],
         "yaxis": "y20"
        },
        {
         "marker": {
          "color": "rgb(44, 160, 44)",
          "size": 6
         },
         "mode": "markers",
         "name": "2021",
         "showlegend": false,
         "type": "scatter",
         "x": [
          220,
          151,
          200,
          194,
          186,
          186,
          174
         ],
         "xaxis": "x20",
         "y": [
          3317,
          3334,
          3309,
          2819,
          3123,
          2995,
          3168
         ],
         "yaxis": "y20"
        },
        {
         "marker": {
          "color": "rgb(31, 119, 180)",
          "size": 6
         },
         "mode": "markers",
         "name": "2019",
         "showlegend": false,
         "type": "scatter",
         "x": [
          428,
          372,
          476,
          458,
          398,
          354,
          396,
          418,
          506,
          604,
          496,
          420
         ],
         "xaxis": "x21",
         "y": [
          251,
          188,
          255,
          209,
          210,
          182,
          207,
          181,
          204,
          221,
          223,
          201
         ],
         "yaxis": "y21"
        },
        {
         "marker": {
          "color": "rgb(255, 127, 14)",
          "size": 6
         },
         "mode": "markers",
         "name": "2020",
         "showlegend": false,
         "type": "scatter",
         "x": [
          476,
          410,
          438,
          256,
          240,
          372,
          410,
          382,
          426,
          396,
          420,
          410
         ],
         "xaxis": "x21",
         "y": [
          239,
          191,
          219,
          174,
          189,
          176,
          181,
          201,
          210,
          172,
          206,
          229
         ],
         "yaxis": "y21"
        },
        {
         "marker": {
          "color": "rgb(44, 160, 44)",
          "size": 6
         },
         "mode": "markers",
         "name": "2021",
         "showlegend": false,
         "type": "scatter",
         "x": [
          434,
          434,
          426,
          368,
          362,
          366,
          362
         ],
         "xaxis": "x21",
         "y": [
          220,
          151,
          200,
          194,
          186,
          186,
          174
         ],
         "yaxis": "y21"
        },
        {
         "marker": {
          "color": "rgb(31, 119, 180)",
          "size": 6
         },
         "mode": "markers",
         "name": "2019",
         "showlegend": false,
         "type": "scatter",
         "x": [
          23707,
          21997,
          25416,
          24147,
          25008,
          26774,
          25726,
          26132,
          24605,
          26742,
          26406,
          26837
         ],
         "xaxis": "x22",
         "y": [
          251,
          188,
          255,
          209,
          210,
          182,
          207,
          181,
          204,
          221,
          223,
          201
         ],
         "yaxis": "y22"
        },
        {
         "marker": {
          "color": "rgb(255, 127, 14)",
          "size": 6
         },
         "mode": "markers",
         "name": "2020",
         "showlegend": false,
         "type": "scatter",
         "x": [
          28713,
          30528,
          25596,
          17555,
          18783,
          22292,
          21342,
          18773,
          18092,
          19389,
          23350,
          24578
         ],
         "xaxis": "x22",
         "y": [
          239,
          191,
          219,
          174,
          189,
          176,
          181,
          201,
          210,
          172,
          206,
          229
         ],
         "yaxis": "y22"
        },
        {
         "marker": {
          "color": "rgb(44, 160, 44)",
          "size": 6
         },
         "mode": "markers",
         "name": "2021",
         "showlegend": false,
         "type": "scatter",
         "x": [
          22694,
          22915,
          20660,
          19723,
          21934,
          21173,
          22868
         ],
         "xaxis": "x22",
         "y": [
          220,
          151,
          200,
          194,
          186,
          186,
          174
         ],
         "yaxis": "y22"
        },
        {
         "marker": {
          "color": "rgb(31, 119, 180)",
          "size": 6
         },
         "mode": "markers",
         "name": "2019",
         "showlegend": false,
         "type": "scatter",
         "x": [
          20117,
          22334,
          26724,
          22004,
          23930,
          22429,
          21313,
          22036,
          20224,
          22332,
          21148,
          19306
         ],
         "xaxis": "x23",
         "y": [
          251,
          188,
          255,
          209,
          210,
          182,
          207,
          181,
          204,
          221,
          223,
          201
         ],
         "yaxis": "y23"
        },
        {
         "marker": {
          "color": "rgb(255, 127, 14)",
          "size": 6
         },
         "mode": "markers",
         "name": "2020",
         "showlegend": false,
         "type": "scatter",
         "x": [
          21558,
          27613,
          17072,
          9109,
          10846,
          14316,
          15805,
          14178,
          14015,
          14432,
          16411,
          16124
         ],
         "xaxis": "x23",
         "y": [
          239,
          191,
          219,
          174,
          189,
          176,
          181,
          201,
          210,
          172,
          206,
          229
         ],
         "yaxis": "y23"
        },
        {
         "marker": {
          "color": "rgb(44, 160, 44)",
          "size": 6
         },
         "mode": "markers",
         "name": "2021",
         "showlegend": false,
         "type": "scatter",
         "x": [
          15471,
          16261,
          14985,
          14587,
          17677,
          17942,
          19057
         ],
         "xaxis": "x23",
         "y": [
          220,
          151,
          200,
          194,
          186,
          186,
          174
         ],
         "yaxis": "y23"
        },
        {
         "marker": {
          "color": "rgb(31, 119, 180)",
          "size": 6
         },
         "mode": "markers",
         "name": "2019",
         "showlegend": false,
         "type": "scatter",
         "x": [
          3762,
          3583,
          3929,
          4221,
          3819,
          3528,
          3628,
          3610,
          3616,
          4108,
          3801,
          3746
         ],
         "xaxis": "x24",
         "y": [
          251,
          188,
          255,
          209,
          210,
          182,
          207,
          181,
          204,
          221,
          223,
          201
         ],
         "yaxis": "y24"
        },
        {
         "marker": {
          "color": "rgb(255, 127, 14)",
          "size": 6
         },
         "mode": "markers",
         "name": "2020",
         "showlegend": false,
         "type": "scatter",
         "x": [
          3488,
          3417,
          3085,
          2193,
          2148,
          2579,
          3136,
          3241,
          3080,
          3300,
          3499,
          3603
         ],
         "xaxis": "x24",
         "y": [
          239,
          191,
          219,
          174,
          189,
          176,
          181,
          201,
          210,
          172,
          206,
          229
         ],
         "yaxis": "y24"
        },
        {
         "marker": {
          "color": "rgb(44, 160, 44)",
          "size": 6
         },
         "mode": "markers",
         "name": "2021",
         "showlegend": false,
         "type": "scatter",
         "x": [
          3317,
          3334,
          3309,
          2819,
          3123,
          2995,
          3168
         ],
         "xaxis": "x24",
         "y": [
          220,
          151,
          200,
          194,
          186,
          186,
          174
         ],
         "yaxis": "y24"
        },
        {
         "marker": {
          "color": "rgb(31, 119, 180)"
         },
         "showlegend": false,
         "type": "box",
         "xaxis": "x25",
         "y": [
          251,
          188,
          255,
          209,
          210,
          182,
          207,
          181,
          204,
          221,
          223,
          201
         ],
         "yaxis": "y25"
        },
        {
         "marker": {
          "color": "rgb(255, 127, 14)"
         },
         "showlegend": false,
         "type": "box",
         "xaxis": "x25",
         "y": [
          239,
          191,
          219,
          174,
          189,
          176,
          181,
          201,
          210,
          172,
          206,
          229
         ],
         "yaxis": "y25"
        },
        {
         "marker": {
          "color": "rgb(44, 160, 44)"
         },
         "showlegend": false,
         "type": "box",
         "xaxis": "x25",
         "y": [
          220,
          151,
          200,
          194,
          186,
          186,
          174
         ],
         "yaxis": "y25"
        }
       ],
       "layout": {
        "height": 1000,
        "showlegend": true,
        "template": {
         "data": {
          "bar": [
           {
            "error_x": {
             "color": "#2a3f5f"
            },
            "error_y": {
             "color": "#2a3f5f"
            },
            "marker": {
             "line": {
              "color": "#E5ECF6",
              "width": 0.5
             },
             "pattern": {
              "fillmode": "overlay",
              "size": 10,
              "solidity": 0.2
             }
            },
            "type": "bar"
           }
          ],
          "barpolar": [
           {
            "marker": {
             "line": {
              "color": "#E5ECF6",
              "width": 0.5
             },
             "pattern": {
              "fillmode": "overlay",
              "size": 10,
              "solidity": 0.2
             }
            },
            "type": "barpolar"
           }
          ],
          "carpet": [
           {
            "aaxis": {
             "endlinecolor": "#2a3f5f",
             "gridcolor": "white",
             "linecolor": "white",
             "minorgridcolor": "white",
             "startlinecolor": "#2a3f5f"
            },
            "baxis": {
             "endlinecolor": "#2a3f5f",
             "gridcolor": "white",
             "linecolor": "white",
             "minorgridcolor": "white",
             "startlinecolor": "#2a3f5f"
            },
            "type": "carpet"
           }
          ],
          "choropleth": [
           {
            "colorbar": {
             "outlinewidth": 0,
             "ticks": ""
            },
            "type": "choropleth"
           }
          ],
          "contour": [
           {
            "colorbar": {
             "outlinewidth": 0,
             "ticks": ""
            },
            "colorscale": [
             [
              0,
              "#0d0887"
             ],
             [
              0.1111111111111111,
              "#46039f"
             ],
             [
              0.2222222222222222,
              "#7201a8"
             ],
             [
              0.3333333333333333,
              "#9c179e"
             ],
             [
              0.4444444444444444,
              "#bd3786"
             ],
             [
              0.5555555555555556,
              "#d8576b"
             ],
             [
              0.6666666666666666,
              "#ed7953"
             ],
             [
              0.7777777777777778,
              "#fb9f3a"
             ],
             [
              0.8888888888888888,
              "#fdca26"
             ],
             [
              1,
              "#f0f921"
             ]
            ],
            "type": "contour"
           }
          ],
          "contourcarpet": [
           {
            "colorbar": {
             "outlinewidth": 0,
             "ticks": ""
            },
            "type": "contourcarpet"
           }
          ],
          "heatmap": [
           {
            "colorbar": {
             "outlinewidth": 0,
             "ticks": ""
            },
            "colorscale": [
             [
              0,
              "#0d0887"
             ],
             [
              0.1111111111111111,
              "#46039f"
             ],
             [
              0.2222222222222222,
              "#7201a8"
             ],
             [
              0.3333333333333333,
              "#9c179e"
             ],
             [
              0.4444444444444444,
              "#bd3786"
             ],
             [
              0.5555555555555556,
              "#d8576b"
             ],
             [
              0.6666666666666666,
              "#ed7953"
             ],
             [
              0.7777777777777778,
              "#fb9f3a"
             ],
             [
              0.8888888888888888,
              "#fdca26"
             ],
             [
              1,
              "#f0f921"
             ]
            ],
            "type": "heatmap"
           }
          ],
          "heatmapgl": [
           {
            "colorbar": {
             "outlinewidth": 0,
             "ticks": ""
            },
            "colorscale": [
             [
              0,
              "#0d0887"
             ],
             [
              0.1111111111111111,
              "#46039f"
             ],
             [
              0.2222222222222222,
              "#7201a8"
             ],
             [
              0.3333333333333333,
              "#9c179e"
             ],
             [
              0.4444444444444444,
              "#bd3786"
             ],
             [
              0.5555555555555556,
              "#d8576b"
             ],
             [
              0.6666666666666666,
              "#ed7953"
             ],
             [
              0.7777777777777778,
              "#fb9f3a"
             ],
             [
              0.8888888888888888,
              "#fdca26"
             ],
             [
              1,
              "#f0f921"
             ]
            ],
            "type": "heatmapgl"
           }
          ],
          "histogram": [
           {
            "marker": {
             "pattern": {
              "fillmode": "overlay",
              "size": 10,
              "solidity": 0.2
             }
            },
            "type": "histogram"
           }
          ],
          "histogram2d": [
           {
            "colorbar": {
             "outlinewidth": 0,
             "ticks": ""
            },
            "colorscale": [
             [
              0,
              "#0d0887"
             ],
             [
              0.1111111111111111,
              "#46039f"
             ],
             [
              0.2222222222222222,
              "#7201a8"
             ],
             [
              0.3333333333333333,
              "#9c179e"
             ],
             [
              0.4444444444444444,
              "#bd3786"
             ],
             [
              0.5555555555555556,
              "#d8576b"
             ],
             [
              0.6666666666666666,
              "#ed7953"
             ],
             [
              0.7777777777777778,
              "#fb9f3a"
             ],
             [
              0.8888888888888888,
              "#fdca26"
             ],
             [
              1,
              "#f0f921"
             ]
            ],
            "type": "histogram2d"
           }
          ],
          "histogram2dcontour": [
           {
            "colorbar": {
             "outlinewidth": 0,
             "ticks": ""
            },
            "colorscale": [
             [
              0,
              "#0d0887"
             ],
             [
              0.1111111111111111,
              "#46039f"
             ],
             [
              0.2222222222222222,
              "#7201a8"
             ],
             [
              0.3333333333333333,
              "#9c179e"
             ],
             [
              0.4444444444444444,
              "#bd3786"
             ],
             [
              0.5555555555555556,
              "#d8576b"
             ],
             [
              0.6666666666666666,
              "#ed7953"
             ],
             [
              0.7777777777777778,
              "#fb9f3a"
             ],
             [
              0.8888888888888888,
              "#fdca26"
             ],
             [
              1,
              "#f0f921"
             ]
            ],
            "type": "histogram2dcontour"
           }
          ],
          "mesh3d": [
           {
            "colorbar": {
             "outlinewidth": 0,
             "ticks": ""
            },
            "type": "mesh3d"
           }
          ],
          "parcoords": [
           {
            "line": {
             "colorbar": {
              "outlinewidth": 0,
              "ticks": ""
             }
            },
            "type": "parcoords"
           }
          ],
          "pie": [
           {
            "automargin": true,
            "type": "pie"
           }
          ],
          "scatter": [
           {
            "marker": {
             "colorbar": {
              "outlinewidth": 0,
              "ticks": ""
             }
            },
            "type": "scatter"
           }
          ],
          "scatter3d": [
           {
            "line": {
             "colorbar": {
              "outlinewidth": 0,
              "ticks": ""
             }
            },
            "marker": {
             "colorbar": {
              "outlinewidth": 0,
              "ticks": ""
             }
            },
            "type": "scatter3d"
           }
          ],
          "scattercarpet": [
           {
            "marker": {
             "colorbar": {
              "outlinewidth": 0,
              "ticks": ""
             }
            },
            "type": "scattercarpet"
           }
          ],
          "scattergeo": [
           {
            "marker": {
             "colorbar": {
              "outlinewidth": 0,
              "ticks": ""
             }
            },
            "type": "scattergeo"
           }
          ],
          "scattergl": [
           {
            "marker": {
             "colorbar": {
              "outlinewidth": 0,
              "ticks": ""
             }
            },
            "type": "scattergl"
           }
          ],
          "scattermapbox": [
           {
            "marker": {
             "colorbar": {
              "outlinewidth": 0,
              "ticks": ""
             }
            },
            "type": "scattermapbox"
           }
          ],
          "scatterpolar": [
           {
            "marker": {
             "colorbar": {
              "outlinewidth": 0,
              "ticks": ""
             }
            },
            "type": "scatterpolar"
           }
          ],
          "scatterpolargl": [
           {
            "marker": {
             "colorbar": {
              "outlinewidth": 0,
              "ticks": ""
             }
            },
            "type": "scatterpolargl"
           }
          ],
          "scatterternary": [
           {
            "marker": {
             "colorbar": {
              "outlinewidth": 0,
              "ticks": ""
             }
            },
            "type": "scatterternary"
           }
          ],
          "surface": [
           {
            "colorbar": {
             "outlinewidth": 0,
             "ticks": ""
            },
            "colorscale": [
             [
              0,
              "#0d0887"
             ],
             [
              0.1111111111111111,
              "#46039f"
             ],
             [
              0.2222222222222222,
              "#7201a8"
             ],
             [
              0.3333333333333333,
              "#9c179e"
             ],
             [
              0.4444444444444444,
              "#bd3786"
             ],
             [
              0.5555555555555556,
              "#d8576b"
             ],
             [
              0.6666666666666666,
              "#ed7953"
             ],
             [
              0.7777777777777778,
              "#fb9f3a"
             ],
             [
              0.8888888888888888,
              "#fdca26"
             ],
             [
              1,
              "#f0f921"
             ]
            ],
            "type": "surface"
           }
          ],
          "table": [
           {
            "cells": {
             "fill": {
              "color": "#EBF0F8"
             },
             "line": {
              "color": "white"
             }
            },
            "header": {
             "fill": {
              "color": "#C8D4E3"
             },
             "line": {
              "color": "white"
             }
            },
            "type": "table"
           }
          ]
         },
         "layout": {
          "annotationdefaults": {
           "arrowcolor": "#2a3f5f",
           "arrowhead": 0,
           "arrowwidth": 1
          },
          "autotypenumbers": "strict",
          "coloraxis": {
           "colorbar": {
            "outlinewidth": 0,
            "ticks": ""
           }
          },
          "colorscale": {
           "diverging": [
            [
             0,
             "#8e0152"
            ],
            [
             0.1,
             "#c51b7d"
            ],
            [
             0.2,
             "#de77ae"
            ],
            [
             0.3,
             "#f1b6da"
            ],
            [
             0.4,
             "#fde0ef"
            ],
            [
             0.5,
             "#f7f7f7"
            ],
            [
             0.6,
             "#e6f5d0"
            ],
            [
             0.7,
             "#b8e186"
            ],
            [
             0.8,
             "#7fbc41"
            ],
            [
             0.9,
             "#4d9221"
            ],
            [
             1,
             "#276419"
            ]
           ],
           "sequential": [
            [
             0,
             "#0d0887"
            ],
            [
             0.1111111111111111,
             "#46039f"
            ],
            [
             0.2222222222222222,
             "#7201a8"
            ],
            [
             0.3333333333333333,
             "#9c179e"
            ],
            [
             0.4444444444444444,
             "#bd3786"
            ],
            [
             0.5555555555555556,
             "#d8576b"
            ],
            [
             0.6666666666666666,
             "#ed7953"
            ],
            [
             0.7777777777777778,
             "#fb9f3a"
            ],
            [
             0.8888888888888888,
             "#fdca26"
            ],
            [
             1,
             "#f0f921"
            ]
           ],
           "sequentialminus": [
            [
             0,
             "#0d0887"
            ],
            [
             0.1111111111111111,
             "#46039f"
            ],
            [
             0.2222222222222222,
             "#7201a8"
            ],
            [
             0.3333333333333333,
             "#9c179e"
            ],
            [
             0.4444444444444444,
             "#bd3786"
            ],
            [
             0.5555555555555556,
             "#d8576b"
            ],
            [
             0.6666666666666666,
             "#ed7953"
            ],
            [
             0.7777777777777778,
             "#fb9f3a"
            ],
            [
             0.8888888888888888,
             "#fdca26"
            ],
            [
             1,
             "#f0f921"
            ]
           ]
          },
          "colorway": [
           "#636efa",
           "#EF553B",
           "#00cc96",
           "#ab63fa",
           "#FFA15A",
           "#19d3f3",
           "#FF6692",
           "#B6E880",
           "#FF97FF",
           "#FECB52"
          ],
          "font": {
           "color": "#2a3f5f"
          },
          "geo": {
           "bgcolor": "white",
           "lakecolor": "white",
           "landcolor": "#E5ECF6",
           "showlakes": true,
           "showland": true,
           "subunitcolor": "white"
          },
          "hoverlabel": {
           "align": "left"
          },
          "hovermode": "closest",
          "mapbox": {
           "style": "light"
          },
          "paper_bgcolor": "white",
          "plot_bgcolor": "#E5ECF6",
          "polar": {
           "angularaxis": {
            "gridcolor": "white",
            "linecolor": "white",
            "ticks": ""
           },
           "bgcolor": "#E5ECF6",
           "radialaxis": {
            "gridcolor": "white",
            "linecolor": "white",
            "ticks": ""
           }
          },
          "scene": {
           "xaxis": {
            "backgroundcolor": "#E5ECF6",
            "gridcolor": "white",
            "gridwidth": 2,
            "linecolor": "white",
            "showbackground": true,
            "ticks": "",
            "zerolinecolor": "white"
           },
           "yaxis": {
            "backgroundcolor": "#E5ECF6",
            "gridcolor": "white",
            "gridwidth": 2,
            "linecolor": "white",
            "showbackground": true,
            "ticks": "",
            "zerolinecolor": "white"
           },
           "zaxis": {
            "backgroundcolor": "#E5ECF6",
            "gridcolor": "white",
            "gridwidth": 2,
            "linecolor": "white",
            "showbackground": true,
            "ticks": "",
            "zerolinecolor": "white"
           }
          },
          "shapedefaults": {
           "line": {
            "color": "#2a3f5f"
           }
          },
          "ternary": {
           "aaxis": {
            "gridcolor": "white",
            "linecolor": "white",
            "ticks": ""
           },
           "baxis": {
            "gridcolor": "white",
            "linecolor": "white",
            "ticks": ""
           },
           "bgcolor": "#E5ECF6",
           "caxis": {
            "gridcolor": "white",
            "linecolor": "white",
            "ticks": ""
           }
          },
          "title": {
           "x": 0.05
          },
          "xaxis": {
           "automargin": true,
           "gridcolor": "white",
           "linecolor": "white",
           "ticks": "",
           "title": {
            "standoff": 15
           },
           "zerolinecolor": "white",
           "zerolinewidth": 2
          },
          "yaxis": {
           "automargin": true,
           "gridcolor": "white",
           "linecolor": "white",
           "ticks": "",
           "title": {
            "standoff": 15
           },
           "zerolinecolor": "white",
           "zerolinewidth": 2
          }
         }
        },
        "title": {
         "text": "Scatterplot Matrix"
        },
        "width": 1000,
        "xaxis": {
         "anchor": "y",
         "domain": [
          0,
          0.16799999999999998
         ],
         "showticklabels": false
        },
        "xaxis10": {
         "anchor": "y10",
         "domain": [
          0.832,
          1
         ]
        },
        "xaxis11": {
         "anchor": "y11",
         "domain": [
          0,
          0.16799999999999998
         ]
        },
        "xaxis12": {
         "anchor": "y12",
         "domain": [
          0.208,
          0.376
         ]
        },
        "xaxis13": {
         "anchor": "y13",
         "domain": [
          0.416,
          0.584
         ],
         "showticklabels": false
        },
        "xaxis14": {
         "anchor": "y14",
         "domain": [
          0.624,
          0.792
         ]
        },
        "xaxis15": {
         "anchor": "y15",
         "domain": [
          0.832,
          1
         ]
        },
        "xaxis16": {
         "anchor": "y16",
         "domain": [
          0,
          0.16799999999999998
         ]
        },
        "xaxis17": {
         "anchor": "y17",
         "domain": [
          0.208,
          0.376
         ]
        },
        "xaxis18": {
         "anchor": "y18",
         "domain": [
          0.416,
          0.584
         ]
        },
        "xaxis19": {
         "anchor": "y19",
         "domain": [
          0.624,
          0.792
         ],
         "showticklabels": false
        },
        "xaxis2": {
         "anchor": "y2",
         "domain": [
          0.208,
          0.376
         ]
        },
        "xaxis20": {
         "anchor": "y20",
         "domain": [
          0.832,
          1
         ]
        },
        "xaxis21": {
         "anchor": "y21",
         "domain": [
          0,
          0.16799999999999998
         ],
         "title": {
          "text": "ESTUPRO"
         }
        },
        "xaxis22": {
         "anchor": "y22",
         "domain": [
          0.208,
          0.376
         ],
         "title": {
          "text": "ROUBO"
         }
        },
        "xaxis23": {
         "anchor": "y23",
         "domain": [
          0.416,
          0.584
         ],
         "title": {
          "text": "FURTO"
         }
        },
        "xaxis24": {
         "anchor": "y24",
         "domain": [
          0.624,
          0.792
         ],
         "title": {
          "text": "LESÃO"
         }
        },
        "xaxis25": {
         "anchor": "y25",
         "domain": [
          0.832,
          1
         ],
         "showticklabels": false,
         "title": {
          "text": "HOMICÍDIO"
         }
        },
        "xaxis3": {
         "anchor": "y3",
         "domain": [
          0.416,
          0.584
         ]
        },
        "xaxis4": {
         "anchor": "y4",
         "domain": [
          0.624,
          0.792
         ]
        },
        "xaxis5": {
         "anchor": "y5",
         "domain": [
          0.832,
          1
         ]
        },
        "xaxis6": {
         "anchor": "y6",
         "domain": [
          0,
          0.16799999999999998
         ]
        },
        "xaxis7": {
         "anchor": "y7",
         "domain": [
          0.208,
          0.376
         ],
         "showticklabels": false
        },
        "xaxis8": {
         "anchor": "y8",
         "domain": [
          0.416,
          0.584
         ]
        },
        "xaxis9": {
         "anchor": "y9",
         "domain": [
          0.624,
          0.792
         ]
        },
        "yaxis": {
         "anchor": "x",
         "domain": [
          0.848,
          1
         ],
         "title": {
          "text": "ESTUPRO"
         }
        },
        "yaxis10": {
         "anchor": "x10",
         "domain": [
          0.6359999999999999,
          0.7879999999999999
         ]
        },
        "yaxis11": {
         "anchor": "x11",
         "domain": [
          0.424,
          0.576
         ],
         "title": {
          "text": "FURTO"
         }
        },
        "yaxis12": {
         "anchor": "x12",
         "domain": [
          0.424,
          0.576
         ]
        },
        "yaxis13": {
         "anchor": "x13",
         "domain": [
          0.424,
          0.576
         ]
        },
        "yaxis14": {
         "anchor": "x14",
         "domain": [
          0.424,
          0.576
         ]
        },
        "yaxis15": {
         "anchor": "x15",
         "domain": [
          0.424,
          0.576
         ]
        },
        "yaxis16": {
         "anchor": "x16",
         "domain": [
          0.212,
          0.364
         ],
         "title": {
          "text": "LESÃO"
         }
        },
        "yaxis17": {
         "anchor": "x17",
         "domain": [
          0.212,
          0.364
         ]
        },
        "yaxis18": {
         "anchor": "x18",
         "domain": [
          0.212,
          0.364
         ]
        },
        "yaxis19": {
         "anchor": "x19",
         "domain": [
          0.212,
          0.364
         ]
        },
        "yaxis2": {
         "anchor": "x2",
         "domain": [
          0.848,
          1
         ]
        },
        "yaxis20": {
         "anchor": "x20",
         "domain": [
          0.212,
          0.364
         ]
        },
        "yaxis21": {
         "anchor": "x21",
         "domain": [
          0,
          0.152
         ],
         "title": {
          "text": "HOMICÍDIO"
         }
        },
        "yaxis22": {
         "anchor": "x22",
         "domain": [
          0,
          0.152
         ]
        },
        "yaxis23": {
         "anchor": "x23",
         "domain": [
          0,
          0.152
         ]
        },
        "yaxis24": {
         "anchor": "x24",
         "domain": [
          0,
          0.152
         ]
        },
        "yaxis25": {
         "anchor": "x25",
         "domain": [
          0,
          0.152
         ]
        },
        "yaxis3": {
         "anchor": "x3",
         "domain": [
          0.848,
          1
         ]
        },
        "yaxis4": {
         "anchor": "x4",
         "domain": [
          0.848,
          1
         ]
        },
        "yaxis5": {
         "anchor": "x5",
         "domain": [
          0.848,
          1
         ]
        },
        "yaxis6": {
         "anchor": "x6",
         "domain": [
          0.6359999999999999,
          0.7879999999999999
         ],
         "title": {
          "text": "ROUBO"
         }
        },
        "yaxis7": {
         "anchor": "x7",
         "domain": [
          0.6359999999999999,
          0.7879999999999999
         ]
        },
        "yaxis8": {
         "anchor": "x8",
         "domain": [
          0.6359999999999999,
          0.7879999999999999
         ]
        },
        "yaxis9": {
         "anchor": "x9",
         "domain": [
          0.6359999999999999,
          0.7879999999999999
         ]
        }
       }
      },
      "text/html": [
       "<div>                            <div id=\"11f45bae-3870-449b-9da8-a8c1d5a8f42d\" class=\"plotly-graph-div\" style=\"height:1000px; width:1000px;\"></div>            <script type=\"text/javascript\">                require([\"plotly\"], function(Plotly) {                    window.PLOTLYENV=window.PLOTLYENV || {};                                    if (document.getElementById(\"11f45bae-3870-449b-9da8-a8c1d5a8f42d\")) {                    Plotly.newPlot(                        \"11f45bae-3870-449b-9da8-a8c1d5a8f42d\",                        [{\"marker\":{\"color\":\"rgb(31, 119, 180)\"},\"showlegend\":false,\"type\":\"box\",\"xaxis\":\"x\",\"y\":[428,372,476,458,398,354,396,418,506,604,496,420],\"yaxis\":\"y\"},{\"marker\":{\"color\":\"rgb(255, 127, 14)\"},\"showlegend\":false,\"type\":\"box\",\"xaxis\":\"x\",\"y\":[476,410,438,256,240,372,410,382,426,396,420,410],\"yaxis\":\"y\"},{\"marker\":{\"color\":\"rgb(44, 160, 44)\"},\"showlegend\":false,\"type\":\"box\",\"xaxis\":\"x\",\"y\":[434,434,426,368,362,366,362],\"yaxis\":\"y\"},{\"marker\":{\"color\":\"rgb(31, 119, 180)\",\"size\":6},\"mode\":\"markers\",\"name\":\"2019\",\"showlegend\":true,\"type\":\"scatter\",\"x\":[23707,21997,25416,24147,25008,26774,25726,26132,24605,26742,26406,26837],\"xaxis\":\"x2\",\"y\":[428,372,476,458,398,354,396,418,506,604,496,420],\"yaxis\":\"y2\"},{\"marker\":{\"color\":\"rgb(255, 127, 14)\",\"size\":6},\"mode\":\"markers\",\"name\":\"2020\",\"showlegend\":true,\"type\":\"scatter\",\"x\":[28713,30528,25596,17555,18783,22292,21342,18773,18092,19389,23350,24578],\"xaxis\":\"x2\",\"y\":[476,410,438,256,240,372,410,382,426,396,420,410],\"yaxis\":\"y2\"},{\"marker\":{\"color\":\"rgb(44, 160, 44)\",\"size\":6},\"mode\":\"markers\",\"name\":\"2021\",\"showlegend\":true,\"type\":\"scatter\",\"x\":[22694,22915,20660,19723,21934,21173,22868],\"xaxis\":\"x2\",\"y\":[434,434,426,368,362,366,362],\"yaxis\":\"y2\"},{\"marker\":{\"color\":\"rgb(31, 119, 180)\",\"size\":6},\"mode\":\"markers\",\"name\":\"2019\",\"showlegend\":false,\"type\":\"scatter\",\"x\":[20117,22334,26724,22004,23930,22429,21313,22036,20224,22332,21148,19306],\"xaxis\":\"x3\",\"y\":[428,372,476,458,398,354,396,418,506,604,496,420],\"yaxis\":\"y3\"},{\"marker\":{\"color\":\"rgb(255, 127, 14)\",\"size\":6},\"mode\":\"markers\",\"name\":\"2020\",\"showlegend\":false,\"type\":\"scatter\",\"x\":[21558,27613,17072,9109,10846,14316,15805,14178,14015,14432,16411,16124],\"xaxis\":\"x3\",\"y\":[476,410,438,256,240,372,410,382,426,396,420,410],\"yaxis\":\"y3\"},{\"marker\":{\"color\":\"rgb(44, 160, 44)\",\"size\":6},\"mode\":\"markers\",\"name\":\"2021\",\"showlegend\":false,\"type\":\"scatter\",\"x\":[15471,16261,14985,14587,17677,17942,19057],\"xaxis\":\"x3\",\"y\":[434,434,426,368,362,366,362],\"yaxis\":\"y3\"},{\"marker\":{\"color\":\"rgb(31, 119, 180)\",\"size\":6},\"mode\":\"markers\",\"name\":\"2019\",\"showlegend\":false,\"type\":\"scatter\",\"x\":[3762,3583,3929,4221,3819,3528,3628,3610,3616,4108,3801,3746],\"xaxis\":\"x4\",\"y\":[428,372,476,458,398,354,396,418,506,604,496,420],\"yaxis\":\"y4\"},{\"marker\":{\"color\":\"rgb(255, 127, 14)\",\"size\":6},\"mode\":\"markers\",\"name\":\"2020\",\"showlegend\":false,\"type\":\"scatter\",\"x\":[3488,3417,3085,2193,2148,2579,3136,3241,3080,3300,3499,3603],\"xaxis\":\"x4\",\"y\":[476,410,438,256,240,372,410,382,426,396,420,410],\"yaxis\":\"y4\"},{\"marker\":{\"color\":\"rgb(44, 160, 44)\",\"size\":6},\"mode\":\"markers\",\"name\":\"2021\",\"showlegend\":false,\"type\":\"scatter\",\"x\":[3317,3334,3309,2819,3123,2995,3168],\"xaxis\":\"x4\",\"y\":[434,434,426,368,362,366,362],\"yaxis\":\"y4\"},{\"marker\":{\"color\":\"rgb(31, 119, 180)\",\"size\":6},\"mode\":\"markers\",\"name\":\"2019\",\"showlegend\":false,\"type\":\"scatter\",\"x\":[251,188,255,209,210,182,207,181,204,221,223,201],\"xaxis\":\"x5\",\"y\":[428,372,476,458,398,354,396,418,506,604,496,420],\"yaxis\":\"y5\"},{\"marker\":{\"color\":\"rgb(255, 127, 14)\",\"size\":6},\"mode\":\"markers\",\"name\":\"2020\",\"showlegend\":false,\"type\":\"scatter\",\"x\":[239,191,219,174,189,176,181,201,210,172,206,229],\"xaxis\":\"x5\",\"y\":[476,410,438,256,240,372,410,382,426,396,420,410],\"yaxis\":\"y5\"},{\"marker\":{\"color\":\"rgb(44, 160, 44)\",\"size\":6},\"mode\":\"markers\",\"name\":\"2021\",\"showlegend\":false,\"type\":\"scatter\",\"x\":[220,151,200,194,186,186,174],\"xaxis\":\"x5\",\"y\":[434,434,426,368,362,366,362],\"yaxis\":\"y5\"},{\"marker\":{\"color\":\"rgb(31, 119, 180)\",\"size\":6},\"mode\":\"markers\",\"name\":\"2019\",\"showlegend\":false,\"type\":\"scatter\",\"x\":[428,372,476,458,398,354,396,418,506,604,496,420],\"xaxis\":\"x6\",\"y\":[23707,21997,25416,24147,25008,26774,25726,26132,24605,26742,26406,26837],\"yaxis\":\"y6\"},{\"marker\":{\"color\":\"rgb(255, 127, 14)\",\"size\":6},\"mode\":\"markers\",\"name\":\"2020\",\"showlegend\":false,\"type\":\"scatter\",\"x\":[476,410,438,256,240,372,410,382,426,396,420,410],\"xaxis\":\"x6\",\"y\":[28713,30528,25596,17555,18783,22292,21342,18773,18092,19389,23350,24578],\"yaxis\":\"y6\"},{\"marker\":{\"color\":\"rgb(44, 160, 44)\",\"size\":6},\"mode\":\"markers\",\"name\":\"2021\",\"showlegend\":false,\"type\":\"scatter\",\"x\":[434,434,426,368,362,366,362],\"xaxis\":\"x6\",\"y\":[22694,22915,20660,19723,21934,21173,22868],\"yaxis\":\"y6\"},{\"marker\":{\"color\":\"rgb(31, 119, 180)\"},\"showlegend\":false,\"type\":\"box\",\"xaxis\":\"x7\",\"y\":[23707,21997,25416,24147,25008,26774,25726,26132,24605,26742,26406,26837],\"yaxis\":\"y7\"},{\"marker\":{\"color\":\"rgb(255, 127, 14)\"},\"showlegend\":false,\"type\":\"box\",\"xaxis\":\"x7\",\"y\":[28713,30528,25596,17555,18783,22292,21342,18773,18092,19389,23350,24578],\"yaxis\":\"y7\"},{\"marker\":{\"color\":\"rgb(44, 160, 44)\"},\"showlegend\":false,\"type\":\"box\",\"xaxis\":\"x7\",\"y\":[22694,22915,20660,19723,21934,21173,22868],\"yaxis\":\"y7\"},{\"marker\":{\"color\":\"rgb(31, 119, 180)\",\"size\":6},\"mode\":\"markers\",\"name\":\"2019\",\"showlegend\":false,\"type\":\"scatter\",\"x\":[20117,22334,26724,22004,23930,22429,21313,22036,20224,22332,21148,19306],\"xaxis\":\"x8\",\"y\":[23707,21997,25416,24147,25008,26774,25726,26132,24605,26742,26406,26837],\"yaxis\":\"y8\"},{\"marker\":{\"color\":\"rgb(255, 127, 14)\",\"size\":6},\"mode\":\"markers\",\"name\":\"2020\",\"showlegend\":false,\"type\":\"scatter\",\"x\":[21558,27613,17072,9109,10846,14316,15805,14178,14015,14432,16411,16124],\"xaxis\":\"x8\",\"y\":[28713,30528,25596,17555,18783,22292,21342,18773,18092,19389,23350,24578],\"yaxis\":\"y8\"},{\"marker\":{\"color\":\"rgb(44, 160, 44)\",\"size\":6},\"mode\":\"markers\",\"name\":\"2021\",\"showlegend\":false,\"type\":\"scatter\",\"x\":[15471,16261,14985,14587,17677,17942,19057],\"xaxis\":\"x8\",\"y\":[22694,22915,20660,19723,21934,21173,22868],\"yaxis\":\"y8\"},{\"marker\":{\"color\":\"rgb(31, 119, 180)\",\"size\":6},\"mode\":\"markers\",\"name\":\"2019\",\"showlegend\":false,\"type\":\"scatter\",\"x\":[3762,3583,3929,4221,3819,3528,3628,3610,3616,4108,3801,3746],\"xaxis\":\"x9\",\"y\":[23707,21997,25416,24147,25008,26774,25726,26132,24605,26742,26406,26837],\"yaxis\":\"y9\"},{\"marker\":{\"color\":\"rgb(255, 127, 14)\",\"size\":6},\"mode\":\"markers\",\"name\":\"2020\",\"showlegend\":false,\"type\":\"scatter\",\"x\":[3488,3417,3085,2193,2148,2579,3136,3241,3080,3300,3499,3603],\"xaxis\":\"x9\",\"y\":[28713,30528,25596,17555,18783,22292,21342,18773,18092,19389,23350,24578],\"yaxis\":\"y9\"},{\"marker\":{\"color\":\"rgb(44, 160, 44)\",\"size\":6},\"mode\":\"markers\",\"name\":\"2021\",\"showlegend\":false,\"type\":\"scatter\",\"x\":[3317,3334,3309,2819,3123,2995,3168],\"xaxis\":\"x9\",\"y\":[22694,22915,20660,19723,21934,21173,22868],\"yaxis\":\"y9\"},{\"marker\":{\"color\":\"rgb(31, 119, 180)\",\"size\":6},\"mode\":\"markers\",\"name\":\"2019\",\"showlegend\":false,\"type\":\"scatter\",\"x\":[251,188,255,209,210,182,207,181,204,221,223,201],\"xaxis\":\"x10\",\"y\":[23707,21997,25416,24147,25008,26774,25726,26132,24605,26742,26406,26837],\"yaxis\":\"y10\"},{\"marker\":{\"color\":\"rgb(255, 127, 14)\",\"size\":6},\"mode\":\"markers\",\"name\":\"2020\",\"showlegend\":false,\"type\":\"scatter\",\"x\":[239,191,219,174,189,176,181,201,210,172,206,229],\"xaxis\":\"x10\",\"y\":[28713,30528,25596,17555,18783,22292,21342,18773,18092,19389,23350,24578],\"yaxis\":\"y10\"},{\"marker\":{\"color\":\"rgb(44, 160, 44)\",\"size\":6},\"mode\":\"markers\",\"name\":\"2021\",\"showlegend\":false,\"type\":\"scatter\",\"x\":[220,151,200,194,186,186,174],\"xaxis\":\"x10\",\"y\":[22694,22915,20660,19723,21934,21173,22868],\"yaxis\":\"y10\"},{\"marker\":{\"color\":\"rgb(31, 119, 180)\",\"size\":6},\"mode\":\"markers\",\"name\":\"2019\",\"showlegend\":false,\"type\":\"scatter\",\"x\":[428,372,476,458,398,354,396,418,506,604,496,420],\"xaxis\":\"x11\",\"y\":[20117,22334,26724,22004,23930,22429,21313,22036,20224,22332,21148,19306],\"yaxis\":\"y11\"},{\"marker\":{\"color\":\"rgb(255, 127, 14)\",\"size\":6},\"mode\":\"markers\",\"name\":\"2020\",\"showlegend\":false,\"type\":\"scatter\",\"x\":[476,410,438,256,240,372,410,382,426,396,420,410],\"xaxis\":\"x11\",\"y\":[21558,27613,17072,9109,10846,14316,15805,14178,14015,14432,16411,16124],\"yaxis\":\"y11\"},{\"marker\":{\"color\":\"rgb(44, 160, 44)\",\"size\":6},\"mode\":\"markers\",\"name\":\"2021\",\"showlegend\":false,\"type\":\"scatter\",\"x\":[434,434,426,368,362,366,362],\"xaxis\":\"x11\",\"y\":[15471,16261,14985,14587,17677,17942,19057],\"yaxis\":\"y11\"},{\"marker\":{\"color\":\"rgb(31, 119, 180)\",\"size\":6},\"mode\":\"markers\",\"name\":\"2019\",\"showlegend\":false,\"type\":\"scatter\",\"x\":[23707,21997,25416,24147,25008,26774,25726,26132,24605,26742,26406,26837],\"xaxis\":\"x12\",\"y\":[20117,22334,26724,22004,23930,22429,21313,22036,20224,22332,21148,19306],\"yaxis\":\"y12\"},{\"marker\":{\"color\":\"rgb(255, 127, 14)\",\"size\":6},\"mode\":\"markers\",\"name\":\"2020\",\"showlegend\":false,\"type\":\"scatter\",\"x\":[28713,30528,25596,17555,18783,22292,21342,18773,18092,19389,23350,24578],\"xaxis\":\"x12\",\"y\":[21558,27613,17072,9109,10846,14316,15805,14178,14015,14432,16411,16124],\"yaxis\":\"y12\"},{\"marker\":{\"color\":\"rgb(44, 160, 44)\",\"size\":6},\"mode\":\"markers\",\"name\":\"2021\",\"showlegend\":false,\"type\":\"scatter\",\"x\":[22694,22915,20660,19723,21934,21173,22868],\"xaxis\":\"x12\",\"y\":[15471,16261,14985,14587,17677,17942,19057],\"yaxis\":\"y12\"},{\"marker\":{\"color\":\"rgb(31, 119, 180)\"},\"showlegend\":false,\"type\":\"box\",\"xaxis\":\"x13\",\"y\":[20117,22334,26724,22004,23930,22429,21313,22036,20224,22332,21148,19306],\"yaxis\":\"y13\"},{\"marker\":{\"color\":\"rgb(255, 127, 14)\"},\"showlegend\":false,\"type\":\"box\",\"xaxis\":\"x13\",\"y\":[21558,27613,17072,9109,10846,14316,15805,14178,14015,14432,16411,16124],\"yaxis\":\"y13\"},{\"marker\":{\"color\":\"rgb(44, 160, 44)\"},\"showlegend\":false,\"type\":\"box\",\"xaxis\":\"x13\",\"y\":[15471,16261,14985,14587,17677,17942,19057],\"yaxis\":\"y13\"},{\"marker\":{\"color\":\"rgb(31, 119, 180)\",\"size\":6},\"mode\":\"markers\",\"name\":\"2019\",\"showlegend\":false,\"type\":\"scatter\",\"x\":[3762,3583,3929,4221,3819,3528,3628,3610,3616,4108,3801,3746],\"xaxis\":\"x14\",\"y\":[20117,22334,26724,22004,23930,22429,21313,22036,20224,22332,21148,19306],\"yaxis\":\"y14\"},{\"marker\":{\"color\":\"rgb(255, 127, 14)\",\"size\":6},\"mode\":\"markers\",\"name\":\"2020\",\"showlegend\":false,\"type\":\"scatter\",\"x\":[3488,3417,3085,2193,2148,2579,3136,3241,3080,3300,3499,3603],\"xaxis\":\"x14\",\"y\":[21558,27613,17072,9109,10846,14316,15805,14178,14015,14432,16411,16124],\"yaxis\":\"y14\"},{\"marker\":{\"color\":\"rgb(44, 160, 44)\",\"size\":6},\"mode\":\"markers\",\"name\":\"2021\",\"showlegend\":false,\"type\":\"scatter\",\"x\":[3317,3334,3309,2819,3123,2995,3168],\"xaxis\":\"x14\",\"y\":[15471,16261,14985,14587,17677,17942,19057],\"yaxis\":\"y14\"},{\"marker\":{\"color\":\"rgb(31, 119, 180)\",\"size\":6},\"mode\":\"markers\",\"name\":\"2019\",\"showlegend\":false,\"type\":\"scatter\",\"x\":[251,188,255,209,210,182,207,181,204,221,223,201],\"xaxis\":\"x15\",\"y\":[20117,22334,26724,22004,23930,22429,21313,22036,20224,22332,21148,19306],\"yaxis\":\"y15\"},{\"marker\":{\"color\":\"rgb(255, 127, 14)\",\"size\":6},\"mode\":\"markers\",\"name\":\"2020\",\"showlegend\":false,\"type\":\"scatter\",\"x\":[239,191,219,174,189,176,181,201,210,172,206,229],\"xaxis\":\"x15\",\"y\":[21558,27613,17072,9109,10846,14316,15805,14178,14015,14432,16411,16124],\"yaxis\":\"y15\"},{\"marker\":{\"color\":\"rgb(44, 160, 44)\",\"size\":6},\"mode\":\"markers\",\"name\":\"2021\",\"showlegend\":false,\"type\":\"scatter\",\"x\":[220,151,200,194,186,186,174],\"xaxis\":\"x15\",\"y\":[15471,16261,14985,14587,17677,17942,19057],\"yaxis\":\"y15\"},{\"marker\":{\"color\":\"rgb(31, 119, 180)\",\"size\":6},\"mode\":\"markers\",\"name\":\"2019\",\"showlegend\":false,\"type\":\"scatter\",\"x\":[428,372,476,458,398,354,396,418,506,604,496,420],\"xaxis\":\"x16\",\"y\":[3762,3583,3929,4221,3819,3528,3628,3610,3616,4108,3801,3746],\"yaxis\":\"y16\"},{\"marker\":{\"color\":\"rgb(255, 127, 14)\",\"size\":6},\"mode\":\"markers\",\"name\":\"2020\",\"showlegend\":false,\"type\":\"scatter\",\"x\":[476,410,438,256,240,372,410,382,426,396,420,410],\"xaxis\":\"x16\",\"y\":[3488,3417,3085,2193,2148,2579,3136,3241,3080,3300,3499,3603],\"yaxis\":\"y16\"},{\"marker\":{\"color\":\"rgb(44, 160, 44)\",\"size\":6},\"mode\":\"markers\",\"name\":\"2021\",\"showlegend\":false,\"type\":\"scatter\",\"x\":[434,434,426,368,362,366,362],\"xaxis\":\"x16\",\"y\":[3317,3334,3309,2819,3123,2995,3168],\"yaxis\":\"y16\"},{\"marker\":{\"color\":\"rgb(31, 119, 180)\",\"size\":6},\"mode\":\"markers\",\"name\":\"2019\",\"showlegend\":false,\"type\":\"scatter\",\"x\":[23707,21997,25416,24147,25008,26774,25726,26132,24605,26742,26406,26837],\"xaxis\":\"x17\",\"y\":[3762,3583,3929,4221,3819,3528,3628,3610,3616,4108,3801,3746],\"yaxis\":\"y17\"},{\"marker\":{\"color\":\"rgb(255, 127, 14)\",\"size\":6},\"mode\":\"markers\",\"name\":\"2020\",\"showlegend\":false,\"type\":\"scatter\",\"x\":[28713,30528,25596,17555,18783,22292,21342,18773,18092,19389,23350,24578],\"xaxis\":\"x17\",\"y\":[3488,3417,3085,2193,2148,2579,3136,3241,3080,3300,3499,3603],\"yaxis\":\"y17\"},{\"marker\":{\"color\":\"rgb(44, 160, 44)\",\"size\":6},\"mode\":\"markers\",\"name\":\"2021\",\"showlegend\":false,\"type\":\"scatter\",\"x\":[22694,22915,20660,19723,21934,21173,22868],\"xaxis\":\"x17\",\"y\":[3317,3334,3309,2819,3123,2995,3168],\"yaxis\":\"y17\"},{\"marker\":{\"color\":\"rgb(31, 119, 180)\",\"size\":6},\"mode\":\"markers\",\"name\":\"2019\",\"showlegend\":false,\"type\":\"scatter\",\"x\":[20117,22334,26724,22004,23930,22429,21313,22036,20224,22332,21148,19306],\"xaxis\":\"x18\",\"y\":[3762,3583,3929,4221,3819,3528,3628,3610,3616,4108,3801,3746],\"yaxis\":\"y18\"},{\"marker\":{\"color\":\"rgb(255, 127, 14)\",\"size\":6},\"mode\":\"markers\",\"name\":\"2020\",\"showlegend\":false,\"type\":\"scatter\",\"x\":[21558,27613,17072,9109,10846,14316,15805,14178,14015,14432,16411,16124],\"xaxis\":\"x18\",\"y\":[3488,3417,3085,2193,2148,2579,3136,3241,3080,3300,3499,3603],\"yaxis\":\"y18\"},{\"marker\":{\"color\":\"rgb(44, 160, 44)\",\"size\":6},\"mode\":\"markers\",\"name\":\"2021\",\"showlegend\":false,\"type\":\"scatter\",\"x\":[15471,16261,14985,14587,17677,17942,19057],\"xaxis\":\"x18\",\"y\":[3317,3334,3309,2819,3123,2995,3168],\"yaxis\":\"y18\"},{\"marker\":{\"color\":\"rgb(31, 119, 180)\"},\"showlegend\":false,\"type\":\"box\",\"xaxis\":\"x19\",\"y\":[3762,3583,3929,4221,3819,3528,3628,3610,3616,4108,3801,3746],\"yaxis\":\"y19\"},{\"marker\":{\"color\":\"rgb(255, 127, 14)\"},\"showlegend\":false,\"type\":\"box\",\"xaxis\":\"x19\",\"y\":[3488,3417,3085,2193,2148,2579,3136,3241,3080,3300,3499,3603],\"yaxis\":\"y19\"},{\"marker\":{\"color\":\"rgb(44, 160, 44)\"},\"showlegend\":false,\"type\":\"box\",\"xaxis\":\"x19\",\"y\":[3317,3334,3309,2819,3123,2995,3168],\"yaxis\":\"y19\"},{\"marker\":{\"color\":\"rgb(31, 119, 180)\",\"size\":6},\"mode\":\"markers\",\"name\":\"2019\",\"showlegend\":false,\"type\":\"scatter\",\"x\":[251,188,255,209,210,182,207,181,204,221,223,201],\"xaxis\":\"x20\",\"y\":[3762,3583,3929,4221,3819,3528,3628,3610,3616,4108,3801,3746],\"yaxis\":\"y20\"},{\"marker\":{\"color\":\"rgb(255, 127, 14)\",\"size\":6},\"mode\":\"markers\",\"name\":\"2020\",\"showlegend\":false,\"type\":\"scatter\",\"x\":[239,191,219,174,189,176,181,201,210,172,206,229],\"xaxis\":\"x20\",\"y\":[3488,3417,3085,2193,2148,2579,3136,3241,3080,3300,3499,3603],\"yaxis\":\"y20\"},{\"marker\":{\"color\":\"rgb(44, 160, 44)\",\"size\":6},\"mode\":\"markers\",\"name\":\"2021\",\"showlegend\":false,\"type\":\"scatter\",\"x\":[220,151,200,194,186,186,174],\"xaxis\":\"x20\",\"y\":[3317,3334,3309,2819,3123,2995,3168],\"yaxis\":\"y20\"},{\"marker\":{\"color\":\"rgb(31, 119, 180)\",\"size\":6},\"mode\":\"markers\",\"name\":\"2019\",\"showlegend\":false,\"type\":\"scatter\",\"x\":[428,372,476,458,398,354,396,418,506,604,496,420],\"xaxis\":\"x21\",\"y\":[251,188,255,209,210,182,207,181,204,221,223,201],\"yaxis\":\"y21\"},{\"marker\":{\"color\":\"rgb(255, 127, 14)\",\"size\":6},\"mode\":\"markers\",\"name\":\"2020\",\"showlegend\":false,\"type\":\"scatter\",\"x\":[476,410,438,256,240,372,410,382,426,396,420,410],\"xaxis\":\"x21\",\"y\":[239,191,219,174,189,176,181,201,210,172,206,229],\"yaxis\":\"y21\"},{\"marker\":{\"color\":\"rgb(44, 160, 44)\",\"size\":6},\"mode\":\"markers\",\"name\":\"2021\",\"showlegend\":false,\"type\":\"scatter\",\"x\":[434,434,426,368,362,366,362],\"xaxis\":\"x21\",\"y\":[220,151,200,194,186,186,174],\"yaxis\":\"y21\"},{\"marker\":{\"color\":\"rgb(31, 119, 180)\",\"size\":6},\"mode\":\"markers\",\"name\":\"2019\",\"showlegend\":false,\"type\":\"scatter\",\"x\":[23707,21997,25416,24147,25008,26774,25726,26132,24605,26742,26406,26837],\"xaxis\":\"x22\",\"y\":[251,188,255,209,210,182,207,181,204,221,223,201],\"yaxis\":\"y22\"},{\"marker\":{\"color\":\"rgb(255, 127, 14)\",\"size\":6},\"mode\":\"markers\",\"name\":\"2020\",\"showlegend\":false,\"type\":\"scatter\",\"x\":[28713,30528,25596,17555,18783,22292,21342,18773,18092,19389,23350,24578],\"xaxis\":\"x22\",\"y\":[239,191,219,174,189,176,181,201,210,172,206,229],\"yaxis\":\"y22\"},{\"marker\":{\"color\":\"rgb(44, 160, 44)\",\"size\":6},\"mode\":\"markers\",\"name\":\"2021\",\"showlegend\":false,\"type\":\"scatter\",\"x\":[22694,22915,20660,19723,21934,21173,22868],\"xaxis\":\"x22\",\"y\":[220,151,200,194,186,186,174],\"yaxis\":\"y22\"},{\"marker\":{\"color\":\"rgb(31, 119, 180)\",\"size\":6},\"mode\":\"markers\",\"name\":\"2019\",\"showlegend\":false,\"type\":\"scatter\",\"x\":[20117,22334,26724,22004,23930,22429,21313,22036,20224,22332,21148,19306],\"xaxis\":\"x23\",\"y\":[251,188,255,209,210,182,207,181,204,221,223,201],\"yaxis\":\"y23\"},{\"marker\":{\"color\":\"rgb(255, 127, 14)\",\"size\":6},\"mode\":\"markers\",\"name\":\"2020\",\"showlegend\":false,\"type\":\"scatter\",\"x\":[21558,27613,17072,9109,10846,14316,15805,14178,14015,14432,16411,16124],\"xaxis\":\"x23\",\"y\":[239,191,219,174,189,176,181,201,210,172,206,229],\"yaxis\":\"y23\"},{\"marker\":{\"color\":\"rgb(44, 160, 44)\",\"size\":6},\"mode\":\"markers\",\"name\":\"2021\",\"showlegend\":false,\"type\":\"scatter\",\"x\":[15471,16261,14985,14587,17677,17942,19057],\"xaxis\":\"x23\",\"y\":[220,151,200,194,186,186,174],\"yaxis\":\"y23\"},{\"marker\":{\"color\":\"rgb(31, 119, 180)\",\"size\":6},\"mode\":\"markers\",\"name\":\"2019\",\"showlegend\":false,\"type\":\"scatter\",\"x\":[3762,3583,3929,4221,3819,3528,3628,3610,3616,4108,3801,3746],\"xaxis\":\"x24\",\"y\":[251,188,255,209,210,182,207,181,204,221,223,201],\"yaxis\":\"y24\"},{\"marker\":{\"color\":\"rgb(255, 127, 14)\",\"size\":6},\"mode\":\"markers\",\"name\":\"2020\",\"showlegend\":false,\"type\":\"scatter\",\"x\":[3488,3417,3085,2193,2148,2579,3136,3241,3080,3300,3499,3603],\"xaxis\":\"x24\",\"y\":[239,191,219,174,189,176,181,201,210,172,206,229],\"yaxis\":\"y24\"},{\"marker\":{\"color\":\"rgb(44, 160, 44)\",\"size\":6},\"mode\":\"markers\",\"name\":\"2021\",\"showlegend\":false,\"type\":\"scatter\",\"x\":[3317,3334,3309,2819,3123,2995,3168],\"xaxis\":\"x24\",\"y\":[220,151,200,194,186,186,174],\"yaxis\":\"y24\"},{\"marker\":{\"color\":\"rgb(31, 119, 180)\"},\"showlegend\":false,\"type\":\"box\",\"xaxis\":\"x25\",\"y\":[251,188,255,209,210,182,207,181,204,221,223,201],\"yaxis\":\"y25\"},{\"marker\":{\"color\":\"rgb(255, 127, 14)\"},\"showlegend\":false,\"type\":\"box\",\"xaxis\":\"x25\",\"y\":[239,191,219,174,189,176,181,201,210,172,206,229],\"yaxis\":\"y25\"},{\"marker\":{\"color\":\"rgb(44, 160, 44)\"},\"showlegend\":false,\"type\":\"box\",\"xaxis\":\"x25\",\"y\":[220,151,200,194,186,186,174],\"yaxis\":\"y25\"}],                        {\"height\":1000,\"showlegend\":true,\"template\":{\"data\":{\"bar\":[{\"error_x\":{\"color\":\"#2a3f5f\"},\"error_y\":{\"color\":\"#2a3f5f\"},\"marker\":{\"line\":{\"color\":\"#E5ECF6\",\"width\":0.5},\"pattern\":{\"fillmode\":\"overlay\",\"size\":10,\"solidity\":0.2}},\"type\":\"bar\"}],\"barpolar\":[{\"marker\":{\"line\":{\"color\":\"#E5ECF6\",\"width\":0.5},\"pattern\":{\"fillmode\":\"overlay\",\"size\":10,\"solidity\":0.2}},\"type\":\"barpolar\"}],\"carpet\":[{\"aaxis\":{\"endlinecolor\":\"#2a3f5f\",\"gridcolor\":\"white\",\"linecolor\":\"white\",\"minorgridcolor\":\"white\",\"startlinecolor\":\"#2a3f5f\"},\"baxis\":{\"endlinecolor\":\"#2a3f5f\",\"gridcolor\":\"white\",\"linecolor\":\"white\",\"minorgridcolor\":\"white\",\"startlinecolor\":\"#2a3f5f\"},\"type\":\"carpet\"}],\"choropleth\":[{\"colorbar\":{\"outlinewidth\":0,\"ticks\":\"\"},\"type\":\"choropleth\"}],\"contour\":[{\"colorbar\":{\"outlinewidth\":0,\"ticks\":\"\"},\"colorscale\":[[0.0,\"#0d0887\"],[0.1111111111111111,\"#46039f\"],[0.2222222222222222,\"#7201a8\"],[0.3333333333333333,\"#9c179e\"],[0.4444444444444444,\"#bd3786\"],[0.5555555555555556,\"#d8576b\"],[0.6666666666666666,\"#ed7953\"],[0.7777777777777778,\"#fb9f3a\"],[0.8888888888888888,\"#fdca26\"],[1.0,\"#f0f921\"]],\"type\":\"contour\"}],\"contourcarpet\":[{\"colorbar\":{\"outlinewidth\":0,\"ticks\":\"\"},\"type\":\"contourcarpet\"}],\"heatmap\":[{\"colorbar\":{\"outlinewidth\":0,\"ticks\":\"\"},\"colorscale\":[[0.0,\"#0d0887\"],[0.1111111111111111,\"#46039f\"],[0.2222222222222222,\"#7201a8\"],[0.3333333333333333,\"#9c179e\"],[0.4444444444444444,\"#bd3786\"],[0.5555555555555556,\"#d8576b\"],[0.6666666666666666,\"#ed7953\"],[0.7777777777777778,\"#fb9f3a\"],[0.8888888888888888,\"#fdca26\"],[1.0,\"#f0f921\"]],\"type\":\"heatmap\"}],\"heatmapgl\":[{\"colorbar\":{\"outlinewidth\":0,\"ticks\":\"\"},\"colorscale\":[[0.0,\"#0d0887\"],[0.1111111111111111,\"#46039f\"],[0.2222222222222222,\"#7201a8\"],[0.3333333333333333,\"#9c179e\"],[0.4444444444444444,\"#bd3786\"],[0.5555555555555556,\"#d8576b\"],[0.6666666666666666,\"#ed7953\"],[0.7777777777777778,\"#fb9f3a\"],[0.8888888888888888,\"#fdca26\"],[1.0,\"#f0f921\"]],\"type\":\"heatmapgl\"}],\"histogram\":[{\"marker\":{\"pattern\":{\"fillmode\":\"overlay\",\"size\":10,\"solidity\":0.2}},\"type\":\"histogram\"}],\"histogram2d\":[{\"colorbar\":{\"outlinewidth\":0,\"ticks\":\"\"},\"colorscale\":[[0.0,\"#0d0887\"],[0.1111111111111111,\"#46039f\"],[0.2222222222222222,\"#7201a8\"],[0.3333333333333333,\"#9c179e\"],[0.4444444444444444,\"#bd3786\"],[0.5555555555555556,\"#d8576b\"],[0.6666666666666666,\"#ed7953\"],[0.7777777777777778,\"#fb9f3a\"],[0.8888888888888888,\"#fdca26\"],[1.0,\"#f0f921\"]],\"type\":\"histogram2d\"}],\"histogram2dcontour\":[{\"colorbar\":{\"outlinewidth\":0,\"ticks\":\"\"},\"colorscale\":[[0.0,\"#0d0887\"],[0.1111111111111111,\"#46039f\"],[0.2222222222222222,\"#7201a8\"],[0.3333333333333333,\"#9c179e\"],[0.4444444444444444,\"#bd3786\"],[0.5555555555555556,\"#d8576b\"],[0.6666666666666666,\"#ed7953\"],[0.7777777777777778,\"#fb9f3a\"],[0.8888888888888888,\"#fdca26\"],[1.0,\"#f0f921\"]],\"type\":\"histogram2dcontour\"}],\"mesh3d\":[{\"colorbar\":{\"outlinewidth\":0,\"ticks\":\"\"},\"type\":\"mesh3d\"}],\"parcoords\":[{\"line\":{\"colorbar\":{\"outlinewidth\":0,\"ticks\":\"\"}},\"type\":\"parcoords\"}],\"pie\":[{\"automargin\":true,\"type\":\"pie\"}],\"scatter\":[{\"marker\":{\"colorbar\":{\"outlinewidth\":0,\"ticks\":\"\"}},\"type\":\"scatter\"}],\"scatter3d\":[{\"line\":{\"colorbar\":{\"outlinewidth\":0,\"ticks\":\"\"}},\"marker\":{\"colorbar\":{\"outlinewidth\":0,\"ticks\":\"\"}},\"type\":\"scatter3d\"}],\"scattercarpet\":[{\"marker\":{\"colorbar\":{\"outlinewidth\":0,\"ticks\":\"\"}},\"type\":\"scattercarpet\"}],\"scattergeo\":[{\"marker\":{\"colorbar\":{\"outlinewidth\":0,\"ticks\":\"\"}},\"type\":\"scattergeo\"}],\"scattergl\":[{\"marker\":{\"colorbar\":{\"outlinewidth\":0,\"ticks\":\"\"}},\"type\":\"scattergl\"}],\"scattermapbox\":[{\"marker\":{\"colorbar\":{\"outlinewidth\":0,\"ticks\":\"\"}},\"type\":\"scattermapbox\"}],\"scatterpolar\":[{\"marker\":{\"colorbar\":{\"outlinewidth\":0,\"ticks\":\"\"}},\"type\":\"scatterpolar\"}],\"scatterpolargl\":[{\"marker\":{\"colorbar\":{\"outlinewidth\":0,\"ticks\":\"\"}},\"type\":\"scatterpolargl\"}],\"scatterternary\":[{\"marker\":{\"colorbar\":{\"outlinewidth\":0,\"ticks\":\"\"}},\"type\":\"scatterternary\"}],\"surface\":[{\"colorbar\":{\"outlinewidth\":0,\"ticks\":\"\"},\"colorscale\":[[0.0,\"#0d0887\"],[0.1111111111111111,\"#46039f\"],[0.2222222222222222,\"#7201a8\"],[0.3333333333333333,\"#9c179e\"],[0.4444444444444444,\"#bd3786\"],[0.5555555555555556,\"#d8576b\"],[0.6666666666666666,\"#ed7953\"],[0.7777777777777778,\"#fb9f3a\"],[0.8888888888888888,\"#fdca26\"],[1.0,\"#f0f921\"]],\"type\":\"surface\"}],\"table\":[{\"cells\":{\"fill\":{\"color\":\"#EBF0F8\"},\"line\":{\"color\":\"white\"}},\"header\":{\"fill\":{\"color\":\"#C8D4E3\"},\"line\":{\"color\":\"white\"}},\"type\":\"table\"}]},\"layout\":{\"annotationdefaults\":{\"arrowcolor\":\"#2a3f5f\",\"arrowhead\":0,\"arrowwidth\":1},\"autotypenumbers\":\"strict\",\"coloraxis\":{\"colorbar\":{\"outlinewidth\":0,\"ticks\":\"\"}},\"colorscale\":{\"diverging\":[[0,\"#8e0152\"],[0.1,\"#c51b7d\"],[0.2,\"#de77ae\"],[0.3,\"#f1b6da\"],[0.4,\"#fde0ef\"],[0.5,\"#f7f7f7\"],[0.6,\"#e6f5d0\"],[0.7,\"#b8e186\"],[0.8,\"#7fbc41\"],[0.9,\"#4d9221\"],[1,\"#276419\"]],\"sequential\":[[0.0,\"#0d0887\"],[0.1111111111111111,\"#46039f\"],[0.2222222222222222,\"#7201a8\"],[0.3333333333333333,\"#9c179e\"],[0.4444444444444444,\"#bd3786\"],[0.5555555555555556,\"#d8576b\"],[0.6666666666666666,\"#ed7953\"],[0.7777777777777778,\"#fb9f3a\"],[0.8888888888888888,\"#fdca26\"],[1.0,\"#f0f921\"]],\"sequentialminus\":[[0.0,\"#0d0887\"],[0.1111111111111111,\"#46039f\"],[0.2222222222222222,\"#7201a8\"],[0.3333333333333333,\"#9c179e\"],[0.4444444444444444,\"#bd3786\"],[0.5555555555555556,\"#d8576b\"],[0.6666666666666666,\"#ed7953\"],[0.7777777777777778,\"#fb9f3a\"],[0.8888888888888888,\"#fdca26\"],[1.0,\"#f0f921\"]]},\"colorway\":[\"#636efa\",\"#EF553B\",\"#00cc96\",\"#ab63fa\",\"#FFA15A\",\"#19d3f3\",\"#FF6692\",\"#B6E880\",\"#FF97FF\",\"#FECB52\"],\"font\":{\"color\":\"#2a3f5f\"},\"geo\":{\"bgcolor\":\"white\",\"lakecolor\":\"white\",\"landcolor\":\"#E5ECF6\",\"showlakes\":true,\"showland\":true,\"subunitcolor\":\"white\"},\"hoverlabel\":{\"align\":\"left\"},\"hovermode\":\"closest\",\"mapbox\":{\"style\":\"light\"},\"paper_bgcolor\":\"white\",\"plot_bgcolor\":\"#E5ECF6\",\"polar\":{\"angularaxis\":{\"gridcolor\":\"white\",\"linecolor\":\"white\",\"ticks\":\"\"},\"bgcolor\":\"#E5ECF6\",\"radialaxis\":{\"gridcolor\":\"white\",\"linecolor\":\"white\",\"ticks\":\"\"}},\"scene\":{\"xaxis\":{\"backgroundcolor\":\"#E5ECF6\",\"gridcolor\":\"white\",\"gridwidth\":2,\"linecolor\":\"white\",\"showbackground\":true,\"ticks\":\"\",\"zerolinecolor\":\"white\"},\"yaxis\":{\"backgroundcolor\":\"#E5ECF6\",\"gridcolor\":\"white\",\"gridwidth\":2,\"linecolor\":\"white\",\"showbackground\":true,\"ticks\":\"\",\"zerolinecolor\":\"white\"},\"zaxis\":{\"backgroundcolor\":\"#E5ECF6\",\"gridcolor\":\"white\",\"gridwidth\":2,\"linecolor\":\"white\",\"showbackground\":true,\"ticks\":\"\",\"zerolinecolor\":\"white\"}},\"shapedefaults\":{\"line\":{\"color\":\"#2a3f5f\"}},\"ternary\":{\"aaxis\":{\"gridcolor\":\"white\",\"linecolor\":\"white\",\"ticks\":\"\"},\"baxis\":{\"gridcolor\":\"white\",\"linecolor\":\"white\",\"ticks\":\"\"},\"bgcolor\":\"#E5ECF6\",\"caxis\":{\"gridcolor\":\"white\",\"linecolor\":\"white\",\"ticks\":\"\"}},\"title\":{\"x\":0.05},\"xaxis\":{\"automargin\":true,\"gridcolor\":\"white\",\"linecolor\":\"white\",\"ticks\":\"\",\"title\":{\"standoff\":15},\"zerolinecolor\":\"white\",\"zerolinewidth\":2},\"yaxis\":{\"automargin\":true,\"gridcolor\":\"white\",\"linecolor\":\"white\",\"ticks\":\"\",\"title\":{\"standoff\":15},\"zerolinecolor\":\"white\",\"zerolinewidth\":2}}},\"title\":{\"text\":\"Scatterplot Matrix\"},\"width\":1000,\"xaxis\":{\"anchor\":\"y\",\"domain\":[0.0,0.16799999999999998],\"showticklabels\":false},\"xaxis10\":{\"anchor\":\"y10\",\"domain\":[0.832,1.0]},\"xaxis11\":{\"anchor\":\"y11\",\"domain\":[0.0,0.16799999999999998]},\"xaxis12\":{\"anchor\":\"y12\",\"domain\":[0.208,0.376]},\"xaxis13\":{\"anchor\":\"y13\",\"domain\":[0.416,0.584],\"showticklabels\":false},\"xaxis14\":{\"anchor\":\"y14\",\"domain\":[0.624,0.792]},\"xaxis15\":{\"anchor\":\"y15\",\"domain\":[0.832,1.0]},\"xaxis16\":{\"anchor\":\"y16\",\"domain\":[0.0,0.16799999999999998]},\"xaxis17\":{\"anchor\":\"y17\",\"domain\":[0.208,0.376]},\"xaxis18\":{\"anchor\":\"y18\",\"domain\":[0.416,0.584]},\"xaxis19\":{\"anchor\":\"y19\",\"domain\":[0.624,0.792],\"showticklabels\":false},\"xaxis2\":{\"anchor\":\"y2\",\"domain\":[0.208,0.376]},\"xaxis20\":{\"anchor\":\"y20\",\"domain\":[0.832,1.0]},\"xaxis21\":{\"anchor\":\"y21\",\"domain\":[0.0,0.16799999999999998],\"title\":{\"text\":\"ESTUPRO\"}},\"xaxis22\":{\"anchor\":\"y22\",\"domain\":[0.208,0.376],\"title\":{\"text\":\"ROUBO\"}},\"xaxis23\":{\"anchor\":\"y23\",\"domain\":[0.416,0.584],\"title\":{\"text\":\"FURTO\"}},\"xaxis24\":{\"anchor\":\"y24\",\"domain\":[0.624,0.792],\"title\":{\"text\":\"LES\\u00c3O\"}},\"xaxis25\":{\"anchor\":\"y25\",\"domain\":[0.832,1.0],\"showticklabels\":false,\"title\":{\"text\":\"HOMIC\\u00cdDIO\"}},\"xaxis3\":{\"anchor\":\"y3\",\"domain\":[0.416,0.584]},\"xaxis4\":{\"anchor\":\"y4\",\"domain\":[0.624,0.792]},\"xaxis5\":{\"anchor\":\"y5\",\"domain\":[0.832,1.0]},\"xaxis6\":{\"anchor\":\"y6\",\"domain\":[0.0,0.16799999999999998]},\"xaxis7\":{\"anchor\":\"y7\",\"domain\":[0.208,0.376],\"showticklabels\":false},\"xaxis8\":{\"anchor\":\"y8\",\"domain\":[0.416,0.584]},\"xaxis9\":{\"anchor\":\"y9\",\"domain\":[0.624,0.792]},\"yaxis\":{\"anchor\":\"x\",\"domain\":[0.848,1.0],\"title\":{\"text\":\"ESTUPRO\"}},\"yaxis10\":{\"anchor\":\"x10\",\"domain\":[0.6359999999999999,0.7879999999999999]},\"yaxis11\":{\"anchor\":\"x11\",\"domain\":[0.424,0.576],\"title\":{\"text\":\"FURTO\"}},\"yaxis12\":{\"anchor\":\"x12\",\"domain\":[0.424,0.576]},\"yaxis13\":{\"anchor\":\"x13\",\"domain\":[0.424,0.576]},\"yaxis14\":{\"anchor\":\"x14\",\"domain\":[0.424,0.576]},\"yaxis15\":{\"anchor\":\"x15\",\"domain\":[0.424,0.576]},\"yaxis16\":{\"anchor\":\"x16\",\"domain\":[0.212,0.364],\"title\":{\"text\":\"LES\\u00c3O\"}},\"yaxis17\":{\"anchor\":\"x17\",\"domain\":[0.212,0.364]},\"yaxis18\":{\"anchor\":\"x18\",\"domain\":[0.212,0.364]},\"yaxis19\":{\"anchor\":\"x19\",\"domain\":[0.212,0.364]},\"yaxis2\":{\"anchor\":\"x2\",\"domain\":[0.848,1.0]},\"yaxis20\":{\"anchor\":\"x20\",\"domain\":[0.212,0.364]},\"yaxis21\":{\"anchor\":\"x21\",\"domain\":[0.0,0.152],\"title\":{\"text\":\"HOMIC\\u00cdDIO\"}},\"yaxis22\":{\"anchor\":\"x22\",\"domain\":[0.0,0.152]},\"yaxis23\":{\"anchor\":\"x23\",\"domain\":[0.0,0.152]},\"yaxis24\":{\"anchor\":\"x24\",\"domain\":[0.0,0.152]},\"yaxis25\":{\"anchor\":\"x25\",\"domain\":[0.0,0.152]},\"yaxis3\":{\"anchor\":\"x3\",\"domain\":[0.848,1.0]},\"yaxis4\":{\"anchor\":\"x4\",\"domain\":[0.848,1.0]},\"yaxis5\":{\"anchor\":\"x5\",\"domain\":[0.848,1.0]},\"yaxis6\":{\"anchor\":\"x6\",\"domain\":[0.6359999999999999,0.7879999999999999],\"title\":{\"text\":\"ROUBO\"}},\"yaxis7\":{\"anchor\":\"x7\",\"domain\":[0.6359999999999999,0.7879999999999999]},\"yaxis8\":{\"anchor\":\"x8\",\"domain\":[0.6359999999999999,0.7879999999999999]},\"yaxis9\":{\"anchor\":\"x9\",\"domain\":[0.6359999999999999,0.7879999999999999]}},                        {\"responsive\": true}                    ).then(function(){\n",
       "                            \n",
       "var gd = document.getElementById('11f45bae-3870-449b-9da8-a8c1d5a8f42d');\n",
       "var x = new MutationObserver(function (mutations, observer) {{\n",
       "        var display = window.getComputedStyle(gd).display;\n",
       "        if (!display || display === 'none') {{\n",
       "            console.log([gd, 'removed!']);\n",
       "            Plotly.purge(gd);\n",
       "            observer.disconnect();\n",
       "        }}\n",
       "}});\n",
       "\n",
       "// Listen for the removal of the full notebook cells\n",
       "var notebookContainer = gd.closest('#notebook-container');\n",
       "if (notebookContainer) {{\n",
       "    x.observe(notebookContainer, {childList: true});\n",
       "}}\n",
       "\n",
       "// Listen for the clearing of the current output cell\n",
       "var outputEl = gd.closest('.output');\n",
       "if (outputEl) {{\n",
       "    x.observe(outputEl, {childList: true});\n",
       "}}\n",
       "\n",
       "                        })                };                });            </script>        </div>"
      ]
     },
     "metadata": {},
     "output_type": "display_data"
    }
   ],
   "source": [
    "fig = ff.create_scatterplotmatrix(df_crime_consolidado, diag='box', index='ANO', height=1000, width=1000)\n",
    "fig.write_html('../reports/crimes_scatter.html')\n",
    "fig.show()"
   ]
  },
  {
   "cell_type": "markdown",
   "id": "cec85a5a",
   "metadata": {},
   "source": [
    "# References\n",
    "We report here relevant references:\n",
    "1. author1, article1, journal1, year1, url1\n",
    "2. author2, article2, journal2, year2, url2"
   ]
  },
  {
   "cell_type": "code",
   "execution_count": null,
   "id": "445ff163",
   "metadata": {},
   "outputs": [],
   "source": []
  },
  {
   "cell_type": "code",
   "execution_count": null,
   "id": "f060ed21",
   "metadata": {},
   "outputs": [],
   "source": []
  }
 ],
 "metadata": {
  "hide_input": false,
  "kernelspec": {
   "display_name": "Python 3 (ipykernel)",
   "language": "python",
   "name": "python3"
  },
  "language_info": {
   "codemirror_mode": {
    "name": "ipython",
    "version": 3
   },
   "file_extension": ".py",
   "mimetype": "text/x-python",
   "name": "python",
   "nbconvert_exporter": "python",
   "pygments_lexer": "ipython3",
   "version": "3.8.5"
  },
  "toc": {
   "base_numbering": 1,
   "nav_menu": {},
   "number_sections": true,
   "sideBar": true,
   "skip_h1_title": false,
   "title_cell": "Table of Contents",
   "title_sidebar": "Contents",
   "toc_cell": false,
   "toc_position": {},
   "toc_section_display": true,
   "toc_window_display": false
  }
 },
 "nbformat": 4,
 "nbformat_minor": 5
}
