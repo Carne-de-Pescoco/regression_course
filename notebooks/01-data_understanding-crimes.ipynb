{
 "cells": [
  {
   "cell_type": "markdown",
   "id": "0d1f7927",
   "metadata": {},
   "source": [
    "# Data understanding - crimes at SP\n",
    "\n",
    "## Purpose\n",
    "Initiate the understanding about the data within the SSP/SP.\n",
    "\n",
    "## Methodology\n",
    "EDA"
   ]
  },
  {
   "cell_type": "markdown",
   "id": "ee72c532",
   "metadata": {},
   "source": [
    "# Setup\n",
    "\n",
    "## Library import\n",
    "We import all the required Python libraries"
   ]
  },
  {
   "cell_type": "code",
   "execution_count": 1,
   "id": "351025fb",
   "metadata": {
    "ExecuteTime": {
     "end_time": "2021-09-07T02:35:40.419312Z",
     "start_time": "2021-09-07T02:35:38.502629Z"
    }
   },
   "outputs": [
    {
     "data": {
      "text/html": [
       "        <script type=\"text/javascript\">\n",
       "        window.PlotlyConfig = {MathJaxConfig: 'local'};\n",
       "        if (window.MathJax) {MathJax.Hub.Config({SVG: {font: \"STIX-Web\"}});}\n",
       "        if (typeof require !== 'undefined') {\n",
       "        require.undef(\"plotly\");\n",
       "        requirejs.config({\n",
       "            paths: {\n",
       "                'plotly': ['https://cdn.plot.ly/plotly-2.4.2.min']\n",
       "            }\n",
       "        });\n",
       "        require(['plotly'], function(Plotly) {\n",
       "            window._Plotly = Plotly;\n",
       "        });\n",
       "        }\n",
       "        </script>\n",
       "        "
      ]
     },
     "metadata": {},
     "output_type": "display_data"
    },
    {
     "data": {
      "text/html": [
       "        <script type=\"text/javascript\">\n",
       "        window.PlotlyConfig = {MathJaxConfig: 'local'};\n",
       "        if (window.MathJax) {MathJax.Hub.Config({SVG: {font: \"STIX-Web\"}});}\n",
       "        if (typeof require !== 'undefined') {\n",
       "        require.undef(\"plotly\");\n",
       "        requirejs.config({\n",
       "            paths: {\n",
       "                'plotly': ['https://cdn.plot.ly/plotly-2.4.2.min']\n",
       "            }\n",
       "        });\n",
       "        require(['plotly'], function(Plotly) {\n",
       "            window._Plotly = Plotly;\n",
       "        });\n",
       "        }\n",
       "        </script>\n",
       "        "
      ]
     },
     "metadata": {},
     "output_type": "display_data"
    }
   ],
   "source": [
    "import os\n",
    "import warnings\n",
    "\n",
    "import cufflinks as cf\n",
    "from feature_engine.selection import DropConstantFeatures, DropDuplicateFeatures\n",
    "import pandas as pd\n",
    "import numpy as np\n",
    "import matplotlib.pyplot as plt\n",
    "import plotly\n",
    "import chart_studio.plotly as py\n",
    "import plotly.graph_objects as go\n",
    "import plotly.offline as ply\n",
    "import plotly.figure_factory as ff\n",
    "import seaborn as sns\n",
    "\n",
    "# Options for libraries\n",
    "cf.go_offline(connected=True)\n",
    "cf.set_config_file(theme='white')\n",
    "pd.options.display.max_columns = None\n",
    "pd.options.display.max_rows = 30\n",
    "plotly.offline.init_notebook_mode(connected=True)\n",
    "plt.style.use('seaborn-paper')\n",
    "warnings.filterwarnings(\"ignore\")\n",
    "\n",
    "# Autoreload extension\n",
    "if 'autoreload' not in get_ipython().extension_manager.loaded:\n",
    "    %load_ext autoreload\n",
    "    \n",
    "%autoreload 2\n",
    "%matplotlib inline"
   ]
  },
  {
   "cell_type": "markdown",
   "id": "88c79c43",
   "metadata": {},
   "source": [
    "## Local library import\n",
    "We import all the required local libraries libraries"
   ]
  },
  {
   "cell_type": "code",
   "execution_count": 2,
   "id": "222f747e",
   "metadata": {
    "ExecuteTime": {
     "end_time": "2021-09-07T02:35:40.530590Z",
     "start_time": "2021-09-07T02:35:40.421261Z"
    }
   },
   "outputs": [],
   "source": [
    "# Include local library paths\n",
    "os.chdir('../')\n",
    "# Wrtite here the local imports.\n",
    "# from src.utils.example import example\n",
    "os.chdir('./notebooks/')"
   ]
  },
  {
   "cell_type": "markdown",
   "id": "c9f4e71a",
   "metadata": {},
   "source": [
    "# Parameter definition\n",
    "We set all relevant parameters for our notebook. By convention, parameters are uppercase, while all the \n",
    "other variables follow Python's guidelines."
   ]
  },
  {
   "cell_type": "code",
   "execution_count": 3,
   "id": "bc29468b",
   "metadata": {
    "ExecuteTime": {
     "end_time": "2021-09-07T02:35:42.039073Z",
     "start_time": "2021-09-07T02:35:41.942448Z"
    }
   },
   "outputs": [],
   "source": [
    "# Data folders\n",
    "RAW_DATA_FOLDER = \"../data/raw/\"\n",
    "INTERIM_DATA_FOLDER = \"../data/interim/\"\n",
    "PROCESSED_DATA_FOLDER = \"../data/processed/\"\n",
    "\n",
    "RANDOM_STATE = 42"
   ]
  },
  {
   "cell_type": "markdown",
   "id": "dba2ec8d",
   "metadata": {},
   "source": [
    "\n",
    "# Data import\n",
    "We retrieve all the required data for the analysis."
   ]
  },
  {
   "cell_type": "code",
   "execution_count": 4,
   "id": "9e1bd8b7",
   "metadata": {
    "ExecuteTime": {
     "end_time": "2021-09-07T02:35:43.312922Z",
     "start_time": "2021-09-07T02:35:43.085210Z"
    }
   },
   "outputs": [
    {
     "name": "stdout",
     "output_type": "stream",
     "text": [
      "df's shape: (79, 38)\n"
     ]
    },
    {
     "data": {
      "text/html": [
       "<div>\n",
       "<style scoped>\n",
       "    .dataframe tbody tr th:only-of-type {\n",
       "        vertical-align: middle;\n",
       "    }\n",
       "\n",
       "    .dataframe tbody tr th {\n",
       "        vertical-align: top;\n",
       "    }\n",
       "\n",
       "    .dataframe thead th {\n",
       "        text-align: right;\n",
       "    }\n",
       "</style>\n",
       "<table border=\"1\" class=\"dataframe\">\n",
       "  <thead>\n",
       "    <tr style=\"text-align: right;\">\n",
       "      <th>Ocorrencia</th>\n",
       "      <th>ANO</th>\n",
       "      <th>MES</th>\n",
       "      <th>Nº DE ARMAS DE FOGO APREENDIDAS</th>\n",
       "      <th>Nº DE FLAGRANTES LAVRADOS</th>\n",
       "      <th>Nº DE INFRATORES APREENDIDOS EM FLAGRANTE</th>\n",
       "      <th>Nº DE INFRATORES APREENDIDOS POR MANDADO</th>\n",
       "      <th>Nº DE PESSOAS PRESAS EM FLAGRANTE</th>\n",
       "      <th>Nº DE PESSOAS PRESAS POR MANDADO</th>\n",
       "      <th>Nº DE PRISÕES EFETUADAS</th>\n",
       "      <th>Nº DE VEÍCULOS RECUPERADOS</th>\n",
       "      <th>OCORRÊNCIAS DE APREENSÃO DE ENTORPECENTES(1)</th>\n",
       "      <th>OCORRÊNCIAS DE PORTE DE ENTORPECENTES</th>\n",
       "      <th>OCORRÊNCIAS DE PORTE ILEGAL DE ARMA</th>\n",
       "      <th>OCORRÊNCIAS DE TRÁFICO DE ENTORPECENTES</th>\n",
       "      <th>TOT. DE INQUÉRITOS POLICIAIS INSTAURADOS</th>\n",
       "      <th>ESTUPRO</th>\n",
       "      <th>ESTUPRO DE VULNERÁVEL</th>\n",
       "      <th>FURTO - OUTROS</th>\n",
       "      <th>FURTO DE VEÍCULO</th>\n",
       "      <th>HOMICÍDIO CULPOSO OUTROS</th>\n",
       "      <th>HOMICÍDIO CULPOSO POR ACIDENTE DE TRÂNSITO</th>\n",
       "      <th>HOMICÍDIO DOLOSO (2)</th>\n",
       "      <th>HOMICÍDIO DOLOSO POR ACIDENTE DE TRÂNSITO</th>\n",
       "      <th>LATROCÍNIO</th>\n",
       "      <th>LESÃO CORPORAL CULPOSA - OUTRAS</th>\n",
       "      <th>LESÃO CORPORAL CULPOSA POR ACIDENTE DE TRÂNSITO</th>\n",
       "      <th>LESÃO CORPORAL DOLOSA</th>\n",
       "      <th>LESÃO CORPORAL SEGUIDA DE MORTE</th>\n",
       "      <th>Nº DE VÍTIMAS EM HOMICÍDIO DOLOSO (3)</th>\n",
       "      <th>Nº DE VÍTIMAS EM HOMICÍDIO DOLOSO POR ACIDENTE DE TRÂNSITO</th>\n",
       "      <th>Nº DE VÍTIMAS EM LATROCÍNIO</th>\n",
       "      <th>ROUBO - OUTROS</th>\n",
       "      <th>ROUBO A BANCO</th>\n",
       "      <th>ROUBO DE CARGA</th>\n",
       "      <th>ROUBO DE VEÍCULO</th>\n",
       "      <th>TENTATIVA DE HOMICÍDIO</th>\n",
       "      <th>TOTAL DE ESTUPRO (4)</th>\n",
       "      <th>TOTAL DE ROUBO - OUTROS (1)</th>\n",
       "    </tr>\n",
       "  </thead>\n",
       "  <tbody>\n",
       "    <tr>\n",
       "      <th>201501</th>\n",
       "      <td>2015</td>\n",
       "      <td>01</td>\n",
       "      <td>413</td>\n",
       "      <td>2223</td>\n",
       "      <td>245</td>\n",
       "      <td>27</td>\n",
       "      <td>2675</td>\n",
       "      <td>626</td>\n",
       "      <td>2528</td>\n",
       "      <td>3405</td>\n",
       "      <td>33</td>\n",
       "      <td>155</td>\n",
       "      <td>94</td>\n",
       "      <td>431</td>\n",
       "      <td>8323</td>\n",
       "      <td>NaN</td>\n",
       "      <td>NaN</td>\n",
       "      <td>13387.0</td>\n",
       "      <td>3818.0</td>\n",
       "      <td>2.0</td>\n",
       "      <td>26.0</td>\n",
       "      <td>97.0</td>\n",
       "      <td>0.0</td>\n",
       "      <td>9.0</td>\n",
       "      <td>85.0</td>\n",
       "      <td>1680.0</td>\n",
       "      <td>2675.0</td>\n",
       "      <td>NaN</td>\n",
       "      <td>102.0</td>\n",
       "      <td>0.0</td>\n",
       "      <td>9.0</td>\n",
       "      <td>NaN</td>\n",
       "      <td>7.0</td>\n",
       "      <td>514.0</td>\n",
       "      <td>3691.0</td>\n",
       "      <td>112.0</td>\n",
       "      <td>181.0</td>\n",
       "      <td>13188.0</td>\n",
       "    </tr>\n",
       "    <tr>\n",
       "      <th>201502</th>\n",
       "      <td>2015</td>\n",
       "      <td>02</td>\n",
       "      <td>363</td>\n",
       "      <td>2157</td>\n",
       "      <td>269</td>\n",
       "      <td>34</td>\n",
       "      <td>2591</td>\n",
       "      <td>586</td>\n",
       "      <td>2428</td>\n",
       "      <td>3188</td>\n",
       "      <td>51</td>\n",
       "      <td>241</td>\n",
       "      <td>109</td>\n",
       "      <td>506</td>\n",
       "      <td>8017</td>\n",
       "      <td>NaN</td>\n",
       "      <td>NaN</td>\n",
       "      <td>12931.0</td>\n",
       "      <td>3611.0</td>\n",
       "      <td>3.0</td>\n",
       "      <td>30.0</td>\n",
       "      <td>93.0</td>\n",
       "      <td>1.0</td>\n",
       "      <td>8.0</td>\n",
       "      <td>68.0</td>\n",
       "      <td>1574.0</td>\n",
       "      <td>2396.0</td>\n",
       "      <td>NaN</td>\n",
       "      <td>98.0</td>\n",
       "      <td>1.0</td>\n",
       "      <td>8.0</td>\n",
       "      <td>NaN</td>\n",
       "      <td>10.0</td>\n",
       "      <td>431.0</td>\n",
       "      <td>3261.0</td>\n",
       "      <td>70.0</td>\n",
       "      <td>163.0</td>\n",
       "      <td>12393.0</td>\n",
       "    </tr>\n",
       "    <tr>\n",
       "      <th>201503</th>\n",
       "      <td>2015</td>\n",
       "      <td>03</td>\n",
       "      <td>469</td>\n",
       "      <td>2605</td>\n",
       "      <td>319</td>\n",
       "      <td>54</td>\n",
       "      <td>3062</td>\n",
       "      <td>818</td>\n",
       "      <td>3026</td>\n",
       "      <td>3352</td>\n",
       "      <td>73</td>\n",
       "      <td>291</td>\n",
       "      <td>148</td>\n",
       "      <td>661</td>\n",
       "      <td>9523</td>\n",
       "      <td>NaN</td>\n",
       "      <td>NaN</td>\n",
       "      <td>16226.0</td>\n",
       "      <td>4253.0</td>\n",
       "      <td>4.0</td>\n",
       "      <td>49.0</td>\n",
       "      <td>103.0</td>\n",
       "      <td>0.0</td>\n",
       "      <td>12.0</td>\n",
       "      <td>83.0</td>\n",
       "      <td>2004.0</td>\n",
       "      <td>2592.0</td>\n",
       "      <td>NaN</td>\n",
       "      <td>114.0</td>\n",
       "      <td>0.0</td>\n",
       "      <td>12.0</td>\n",
       "      <td>NaN</td>\n",
       "      <td>7.0</td>\n",
       "      <td>533.0</td>\n",
       "      <td>3376.0</td>\n",
       "      <td>79.0</td>\n",
       "      <td>197.0</td>\n",
       "      <td>14217.0</td>\n",
       "    </tr>\n",
       "    <tr>\n",
       "      <th>201504</th>\n",
       "      <td>2015</td>\n",
       "      <td>04</td>\n",
       "      <td>392</td>\n",
       "      <td>2408</td>\n",
       "      <td>327</td>\n",
       "      <td>30</td>\n",
       "      <td>2895</td>\n",
       "      <td>871</td>\n",
       "      <td>2767</td>\n",
       "      <td>2952</td>\n",
       "      <td>68</td>\n",
       "      <td>335</td>\n",
       "      <td>125</td>\n",
       "      <td>627</td>\n",
       "      <td>7835</td>\n",
       "      <td>NaN</td>\n",
       "      <td>NaN</td>\n",
       "      <td>15233.0</td>\n",
       "      <td>3805.0</td>\n",
       "      <td>3.0</td>\n",
       "      <td>31.0</td>\n",
       "      <td>81.0</td>\n",
       "      <td>0.0</td>\n",
       "      <td>9.0</td>\n",
       "      <td>88.0</td>\n",
       "      <td>1756.0</td>\n",
       "      <td>2351.0</td>\n",
       "      <td>NaN</td>\n",
       "      <td>97.0</td>\n",
       "      <td>0.0</td>\n",
       "      <td>9.0</td>\n",
       "      <td>NaN</td>\n",
       "      <td>12.0</td>\n",
       "      <td>463.0</td>\n",
       "      <td>3214.0</td>\n",
       "      <td>86.0</td>\n",
       "      <td>167.0</td>\n",
       "      <td>12947.0</td>\n",
       "    </tr>\n",
       "    <tr>\n",
       "      <th>201505</th>\n",
       "      <td>2015</td>\n",
       "      <td>05</td>\n",
       "      <td>353</td>\n",
       "      <td>2530</td>\n",
       "      <td>352</td>\n",
       "      <td>55</td>\n",
       "      <td>3084</td>\n",
       "      <td>835</td>\n",
       "      <td>2941</td>\n",
       "      <td>3060</td>\n",
       "      <td>61</td>\n",
       "      <td>416</td>\n",
       "      <td>106</td>\n",
       "      <td>660</td>\n",
       "      <td>8532</td>\n",
       "      <td>NaN</td>\n",
       "      <td>NaN</td>\n",
       "      <td>14858.0</td>\n",
       "      <td>3587.0</td>\n",
       "      <td>2.0</td>\n",
       "      <td>39.0</td>\n",
       "      <td>83.0</td>\n",
       "      <td>1.0</td>\n",
       "      <td>13.0</td>\n",
       "      <td>71.0</td>\n",
       "      <td>1886.0</td>\n",
       "      <td>2142.0</td>\n",
       "      <td>NaN</td>\n",
       "      <td>84.0</td>\n",
       "      <td>1.0</td>\n",
       "      <td>14.0</td>\n",
       "      <td>NaN</td>\n",
       "      <td>4.0</td>\n",
       "      <td>395.0</td>\n",
       "      <td>2843.0</td>\n",
       "      <td>83.0</td>\n",
       "      <td>164.0</td>\n",
       "      <td>12196.0</td>\n",
       "    </tr>\n",
       "  </tbody>\n",
       "</table>\n",
       "</div>"
      ],
      "text/plain": [
       "Ocorrencia   ANO MES  Nº DE ARMAS DE FOGO APREENDIDAS  \\\n",
       "201501      2015  01                              413   \n",
       "201502      2015  02                              363   \n",
       "201503      2015  03                              469   \n",
       "201504      2015  04                              392   \n",
       "201505      2015  05                              353   \n",
       "\n",
       "Ocorrencia  Nº DE FLAGRANTES LAVRADOS  \\\n",
       "201501                           2223   \n",
       "201502                           2157   \n",
       "201503                           2605   \n",
       "201504                           2408   \n",
       "201505                           2530   \n",
       "\n",
       "Ocorrencia  Nº DE INFRATORES APREENDIDOS EM FLAGRANTE  \\\n",
       "201501                                            245   \n",
       "201502                                            269   \n",
       "201503                                            319   \n",
       "201504                                            327   \n",
       "201505                                            352   \n",
       "\n",
       "Ocorrencia  Nº DE INFRATORES APREENDIDOS POR MANDADO  \\\n",
       "201501                                            27   \n",
       "201502                                            34   \n",
       "201503                                            54   \n",
       "201504                                            30   \n",
       "201505                                            55   \n",
       "\n",
       "Ocorrencia  Nº DE PESSOAS PRESAS EM FLAGRANTE  \\\n",
       "201501                                   2675   \n",
       "201502                                   2591   \n",
       "201503                                   3062   \n",
       "201504                                   2895   \n",
       "201505                                   3084   \n",
       "\n",
       "Ocorrencia  Nº DE PESSOAS PRESAS POR MANDADO  Nº DE PRISÕES EFETUADAS  \\\n",
       "201501                                   626                     2528   \n",
       "201502                                   586                     2428   \n",
       "201503                                   818                     3026   \n",
       "201504                                   871                     2767   \n",
       "201505                                   835                     2941   \n",
       "\n",
       "Ocorrencia  Nº DE VEÍCULOS RECUPERADOS  \\\n",
       "201501                            3405   \n",
       "201502                            3188   \n",
       "201503                            3352   \n",
       "201504                            2952   \n",
       "201505                            3060   \n",
       "\n",
       "Ocorrencia  OCORRÊNCIAS DE APREENSÃO DE ENTORPECENTES(1)  \\\n",
       "201501                                                33   \n",
       "201502                                                51   \n",
       "201503                                                73   \n",
       "201504                                                68   \n",
       "201505                                                61   \n",
       "\n",
       "Ocorrencia  OCORRÊNCIAS DE PORTE DE ENTORPECENTES  \\\n",
       "201501                                        155   \n",
       "201502                                        241   \n",
       "201503                                        291   \n",
       "201504                                        335   \n",
       "201505                                        416   \n",
       "\n",
       "Ocorrencia  OCORRÊNCIAS DE PORTE ILEGAL DE ARMA  \\\n",
       "201501                                       94   \n",
       "201502                                      109   \n",
       "201503                                      148   \n",
       "201504                                      125   \n",
       "201505                                      106   \n",
       "\n",
       "Ocorrencia  OCORRÊNCIAS DE TRÁFICO DE ENTORPECENTES  \\\n",
       "201501                                          431   \n",
       "201502                                          506   \n",
       "201503                                          661   \n",
       "201504                                          627   \n",
       "201505                                          660   \n",
       "\n",
       "Ocorrencia  TOT. DE INQUÉRITOS POLICIAIS INSTAURADOS  ESTUPRO  \\\n",
       "201501                                          8323      NaN   \n",
       "201502                                          8017      NaN   \n",
       "201503                                          9523      NaN   \n",
       "201504                                          7835      NaN   \n",
       "201505                                          8532      NaN   \n",
       "\n",
       "Ocorrencia  ESTUPRO DE VULNERÁVEL  FURTO - OUTROS  FURTO DE VEÍCULO  \\\n",
       "201501                        NaN         13387.0            3818.0   \n",
       "201502                        NaN         12931.0            3611.0   \n",
       "201503                        NaN         16226.0            4253.0   \n",
       "201504                        NaN         15233.0            3805.0   \n",
       "201505                        NaN         14858.0            3587.0   \n",
       "\n",
       "Ocorrencia  HOMICÍDIO CULPOSO OUTROS  \\\n",
       "201501                           2.0   \n",
       "201502                           3.0   \n",
       "201503                           4.0   \n",
       "201504                           3.0   \n",
       "201505                           2.0   \n",
       "\n",
       "Ocorrencia  HOMICÍDIO CULPOSO POR ACIDENTE DE TRÂNSITO  HOMICÍDIO DOLOSO (2)  \\\n",
       "201501                                            26.0                  97.0   \n",
       "201502                                            30.0                  93.0   \n",
       "201503                                            49.0                 103.0   \n",
       "201504                                            31.0                  81.0   \n",
       "201505                                            39.0                  83.0   \n",
       "\n",
       "Ocorrencia  HOMICÍDIO DOLOSO POR ACIDENTE DE TRÂNSITO  LATROCÍNIO  \\\n",
       "201501                                            0.0         9.0   \n",
       "201502                                            1.0         8.0   \n",
       "201503                                            0.0        12.0   \n",
       "201504                                            0.0         9.0   \n",
       "201505                                            1.0        13.0   \n",
       "\n",
       "Ocorrencia  LESÃO CORPORAL CULPOSA - OUTRAS  \\\n",
       "201501                                 85.0   \n",
       "201502                                 68.0   \n",
       "201503                                 83.0   \n",
       "201504                                 88.0   \n",
       "201505                                 71.0   \n",
       "\n",
       "Ocorrencia  LESÃO CORPORAL CULPOSA POR ACIDENTE DE TRÂNSITO  \\\n",
       "201501                                               1680.0   \n",
       "201502                                               1574.0   \n",
       "201503                                               2004.0   \n",
       "201504                                               1756.0   \n",
       "201505                                               1886.0   \n",
       "\n",
       "Ocorrencia  LESÃO CORPORAL DOLOSA  LESÃO CORPORAL SEGUIDA DE MORTE  \\\n",
       "201501                     2675.0                              NaN   \n",
       "201502                     2396.0                              NaN   \n",
       "201503                     2592.0                              NaN   \n",
       "201504                     2351.0                              NaN   \n",
       "201505                     2142.0                              NaN   \n",
       "\n",
       "Ocorrencia  Nº DE VÍTIMAS EM HOMICÍDIO DOLOSO (3)  \\\n",
       "201501                                      102.0   \n",
       "201502                                       98.0   \n",
       "201503                                      114.0   \n",
       "201504                                       97.0   \n",
       "201505                                       84.0   \n",
       "\n",
       "Ocorrencia  Nº DE VÍTIMAS EM HOMICÍDIO DOLOSO POR ACIDENTE DE TRÂNSITO  \\\n",
       "201501                                                    0.0            \n",
       "201502                                                    1.0            \n",
       "201503                                                    0.0            \n",
       "201504                                                    0.0            \n",
       "201505                                                    1.0            \n",
       "\n",
       "Ocorrencia  Nº DE VÍTIMAS EM LATROCÍNIO  ROUBO - OUTROS  ROUBO A BANCO  \\\n",
       "201501                              9.0             NaN            7.0   \n",
       "201502                              8.0             NaN           10.0   \n",
       "201503                             12.0             NaN            7.0   \n",
       "201504                              9.0             NaN           12.0   \n",
       "201505                             14.0             NaN            4.0   \n",
       "\n",
       "Ocorrencia  ROUBO DE CARGA  ROUBO DE VEÍCULO  TENTATIVA DE HOMICÍDIO  \\\n",
       "201501               514.0            3691.0                   112.0   \n",
       "201502               431.0            3261.0                    70.0   \n",
       "201503               533.0            3376.0                    79.0   \n",
       "201504               463.0            3214.0                    86.0   \n",
       "201505               395.0            2843.0                    83.0   \n",
       "\n",
       "Ocorrencia  TOTAL DE ESTUPRO (4)  TOTAL DE ROUBO - OUTROS (1)  \n",
       "201501                     181.0                      13188.0  \n",
       "201502                     163.0                      12393.0  \n",
       "201503                     197.0                      14217.0  \n",
       "201504                     167.0                      12947.0  \n",
       "201505                     164.0                      12196.0  "
      ]
     },
     "execution_count": 4,
     "metadata": {},
     "output_type": "execute_result"
    }
   ],
   "source": [
    "df = pd.read_parquet(INTERIM_DATA_FOLDER+'df_consolidado.pqt')\n",
    "\n",
    "print(f\"\"\"df's shape: {df.shape}\"\"\")\n",
    "\n",
    "df.head()"
   ]
  },
  {
   "cell_type": "markdown",
   "id": "b7a8d8ae",
   "metadata": {},
   "source": [
    "# Data processing\n",
    "Put here the core of the notebook. Feel free di further split this section into subsections."
   ]
  },
  {
   "cell_type": "code",
   "execution_count": 5,
   "id": "f7796fe5",
   "metadata": {
    "ExecuteTime": {
     "end_time": "2021-09-07T02:35:46.138465Z",
     "start_time": "2021-09-07T02:35:46.053685Z"
    }
   },
   "outputs": [],
   "source": [
    "dct_crime = {\n",
    "    'ESTUPRO': [crime for crime in df.columns if 'ESTUPRO' in crime],\n",
    "    'ROUBO': [crime for crime in df.columns if 'ROUBO' in crime],\n",
    "    'FURTO': [crime for crime in df.columns if 'FURTO' in crime],\n",
    "    'LESÃO': [crime for crime in df.columns if 'LESÃO' in crime],\n",
    "    'HOMICÍDIO': [crime for crime in df.columns if 'HOMICÍDIO' in crime]\n",
    "}"
   ]
  },
  {
   "cell_type": "code",
   "execution_count": 6,
   "id": "88130e80",
   "metadata": {
    "ExecuteTime": {
     "end_time": "2021-09-07T02:35:47.153351Z",
     "start_time": "2021-09-07T02:35:47.046231Z"
    }
   },
   "outputs": [
    {
     "data": {
      "text/html": [
       "<div>\n",
       "<style scoped>\n",
       "    .dataframe tbody tr th:only-of-type {\n",
       "        vertical-align: middle;\n",
       "    }\n",
       "\n",
       "    .dataframe tbody tr th {\n",
       "        vertical-align: top;\n",
       "    }\n",
       "\n",
       "    .dataframe thead th {\n",
       "        text-align: right;\n",
       "    }\n",
       "</style>\n",
       "<table border=\"1\" class=\"dataframe\">\n",
       "  <thead>\n",
       "    <tr style=\"text-align: right;\">\n",
       "      <th>Ocorrencia</th>\n",
       "      <th>ANO</th>\n",
       "      <th>ESTUPRO</th>\n",
       "      <th>ROUBO</th>\n",
       "      <th>FURTO</th>\n",
       "      <th>LESÃO</th>\n",
       "      <th>HOMICÍDIO</th>\n",
       "    </tr>\n",
       "  </thead>\n",
       "  <tbody>\n",
       "    <tr>\n",
       "      <th>202103</th>\n",
       "      <td>2021</td>\n",
       "      <td>426.0</td>\n",
       "      <td>20660.0</td>\n",
       "      <td>14985.0</td>\n",
       "      <td>3309.0</td>\n",
       "      <td>200.0</td>\n",
       "    </tr>\n",
       "    <tr>\n",
       "      <th>202104</th>\n",
       "      <td>2021</td>\n",
       "      <td>368.0</td>\n",
       "      <td>19723.0</td>\n",
       "      <td>14587.0</td>\n",
       "      <td>2819.0</td>\n",
       "      <td>194.0</td>\n",
       "    </tr>\n",
       "    <tr>\n",
       "      <th>202105</th>\n",
       "      <td>2021</td>\n",
       "      <td>362.0</td>\n",
       "      <td>21934.0</td>\n",
       "      <td>17677.0</td>\n",
       "      <td>3123.0</td>\n",
       "      <td>186.0</td>\n",
       "    </tr>\n",
       "    <tr>\n",
       "      <th>202106</th>\n",
       "      <td>2021</td>\n",
       "      <td>366.0</td>\n",
       "      <td>21173.0</td>\n",
       "      <td>17942.0</td>\n",
       "      <td>2995.0</td>\n",
       "      <td>186.0</td>\n",
       "    </tr>\n",
       "    <tr>\n",
       "      <th>202107</th>\n",
       "      <td>2021</td>\n",
       "      <td>362.0</td>\n",
       "      <td>22868.0</td>\n",
       "      <td>19057.0</td>\n",
       "      <td>3168.0</td>\n",
       "      <td>174.0</td>\n",
       "    </tr>\n",
       "  </tbody>\n",
       "</table>\n",
       "</div>"
      ],
      "text/plain": [
       "Ocorrencia   ANO  ESTUPRO    ROUBO    FURTO   LESÃO  HOMICÍDIO\n",
       "202103      2021    426.0  20660.0  14985.0  3309.0      200.0\n",
       "202104      2021    368.0  19723.0  14587.0  2819.0      194.0\n",
       "202105      2021    362.0  21934.0  17677.0  3123.0      186.0\n",
       "202106      2021    366.0  21173.0  17942.0  2995.0      186.0\n",
       "202107      2021    362.0  22868.0  19057.0  3168.0      174.0"
      ]
     },
     "execution_count": 6,
     "metadata": {},
     "output_type": "execute_result"
    }
   ],
   "source": [
    "df_crime_consolidado = df[[\"ANO\"]].copy()\n",
    "\n",
    "for key, value in dct_crime.items():\n",
    "    df_crime_consolidado[key] = df[value].sum(axis=1)\n",
    "    \n",
    "df_crime_consolidado.tail()"
   ]
  },
  {
   "cell_type": "code",
   "execution_count": 7,
   "id": "f37bdd8e",
   "metadata": {
    "ExecuteTime": {
     "end_time": "2021-09-07T02:35:53.234111Z",
     "start_time": "2021-09-07T02:35:48.189405Z"
    }
   },
   "outputs": [
    {
     "data": {
      "image/png": "[encoded data removed]",
      "text/plain": [
       "<Figure size 949.05x900 with 30 Axes>"
      ]
     },
     "metadata": {
      "needs_background": "light"
     },
     "output_type": "display_data"
    }
   ],
   "source": [
    "sns.pairplot(df_crime_consolidado, hue='ANO');"
   ]
  },
  {
   "cell_type": "code",
   "execution_count": 10,
   "id": "e5f7fb3c",
   "metadata": {
    "ExecuteTime": {
     "end_time": "2021-09-07T02:40:00.550786Z",
     "start_time": "2021-09-07T02:40:00.088785Z"
    }
   },
   "outputs": [
    {
     "data": {
      "application/vnd.plotly.v1+json": {
       "config": {
        "plotlyServerURL": "https://plot.ly"
       },
       "data": [
        {
         "marker": {
          "color": "rgb(31, 119, 180)"
         },
         "showlegend": false,
         "type": "box",
         "xaxis": "x",
         "y": [
          181,
          163,
          197,
          167,
          164,
          162,
          189,
          176,
          170,
          184,
          174,
          160
         ],
         "yaxis": "y"
        },
        {
         "marker": {
          "color": "rgb(255, 127, 14)"
         },
         "showlegend": false,
         "type": "box",
         "xaxis": "x",
         "y": [
          168,
          155,
          191,
          173,
          184,
          184,
          159,
          233,
          380,
          398,
          335,
          308
         ],
         "yaxis": "y"
        },
        {
         "marker": {
          "color": "rgb(44, 160, 44)"
         },
         "showlegend": false,
         "type": "box",
         "xaxis": "x",
         "y": [
          410,
          374,
          442,
          318,
          450,
          380,
          394,
          380,
          444,
          558,
          524,
          418
         ],
         "yaxis": "y"
        },
        {
         "marker": {
          "color": "rgb(214, 39, 40)"
         },
         "showlegend": false,
         "type": "box",
         "xaxis": "x",
         "y": [
          464,
          448,
          484,
          436,
          468,
          362,
          366,
          442,
          438,
          460,
          408,
          404
         ],
         "yaxis": "y"
        },
        {
         "marker": {
          "color": "rgb(148, 103, 189)"
         },
         "showlegend": false,
         "type": "box",
         "xaxis": "x",
         "y": [
          428,
          372,
          476,
          458,
          398,
          354,
          396,
          418,
          506,
          604,
          496,
          420
         ],
         "yaxis": "y"
        },
        {
         "marker": {
          "color": "rgb(140, 86, 75)"
         },
         "showlegend": false,
         "type": "box",
         "xaxis": "x",
         "y": [
          476,
          410,
          438,
          256,
          240,
          372,
          410,
          382,
          426,
          396,
          420,
          410
         ],
         "yaxis": "y"
        },
        {
         "marker": {
          "color": "rgb(227, 119, 194)"
         },
         "showlegend": false,
         "type": "box",
         "xaxis": "x",
         "y": [
          434,
          434,
          426,
          368,
          362,
          366,
          362
         ],
         "yaxis": "y"
        },
        {
         "marker": {
          "color": "rgb(31, 119, 180)",
          "size": 6
         },
         "mode": "markers",
         "name": "2015",
         "showlegend": true,
         "type": "scatter",
         "x": [
          17400,
          16095,
          18133,
          16636,
          15438,
          14765,
          15821,
          15574,
          15822,
          17545,
          17753,
          17127
         ],
         "xaxis": "x2",
         "y": [
          181,
          163,
          197,
          167,
          164,
          162,
          189,
          176,
          170,
          184,
          174,
          160
         ],
         "yaxis": "y2"
        },
        {
         "marker": {
          "color": "rgb(255, 127, 14)",
          "size": 6
         },
         "mode": "markers",
         "name": "2016",
         "showlegend": true,
         "type": "scatter",
         "x": [
          16317,
          15935,
          18002,
          16389,
          16298,
          16293,
          16561,
          17607,
          17676,
          18261,
          17311,
          16978
         ],
         "xaxis": "x2",
         "y": [
          168,
          155,
          191,
          173,
          184,
          184,
          159,
          233,
          380,
          398,
          335,
          308
         ],
         "yaxis": "y2"
        },
        {
         "marker": {
          "color": "rgb(44, 160, 44)",
          "size": 6
         },
         "mode": "markers",
         "name": "2017",
         "showlegend": true,
         "type": "scatter",
         "x": [
          28905,
          28790,
          32877,
          27665,
          30491,
          28411,
          26955,
          28281,
          26284,
          27544,
          26113,
          25330
         ],
         "xaxis": "x2",
         "y": [
          410,
          374,
          442,
          318,
          450,
          380,
          394,
          380,
          444,
          558,
          524,
          418
         ],
         "yaxis": "y2"
        },
        {
         "marker": {
          "color": "rgb(214, 39, 40)",
          "size": 6
         },
         "mode": "markers",
         "name": "2018",
         "showlegend": true,
         "type": "scatter",
         "x": [
          25196,
          26176,
          24975,
          25797,
          27459,
          25272,
          22778,
          24140,
          22688,
          26285,
          25746,
          23526
         ],
         "xaxis": "x2",
         "y": [
          464,
          448,
          484,
          436,
          468,
          362,
          366,
          442,
          438,
          460,
          408,
          404
         ],
         "yaxis": "y2"
        },
        {
         "marker": {
          "color": "rgb(148, 103, 189)",
          "size": 6
         },
         "mode": "markers",
         "name": "2019",
         "showlegend": true,
         "type": "scatter",
         "x": [
          23707,
          21997,
          25416,
          24147,
          25008,
          26774,
          25726,
          26132,
          24605,
          26742,
          26406,
          26837
         ],
         "xaxis": "x2",
         "y": [
          428,
          372,
          476,
          458,
          398,
          354,
          396,
          418,
          506,
          604,
          496,
          420
         ],
         "yaxis": "y2"
        },
        {
         "marker": {
          "color": "rgb(140, 86, 75)",
          "size": 6
         },
         "mode": "markers",
         "name": "2020",
         "showlegend": true,
         "type": "scatter",
         "x": [
          28713,
          30528,
          25596,
          17555,
          18783,
          22292,
          21342,
          18773,
          18092,
          19389,
          23350,
          24578
         ],
         "xaxis": "x2",
         "y": [
          476,
          410,
          438,
          256,
          240,
          372,
          410,
          382,
          426,
          396,
          420,
          410
         ],
         "yaxis": "y2"
        },
        {
         "marker": {
          "color": "rgb(227, 119, 194)",
          "size": 6
         },
         "mode": "markers",
         "name": "2021",
         "showlegend": true,
         "type": "scatter",
         "x": [
          22694,
          22915,
          20660,
          19723,
          21934,
          21173,
          22868
         ],
         "xaxis": "x2",
         "y": [
          434,
          434,
          426,
          368,
          362,
          366,
          362
         ],
         "yaxis": "y2"
        },
        {
         "marker": {
          "color": "rgb(31, 119, 180)",
          "size": 6
         },
         "mode": "markers",
         "name": "2015",
         "showlegend": false,
         "type": "scatter",
         "x": [
          17205,
          16542,
          20479,
          19038,
          18445,
          18310,
          19014,
          18213,
          17983,
          19384,
          18882,
          17500
         ],
         "xaxis": "x3",
         "y": [
          181,
          163,
          197,
          167,
          164,
          162,
          189,
          176,
          170,
          184,
          174,
          160
         ],
         "yaxis": "y3"
        },
        {
         "marker": {
          "color": "rgb(255, 127, 14)",
          "size": 6
         },
         "mode": "markers",
         "name": "2016",
         "showlegend": false,
         "type": "scatter",
         "x": [
          17010,
          19147,
          19488,
          18514,
          19830,
          18759,
          19172,
          19240,
          19501,
          19535,
          19121,
          18701
         ],
         "xaxis": "x3",
         "y": [
          168,
          155,
          191,
          173,
          184,
          184,
          159,
          233,
          380,
          398,
          335,
          308
         ],
         "yaxis": "y3"
        },
        {
         "marker": {
          "color": "rgb(44, 160, 44)",
          "size": 6
         },
         "mode": "markers",
         "name": "2017",
         "showlegend": false,
         "type": "scatter",
         "x": [
          17479,
          21652,
          21986,
          17938,
          20372,
          19867,
          19079,
          20479,
          18895,
          20450,
          19491,
          18545
         ],
         "xaxis": "x3",
         "y": [
          410,
          374,
          442,
          318,
          450,
          380,
          394,
          380,
          444,
          558,
          524,
          418
         ],
         "yaxis": "y3"
        },
        {
         "marker": {
          "color": "rgb(214, 39, 40)",
          "size": 6
         },
         "mode": "markers",
         "name": "2018",
         "showlegend": false,
         "type": "scatter",
         "x": [
          18792,
          26167,
          19463,
          18690,
          19842,
          19464,
          19407,
          20758,
          18898,
          22055,
          20278,
          18379
         ],
         "xaxis": "x3",
         "y": [
          464,
          448,
          484,
          436,
          468,
          362,
          366,
          442,
          438,
          460,
          408,
          404
         ],
         "yaxis": "y3"
        },
        {
         "marker": {
          "color": "rgb(148, 103, 189)",
          "size": 6
         },
         "mode": "markers",
         "name": "2019",
         "showlegend": false,
         "type": "scatter",
         "x": [
          20117,
          22334,
          26724,
          22004,
          23930,
          22429,
          21313,
          22036,
          20224,
          22332,
          21148,
          19306
         ],
         "xaxis": "x3",
         "y": [
          428,
          372,
          476,
          458,
          398,
          354,
          396,
          418,
          506,
          604,
          496,
          420
         ],
         "yaxis": "y3"
        },
        {
         "marker": {
          "color": "rgb(140, 86, 75)",
          "size": 6
         },
         "mode": "markers",
         "name": "2020",
         "showlegend": false,
         "type": "scatter",
         "x": [
          21558,
          27613,
          17072,
          9109,
          10846,
          14316,
          15805,
          14178,
          14015,
          14432,
          16411,
          16124
         ],
         "xaxis": "x3",
         "y": [
          476,
          410,
          438,
          256,
          240,
          372,
          410,
          382,
          426,
          396,
          420,
          410
         ],
         "yaxis": "y3"
        },
        {
         "marker": {
          "color": "rgb(227, 119, 194)",
          "size": 6
         },
         "mode": "markers",
         "name": "2021",
         "showlegend": false,
         "type": "scatter",
         "x": [
          15471,
          16261,
          14985,
          14587,
          17677,
          17942,
          19057
         ],
         "xaxis": "x3",
         "y": [
          434,
          434,
          426,
          368,
          362,
          366,
          362
         ],
         "yaxis": "y3"
        },
        {
         "marker": {
          "color": "rgb(31, 119, 180)",
          "size": 6
         },
         "mode": "markers",
         "name": "2015",
         "showlegend": false,
         "type": "scatter",
         "x": [
          4440,
          4038,
          4679,
          4195,
          4099,
          4170,
          4007,
          4378,
          4301,
          4260,
          4091,
          4165
         ],
         "xaxis": "x4",
         "y": [
          181,
          163,
          197,
          167,
          164,
          162,
          189,
          176,
          170,
          184,
          174,
          160
         ],
         "yaxis": "y4"
        },
        {
         "marker": {
          "color": "rgb(255, 127, 14)",
          "size": 6
         },
         "mode": "markers",
         "name": "2016",
         "showlegend": false,
         "type": "scatter",
         "x": [
          3620,
          4054,
          4237,
          4211,
          3704,
          3784,
          3848,
          4116,
          3881,
          4104,
          3880,
          3983
         ],
         "xaxis": "x4",
         "y": [
          168,
          155,
          191,
          173,
          184,
          184,
          159,
          233,
          380,
          398,
          335,
          308
         ],
         "yaxis": "y4"
        },
        {
         "marker": {
          "color": "rgb(44, 160, 44)",
          "size": 6
         },
         "mode": "markers",
         "name": "2017",
         "showlegend": false,
         "type": "scatter",
         "x": [
          3645,
          3688,
          4258,
          3786,
          3914,
          3694,
          3719,
          3960,
          3982,
          4043,
          3685,
          3920
         ],
         "xaxis": "x4",
         "y": [
          410,
          374,
          442,
          318,
          450,
          380,
          394,
          380,
          444,
          558,
          524,
          418
         ],
         "yaxis": "y4"
        },
        {
         "marker": {
          "color": "rgb(214, 39, 40)",
          "size": 6
         },
         "mode": "markers",
         "name": "2018",
         "showlegend": false,
         "type": "scatter",
         "x": [
          3499,
          3469,
          4039,
          3708,
          3625,
          3582,
          3479,
          3415,
          3520,
          3683,
          3549,
          3605
         ],
         "xaxis": "x4",
         "y": [
          464,
          448,
          484,
          436,
          468,
          362,
          366,
          442,
          438,
          460,
          408,
          404
         ],
         "yaxis": "y4"
        },
        {
         "marker": {
          "color": "rgb(148, 103, 189)",
          "size": 6
         },
         "mode": "markers",
         "name": "2019",
         "showlegend": false,
         "type": "scatter",
         "x": [
          3762,
          3583,
          3929,
          4221,
          3819,
          3528,
          3628,
          3610,
          3616,
          4108,
          3801,
          3746
         ],
         "xaxis": "x4",
         "y": [
          428,
          372,
          476,
          458,
          398,
          354,
          396,
          418,
          506,
          604,
          496,
          420
         ],
         "yaxis": "y4"
        },
        {
         "marker": {
          "color": "rgb(140, 86, 75)",
          "size": 6
         },
         "mode": "markers",
         "name": "2020",
         "showlegend": false,
         "type": "scatter",
         "x": [
          3488,
          3417,
          3085,
          2193,
          2148,
          2579,
          3136,
          3241,
          3080,
          3300,
          3499,
          3603
         ],
         "xaxis": "x4",
         "y": [
          476,
          410,
          438,
          256,
          240,
          372,
          410,
          382,
          426,
          396,
          420,
          410
         ],
         "yaxis": "y4"
        },
        {
         "marker": {
          "color": "rgb(227, 119, 194)",
          "size": 6
         },
         "mode": "markers",
         "name": "2021",
         "showlegend": false,
         "type": "scatter",
         "x": [
          3317,
          3334,
          3309,
          2819,
          3123,
          2995,
          3168
         ],
         "xaxis": "x4",
         "y": [
          434,
          434,
          426,
          368,
          362,
          366,
          362
         ],
         "yaxis": "y4"
        },
        {
         "marker": {
          "color": "rgb(31, 119, 180)",
          "size": 6
         },
         "mode": "markers",
         "name": "2015",
         "showlegend": false,
         "type": "scatter",
         "x": [
          339,
          296,
          349,
          298,
          293,
          265,
          249,
          276,
          274,
          274,
          283,
          331
         ],
         "xaxis": "x5",
         "y": [
          181,
          163,
          197,
          167,
          164,
          162,
          189,
          176,
          170,
          184,
          174,
          160
         ],
         "yaxis": "y5"
        },
        {
         "marker": {
          "color": "rgb(255, 127, 14)",
          "size": 6
         },
         "mode": "markers",
         "name": "2016",
         "showlegend": false,
         "type": "scatter",
         "x": [
          225,
          280,
          277,
          294,
          252,
          229,
          257,
          244,
          243,
          262,
          253,
          290
         ],
         "xaxis": "x5",
         "y": [
          168,
          155,
          191,
          173,
          184,
          184,
          159,
          233,
          380,
          398,
          335,
          308
         ],
         "yaxis": "y5"
        },
        {
         "marker": {
          "color": "rgb(44, 160, 44)",
          "size": 6
         },
         "mode": "markers",
         "name": "2017",
         "showlegend": false,
         "type": "scatter",
         "x": [
          221,
          247,
          245,
          298,
          232,
          210,
          186,
          192,
          214,
          201,
          238,
          278
         ],
         "xaxis": "x5",
         "y": [
          410,
          374,
          442,
          318,
          450,
          380,
          394,
          380,
          444,
          558,
          524,
          418
         ],
         "yaxis": "y5"
        },
        {
         "marker": {
          "color": "rgb(214, 39, 40)",
          "size": 6
         },
         "mode": "markers",
         "name": "2018",
         "showlegend": false,
         "type": "scatter",
         "x": [
          229,
          226,
          237,
          214,
          206,
          202,
          208,
          202,
          194,
          217,
          204,
          250
         ],
         "xaxis": "x5",
         "y": [
          464,
          448,
          484,
          436,
          468,
          362,
          366,
          442,
          438,
          460,
          408,
          404
         ],
         "yaxis": "y5"
        },
        {
         "marker": {
          "color": "rgb(148, 103, 189)",
          "size": 6
         },
         "mode": "markers",
         "name": "2019",
         "showlegend": false,
         "type": "scatter",
         "x": [
          251,
          188,
          255,
          209,
          210,
          182,
          207,
          181,
          204,
          221,
          223,
          201
         ],
         "xaxis": "x5",
         "y": [
          428,
          372,
          476,
          458,
          398,
          354,
          396,
          418,
          506,
          604,
          496,
          420
         ],
         "yaxis": "y5"
        },
        {
         "marker": {
          "color": "rgb(140, 86, 75)",
          "size": 6
         },
         "mode": "markers",
         "name": "2020",
         "showlegend": false,
         "type": "scatter",
         "x": [
          239,
          191,
          219,
          174,
          189,
          176,
          181,
          201,
          210,
          172,
          206,
          229
         ],
         "xaxis": "x5",
         "y": [
          476,
          410,
          438,
          256,
          240,
          372,
          410,
          382,
          426,
          396,
          420,
          410
         ],
         "yaxis": "y5"
        },
        {
         "marker": {
          "color": "rgb(227, 119, 194)",
          "size": 6
         },
         "mode": "markers",
         "name": "2021",
         "showlegend": false,
         "type": "scatter",
         "x": [
          220,
          151,
          200,
          194,
          186,
          186,
          174
         ],
         "xaxis": "x5",
         "y": [
          434,
          434,
          426,
          368,
          362,
          366,
          362
         ],
         "yaxis": "y5"
        },
        {
         "marker": {
          "color": "rgb(31, 119, 180)",
          "size": 6
         },
         "mode": "markers",
         "name": "2015",
         "showlegend": false,
         "type": "scatter",
         "x": [
          181,
          163,
          197,
          167,
          164,
          162,
          189,
          176,
          170,
          184,
          174,
          160
         ],
         "xaxis": "x6",
         "y": [
          17400,
          16095,
          18133,
          16636,
          15438,
          14765,
          15821,
          15574,
          15822,
          17545,
          17753,
          17127
         ],
         "yaxis": "y6"
        },
        {
         "marker": {
          "color": "rgb(255, 127, 14)",
          "size": 6
         },
         "mode": "markers",
         "name": "2016",
         "showlegend": false,
         "type": "scatter",
         "x": [
          168,
          155,
          191,
          173,
          184,
          184,
          159,
          233,
          380,
          398,
          335,
          308
         ],
         "xaxis": "x6",
         "y": [
          16317,
          15935,
          18002,
          16389,
          16298,
          16293,
          16561,
          17607,
          17676,
          18261,
          17311,
          16978
         ],
         "yaxis": "y6"
        },
        {
         "marker": {
          "color": "rgb(44, 160, 44)",
          "size": 6
         },
         "mode": "markers",
         "name": "2017",
         "showlegend": false,
         "type": "scatter",
         "x": [
          410,
          374,
          442,
          318,
          450,
          380,
          394,
          380,
          444,
          558,
          524,
          418
         ],
         "xaxis": "x6",
         "y": [
          28905,
          28790,
          32877,
          27665,
          30491,
          28411,
          26955,
          28281,
          26284,
          27544,
          26113,
          25330
         ],
         "yaxis": "y6"
        },
        {
         "marker": {
          "color": "rgb(214, 39, 40)",
          "size": 6
         },
         "mode": "markers",
         "name": "2018",
         "showlegend": false,
         "type": "scatter",
         "x": [
          464,
          448,
          484,
          436,
          468,
          362,
          366,
          442,
          438,
          460,
          408,
          404
         ],
         "xaxis": "x6",
         "y": [
          25196,
          26176,
          24975,
          25797,
          27459,
          25272,
          22778,
          24140,
          22688,
          26285,
          25746,
          23526
         ],
         "yaxis": "y6"
        },
        {
         "marker": {
          "color": "rgb(148, 103, 189)",
          "size": 6
         },
         "mode": "markers",
         "name": "2019",
         "showlegend": false,
         "type": "scatter",
         "x": [
          428,
          372,
          476,
          458,
          398,
          354,
          396,
          418,
          506,
          604,
          496,
          420
         ],
         "xaxis": "x6",
         "y": [
          23707,
          21997,
          25416,
          24147,
          25008,
          26774,
          25726,
          26132,
          24605,
          26742,
          26406,
          26837
         ],
         "yaxis": "y6"
        },
        {
         "marker": {
          "color": "rgb(140, 86, 75)",
          "size": 6
         },
         "mode": "markers",
         "name": "2020",
         "showlegend": false,
         "type": "scatter",
         "x": [
          476,
          410,
          438,
          256,
          240,
          372,
          410,
          382,
          426,
          396,
          420,
          410
         ],
         "xaxis": "x6",
         "y": [
          28713,
          30528,
          25596,
          17555,
          18783,
          22292,
          21342,
          18773,
          18092,
          19389,
          23350,
          24578
         ],
         "yaxis": "y6"
        },
        {
         "marker": {
          "color": "rgb(227, 119, 194)",
          "size": 6
         },
         "mode": "markers",
         "name": "2021",
         "showlegend": false,
         "type": "scatter",
         "x": [
          434,
          434,
          426,
          368,
          362,
          366,
          362
         ],
         "xaxis": "x6",
         "y": [
          22694,
          22915,
          20660,
          19723,
          21934,
          21173,
          22868
         ],
         "yaxis": "y6"
        },
        {
         "marker": {
          "color": "rgb(31, 119, 180)"
         },
         "showlegend": false,
         "type": "box",
         "xaxis": "x7",
         "y": [
          17400,
          16095,
          18133,
          16636,
          15438,
          14765,
          15821,
          15574,
          15822,
          17545,
          17753,
          17127
         ],
         "yaxis": "y7"
        },
        {
         "marker": {
          "color": "rgb(255, 127, 14)"
         },
         "showlegend": false,
         "type": "box",
         "xaxis": "x7",
         "y": [
          16317,
          15935,
          18002,
          16389,
          16298,
          16293,
          16561,
          17607,
          17676,
          18261,
          17311,
          16978
         ],
         "yaxis": "y7"
        },
        {
         "marker": {
          "color": "rgb(44, 160, 44)"
         },
         "showlegend": false,
         "type": "box",
         "xaxis": "x7",
         "y": [
          28905,
          28790,
          32877,
          27665,
          30491,
          28411,
          26955,
          28281,
          26284,
          27544,
          26113,
          25330
         ],
         "yaxis": "y7"
        },
        {
         "marker": {
          "color": "rgb(214, 39, 40)"
         },
         "showlegend": false,
         "type": "box",
         "xaxis": "x7",
         "y": [
          25196,
          26176,
          24975,
          25797,
          27459,
          25272,
          22778,
          24140,
          22688,
          26285,
          25746,
          23526
         ],
         "yaxis": "y7"
        },
        {
         "marker": {
          "color": "rgb(148, 103, 189)"
         },
         "showlegend": false,
         "type": "box",
         "xaxis": "x7",
         "y": [
          23707,
          21997,
          25416,
          24147,
          25008,
          26774,
          25726,
          26132,
          24605,
          26742,
          26406,
          26837
         ],
         "yaxis": "y7"
        },
        {
         "marker": {
          "color": "rgb(140, 86, 75)"
         },
         "showlegend": false,
         "type": "box",
         "xaxis": "x7",
         "y": [
          28713,
          30528,
          25596,
          17555,
          18783,
          22292,
          21342,
          18773,
          18092,
          19389,
          23350,
          24578
         ],
         "yaxis": "y7"
        },
        {
         "marker": {
          "color": "rgb(227, 119, 194)"
         },
         "showlegend": false,
         "type": "box",
         "xaxis": "x7",
         "y": [
          22694,
          22915,
          20660,
          19723,
          21934,
          21173,
          22868
         ],
         "yaxis": "y7"
        },
        {
         "marker": {
          "color": "rgb(31, 119, 180)",
          "size": 6
         },
         "mode": "markers",
         "name": "2015",
         "showlegend": false,
         "type": "scatter",
         "x": [
          17205,
          16542,
          20479,
          19038,
          18445,
          18310,
          19014,
          18213,
          17983,
          19384,
          18882,
          17500
         ],
         "xaxis": "x8",
         "y": [
          17400,
          16095,
          18133,
          16636,
          15438,
          14765,
          15821,
          15574,
          15822,
          17545,
          17753,
          17127
         ],
         "yaxis": "y8"
        },
        {
         "marker": {
          "color": "rgb(255, 127, 14)",
          "size": 6
         },
         "mode": "markers",
         "name": "2016",
         "showlegend": false,
         "type": "scatter",
         "x": [
          17010,
          19147,
          19488,
          18514,
          19830,
          18759,
          19172,
          19240,
          19501,
          19535,
          19121,
          18701
         ],
         "xaxis": "x8",
         "y": [
          16317,
          15935,
          18002,
          16389,
          16298,
          16293,
          16561,
          17607,
          17676,
          18261,
          17311,
          16978
         ],
         "yaxis": "y8"
        },
        {
         "marker": {
          "color": "rgb(44, 160, 44)",
          "size": 6
         },
         "mode": "markers",
         "name": "2017",
         "showlegend": false,
         "type": "scatter",
         "x": [
          17479,
          21652,
          21986,
          17938,
          20372,
          19867,
          19079,
          20479,
          18895,
          20450,
          19491,
          18545
         ],
         "xaxis": "x8",
         "y": [
          28905,
          28790,
          32877,
          27665,
          30491,
          28411,
          26955,
          28281,
          26284,
          27544,
          26113,
          25330
         ],
         "yaxis": "y8"
        },
        {
         "marker": {
          "color": "rgb(214, 39, 40)",
          "size": 6
         },
         "mode": "markers",
         "name": "2018",
         "showlegend": false,
         "type": "scatter",
         "x": [
          18792,
          26167,
          19463,
          18690,
          19842,
          19464,
          19407,
          20758,
          18898,
          22055,
          20278,
          18379
         ],
         "xaxis": "x8",
         "y": [
          25196,
          26176,
          24975,
          25797,
          27459,
          25272,
          22778,
          24140,
          22688,
          26285,
          25746,
          23526
         ],
         "yaxis": "y8"
        },
        {
         "marker": {
          "color": "rgb(148, 103, 189)",
          "size": 6
         },
         "mode": "markers",
         "name": "2019",
         "showlegend": false,
         "type": "scatter",
         "x": [
          20117,
          22334,
          26724,
          22004,
          23930,
          22429,
          21313,
          22036,
          20224,
          22332,
          21148,
          19306
         ],
         "xaxis": "x8",
         "y": [
          23707,
          21997,
          25416,
          24147,
          25008,
          26774,
          25726,
          26132,
          24605,
          26742,
          26406,
          26837
         ],
         "yaxis": "y8"
        },
        {
         "marker": {
          "color": "rgb(140, 86, 75)",
          "size": 6
         },
         "mode": "markers",
         "name": "2020",
         "showlegend": false,
         "type": "scatter",
         "x": [
          21558,
          27613,
          17072,
          9109,
          10846,
          14316,
          15805,
          14178,
          14015,
          14432,
          16411,
          16124
         ],
         "xaxis": "x8",
         "y": [
          28713,
          30528,
          25596,
          17555,
          18783,
          22292,
          21342,
          18773,
          18092,
          19389,
          23350,
          24578
         ],
         "yaxis": "y8"
        },
        {
         "marker": {
          "color": "rgb(227, 119, 194)",
          "size": 6
         },
         "mode": "markers",
         "name": "2021",
         "showlegend": false,
         "type": "scatter",
         "x": [
          15471,
          16261,
          14985,
          14587,
          17677,
          17942,
          19057
         ],
         "xaxis": "x8",
         "y": [
          22694,
          22915,
          20660,
          19723,
          21934,
          21173,
          22868
         ],
         "yaxis": "y8"
        },
        {
         "marker": {
          "color": "rgb(31, 119, 180)",
          "size": 6
         },
         "mode": "markers",
         "name": "2015",
         "showlegend": false,
         "type": "scatter",
         "x": [
          4440,
          4038,
          4679,
          4195,
          4099,
          4170,
          4007,
          4378,
          4301,
          4260,
          4091,
          4165
         ],
         "xaxis": "x9",
         "y": [
          17400,
          16095,
          18133,
          16636,
          15438,
          14765,
          15821,
          15574,
          15822,
          17545,
          17753,
          17127
         ],
         "yaxis": "y9"
        },
        {
         "marker": {
          "color": "rgb(255, 127, 14)",
          "size": 6
         },
         "mode": "markers",
         "name": "2016",
         "showlegend": false,
         "type": "scatter",
         "x": [
          3620,
          4054,
          4237,
          4211,
          3704,
          3784,
          3848,
          4116,
          3881,
          4104,
          3880,
          3983
         ],
         "xaxis": "x9",
         "y": [
          16317,
          15935,
          18002,
          16389,
          16298,
          16293,
          16561,
          17607,
          17676,
          18261,
          17311,
          16978
         ],
         "yaxis": "y9"
        },
        {
         "marker": {
          "color": "rgb(44, 160, 44)",
          "size": 6
         },
         "mode": "markers",
         "name": "2017",
         "showlegend": false,
         "type": "scatter",
         "x": [
          3645,
          3688,
          4258,
          3786,
          3914,
          3694,
          3719,
          3960,
          3982,
          4043,
          3685,
          3920
         ],
         "xaxis": "x9",
         "y": [
          28905,
          28790,
          32877,
          27665,
          30491,
          28411,
          26955,
          28281,
          26284,
          27544,
          26113,
          25330
         ],
         "yaxis": "y9"
        },
        {
         "marker": {
          "color": "rgb(214, 39, 40)",
          "size": 6
         },
         "mode": "markers",
         "name": "2018",
         "showlegend": false,
         "type": "scatter",
         "x": [
          3499,
          3469,
          4039,
          3708,
          3625,
          3582,
          3479,
          3415,
          3520,
          3683,
          3549,
          3605
         ],
         "xaxis": "x9",
         "y": [
          25196,
          26176,
          24975,
          25797,
          27459,
          25272,
          22778,
          24140,
          22688,
          26285,
          25746,
          23526
         ],
         "yaxis": "y9"
        },
        {
         "marker": {
          "color": "rgb(148, 103, 189)",
          "size": 6
         },
         "mode": "markers",
         "name": "2019",
         "showlegend": false,
         "type": "scatter",
         "x": [
          3762,
          3583,
          3929,
          4221,
          3819,
          3528,
          3628,
          3610,
          3616,
          4108,
          3801,
          3746
         ],
         "xaxis": "x9",
         "y": [
          23707,
          21997,
          25416,
          24147,
          25008,
          26774,
          25726,
          26132,
          24605,
          26742,
          26406,
          26837
         ],
         "yaxis": "y9"
        },
        {
         "marker": {
          "color": "rgb(140, 86, 75)",
          "size": 6
         },
         "mode": "markers",
         "name": "2020",
         "showlegend": false,
         "type": "scatter",
         "x": [
          3488,
          3417,
          3085,
          2193,
          2148,
          2579,
          3136,
          3241,
          3080,
          3300,
          3499,
          3603
         ],
         "xaxis": "x9",
         "y": [
          28713,
          30528,
          25596,
          17555,
          18783,
          22292,
          21342,
          18773,
          18092,
          19389,
          23350,
          24578
         ],
         "yaxis": "y9"
        },
        {
         "marker": {
          "color": "rgb(227, 119, 194)",
          "size": 6
         },
         "mode": "markers",
         "name": "2021",
         "showlegend": false,
         "type": "scatter",
         "x": [
          3317,
          3334,
          3309,
          2819,
          3123,
          2995,
          3168
         ],
         "xaxis": "x9",
         "y": [
          22694,
          22915,
          20660,
          19723,
          21934,
          21173,
          22868
         ],
         "yaxis": "y9"
        },
        {
         "marker": {
          "color": "rgb(31, 119, 180)",
          "size": 6
         },
         "mode": "markers",
         "name": "2015",
         "showlegend": false,
         "type": "scatter",
         "x": [
          339,
          296,
          349,
          298,
          293,
          265,
          249,
          276,
          274,
          274,
          283,
          331
         ],
         "xaxis": "x10",
         "y": [
          17400,
          16095,
          18133,
          16636,
          15438,
          14765,
          15821,
          15574,
          15822,
          17545,
          17753,
          17127
         ],
         "yaxis": "y10"
        },
        {
         "marker": {
          "color": "rgb(255, 127, 14)",
          "size": 6
         },
         "mode": "markers",
         "name": "2016",
         "showlegend": false,
         "type": "scatter",
         "x": [
          225,
          280,
          277,
          294,
          252,
          229,
          257,
          244,
          243,
          262,
          253,
          290
         ],
         "xaxis": "x10",
         "y": [
          16317,
          15935,
          18002,
          16389,
          16298,
          16293,
          16561,
          17607,
          17676,
          18261,
          17311,
          16978
         ],
         "yaxis": "y10"
        },
        {
         "marker": {
          "color": "rgb(44, 160, 44)",
          "size": 6
         },
         "mode": "markers",
         "name": "2017",
         "showlegend": false,
         "type": "scatter",
         "x": [
          221,
          247,
          245,
          298,
          232,
          210,
          186,
          192,
          214,
          201,
          238,
          278
         ],
         "xaxis": "x10",
         "y": [
          28905,
          28790,
          32877,
          27665,
          30491,
          28411,
          26955,
          28281,
          26284,
          27544,
          26113,
          25330
         ],
         "yaxis": "y10"
        },
        {
         "marker": {
          "color": "rgb(214, 39, 40)",
          "size": 6
         },
         "mode": "markers",
         "name": "2018",
         "showlegend": false,
         "type": "scatter",
         "x": [
          229,
          226,
          237,
          214,
          206,
          202,
          208,
          202,
          194,
          217,
          204,
          250
         ],
         "xaxis": "x10",
         "y": [
          25196,
          26176,
          24975,
          25797,
          27459,
          25272,
          22778,
          24140,
          22688,
          26285,
          25746,
          23526
         ],
         "yaxis": "y10"
        },
        {
         "marker": {
          "color": "rgb(148, 103, 189)",
          "size": 6
         },
         "mode": "markers",
         "name": "2019",
         "showlegend": false,
         "type": "scatter",
         "x": [
          251,
          188,
          255,
          209,
          210,
          182,
          207,
          181,
          204,
          221,
          223,
          201
         ],
         "xaxis": "x10",
         "y": [
          23707,
          21997,
          25416,
          24147,
          25008,
          26774,
          25726,
          26132,
          24605,
          26742,
          26406,
          26837
         ],
         "yaxis": "y10"
        },
        {
         "marker": {
          "color": "rgb(140, 86, 75)",
          "size": 6
         },
         "mode": "markers",
         "name": "2020",
         "showlegend": false,
         "type": "scatter",
         "x": [
          239,
          191,
          219,
          174,
          189,
          176,
          181,
          201,
          210,
          172,
          206,
          229
         ],
         "xaxis": "x10",
         "y": [
          28713,
          30528,
          25596,
          17555,
          18783,
          22292,
          21342,
          18773,
          18092,
          19389,
          23350,
          24578
         ],
         "yaxis": "y10"
        },
        {
         "marker": {
          "color": "rgb(227, 119, 194)",
          "size": 6
         },
         "mode": "markers",
         "name": "2021",
         "showlegend": false,
         "type": "scatter",
         "x": [
          220,
          151,
          200,
          194,
          186,
          186,
          174
         ],
         "xaxis": "x10",
         "y": [
          22694,
          22915,
          20660,
          19723,
          21934,
          21173,
          22868
         ],
         "yaxis": "y10"
        },
        {
         "marker": {
          "color": "rgb(31, 119, 180)",
          "size": 6
         },
         "mode": "markers",
         "name": "2015",
         "showlegend": false,
         "type": "scatter",
         "x": [
          181,
          163,
          197,
          167,
          164,
          162,
          189,
          176,
          170,
          184,
          174,
          160
         ],
         "xaxis": "x11",
         "y": [
          17205,
          16542,
          20479,
          19038,
          18445,
          18310,
          19014,
          18213,
          17983,
          19384,
          18882,
          17500
         ],
         "yaxis": "y11"
        },
        {
         "marker": {
          "color": "rgb(255, 127, 14)",
          "size": 6
         },
         "mode": "markers",
         "name": "2016",
         "showlegend": false,
         "type": "scatter",
         "x": [
          168,
          155,
          191,
          173,
          184,
          184,
          159,
          233,
          380,
          398,
          335,
          308
         ],
         "xaxis": "x11",
         "y": [
          17010,
          19147,
          19488,
          18514,
          19830,
          18759,
          19172,
          19240,
          19501,
          19535,
          19121,
          18701
         ],
         "yaxis": "y11"
        },
        {
         "marker": {
          "color": "rgb(44, 160, 44)",
          "size": 6
         },
         "mode": "markers",
         "name": "2017",
         "showlegend": false,
         "type": "scatter",
         "x": [
          410,
          374,
          442,
          318,
          450,
          380,
          394,
          380,
          444,
          558,
          524,
          418
         ],
         "xaxis": "x11",
         "y": [
          17479,
          21652,
          21986,
          17938,
          20372,
          19867,
          19079,
          20479,
          18895,
          20450,
          19491,
          18545
         ],
         "yaxis": "y11"
        },
        {
         "marker": {
          "color": "rgb(214, 39, 40)",
          "size": 6
         },
         "mode": "markers",
         "name": "2018",
         "showlegend": false,
         "type": "scatter",
         "x": [
          464,
          448,
          484,
          436,
          468,
          362,
          366,
          442,
          438,
          460,
          408,
          404
         ],
         "xaxis": "x11",
         "y": [
          18792,
          26167,
          19463,
          18690,
          19842,
          19464,
          19407,
          20758,
          18898,
          22055,
          20278,
          18379
         ],
         "yaxis": "y11"
        },
        {
         "marker": {
          "color": "rgb(148, 103, 189)",
          "size": 6
         },
         "mode": "markers",
         "name": "2019",
         "showlegend": false,
         "type": "scatter",
         "x": [
          428,
          372,
          476,
          458,
          398,
          354,
          396,
          418,
          506,
          604,
          496,
          420
         ],
         "xaxis": "x11",
         "y": [
          20117,
          22334,
          26724,
          22004,
          23930,
          22429,
          21313,
          22036,
          20224,
          22332,
          21148,
          19306
         ],
         "yaxis": "y11"
        },
        {
         "marker": {
          "color": "rgb(140, 86, 75)",
          "size": 6
         },
         "mode": "markers",
         "name": "2020",
         "showlegend": false,
         "type": "scatter",
         "x": [
          476,
          410,
          438,
          256,
          240,
          372,
          410,
          382,
          426,
          396,
          420,
          410
         ],
         "xaxis": "x11",
         "y": [
          21558,
          27613,
          17072,
          9109,
          10846,
          14316,
          15805,
          14178,
          14015,
          14432,
          16411,
          16124
         ],
         "yaxis": "y11"
        },
        {
         "marker": {
          "color": "rgb(227, 119, 194)",
          "size": 6
         },
         "mode": "markers",
         "name": "2021",
         "showlegend": false,
         "type": "scatter",
         "x": [
          434,
          434,
          426,
          368,
          362,
          366,
          362
         ],
         "xaxis": "x11",
         "y": [
          15471,
          16261,
          14985,
          14587,
          17677,
          17942,
          19057
         ],
         "yaxis": "y11"
        },
        {
         "marker": {
          "color": "rgb(31, 119, 180)",
          "size": 6
         },
         "mode": "markers",
         "name": "2015",
         "showlegend": false,
         "type": "scatter",
         "x": [
          17400,
          16095,
          18133,
          16636,
          15438,
          14765,
          15821,
          15574,
          15822,
          17545,
          17753,
          17127
         ],
         "xaxis": "x12",
         "y": [
          17205,
          16542,
          20479,
          19038,
          18445,
          18310,
          19014,
          18213,
          17983,
          19384,
          18882,
          17500
         ],
         "yaxis": "y12"
        },
        {
         "marker": {
          "color": "rgb(255, 127, 14)",
          "size": 6
         },
         "mode": "markers",
         "name": "2016",
         "showlegend": false,
         "type": "scatter",
         "x": [
          16317,
          15935,
          18002,
          16389,
          16298,
          16293,
          16561,
          17607,
          17676,
          18261,
          17311,
          16978
         ],
         "xaxis": "x12",
         "y": [
          17010,
          19147,
          19488,
          18514,
          19830,
          18759,
          19172,
          19240,
          19501,
          19535,
          19121,
          18701
         ],
         "yaxis": "y12"
        },
        {
         "marker": {
          "color": "rgb(44, 160, 44)",
          "size": 6
         },
         "mode": "markers",
         "name": "2017",
         "showlegend": false,
         "type": "scatter",
         "x": [
          28905,
          28790,
          32877,
          27665,
          30491,
          28411,
          26955,
          28281,
          26284,
          27544,
          26113,
          25330
         ],
         "xaxis": "x12",
         "y": [
          17479,
          21652,
          21986,
          17938,
          20372,
          19867,
          19079,
          20479,
          18895,
          20450,
          19491,
          18545
         ],
         "yaxis": "y12"
        },
        {
         "marker": {
          "color": "rgb(214, 39, 40)",
          "size": 6
         },
         "mode": "markers",
         "name": "2018",
         "showlegend": false,
         "type": "scatter",
         "x": [
          25196,
          26176,
          24975,
          25797,
          27459,
          25272,
          22778,
          24140,
          22688,
          26285,
          25746,
          23526
         ],
         "xaxis": "x12",
         "y": [
          18792,
          26167,
          19463,
          18690,
          19842,
          19464,
          19407,
          20758,
          18898,
          22055,
          20278,
          18379
         ],
         "yaxis": "y12"
        },
        {
         "marker": {
          "color": "rgb(148, 103, 189)",
          "size": 6
         },
         "mode": "markers",
         "name": "2019",
         "showlegend": false,
         "type": "scatter",
         "x": [
          23707,
          21997,
          25416,
          24147,
          25008,
          26774,
          25726,
          26132,
          24605,
          26742,
          26406,
          26837
         ],
         "xaxis": "x12",
         "y": [
          20117,
          22334,
          26724,
          22004,
          23930,
          22429,
          21313,
          22036,
          20224,
          22332,
          21148,
          19306
         ],
         "yaxis": "y12"
        },
        {
         "marker": {
          "color": "rgb(140, 86, 75)",
          "size": 6
         },
         "mode": "markers",
         "name": "2020",
         "showlegend": false,
         "type": "scatter",
         "x": [
          28713,
          30528,
          25596,
          17555,
          18783,
          22292,
          21342,
          18773,
          18092,
          19389,
          23350,
          24578
         ],
         "xaxis": "x12",
         "y": [
          21558,
          27613,
          17072,
          9109,
          10846,
          14316,
          15805,
          14178,
          14015,
          14432,
          16411,
          16124
         ],
         "yaxis": "y12"
        },
        {
         "marker": {
          "color": "rgb(227, 119, 194)",
          "size": 6
         },
         "mode": "markers",
         "name": "2021",
         "showlegend": false,
         "type": "scatter",
         "x": [
          22694,
          22915,
          20660,
          19723,
          21934,
          21173,
          22868
         ],
         "xaxis": "x12",
         "y": [
          15471,
          16261,
          14985,
          14587,
          17677,
          17942,
          19057
         ],
         "yaxis": "y12"
        },
        {
         "marker": {
          "color": "rgb(31, 119, 180)"
         },
         "showlegend": false,
         "type": "box",
         "xaxis": "x13",
         "y": [
          17205,
          16542,
          20479,
          19038,
          18445,
          18310,
          19014,
          18213,
          17983,
          19384,
          18882,
          17500
         ],
         "yaxis": "y13"
        },
        {
         "marker": {
          "color": "rgb(255, 127, 14)"
         },
         "showlegend": false,
         "type": "box",
         "xaxis": "x13",
         "y": [
          17010,
          19147,
          19488,
          18514,
          19830,
          18759,
          19172,
          19240,
          19501,
          19535,
          19121,
          18701
         ],
         "yaxis": "y13"
        },
        {
         "marker": {
          "color": "rgb(44, 160, 44)"
         },
         "showlegend": false,
         "type": "box",
         "xaxis": "x13",
         "y": [
          17479,
          21652,
          21986,
          17938,
          20372,
          19867,
          19079,
          20479,
          18895,
          20450,
          19491,
          18545
         ],
         "yaxis": "y13"
        },
        {
         "marker": {
          "color": "rgb(214, 39, 40)"
         },
         "showlegend": false,
         "type": "box",
         "xaxis": "x13",
         "y": [
          18792,
          26167,
          19463,
          18690,
          19842,
          19464,
          19407,
          20758,
          18898,
          22055,
          20278,
          18379
         ],
         "yaxis": "y13"
        },
        {
         "marker": {
          "color": "rgb(148, 103, 189)"
         },
         "showlegend": false,
         "type": "box",
         "xaxis": "x13",
         "y": [
          20117,
          22334,
          26724,
          22004,
          23930,
          22429,
          21313,
          22036,
          20224,
          22332,
          21148,
          19306
         ],
         "yaxis": "y13"
        },
        {
         "marker": {
          "color": "rgb(140, 86, 75)"
         },
         "showlegend": false,
         "type": "box",
         "xaxis": "x13",
         "y": [
          21558,
          27613,
          17072,
          9109,
          10846,
          14316,
          15805,
          14178,
          14015,
          14432,
          16411,
          16124
         ],
         "yaxis": "y13"
        },
        {
         "marker": {
          "color": "rgb(227, 119, 194)"
         },
         "showlegend": false,
         "type": "box",
         "xaxis": "x13",
         "y": [
          15471,
          16261,
          14985,
          14587,
          17677,
          17942,
          19057
         ],
         "yaxis": "y13"
        },
        {
         "marker": {
          "color": "rgb(31, 119, 180)",
          "size": 6
         },
         "mode": "markers",
         "name": "2015",
         "showlegend": false,
         "type": "scatter",
         "x": [
          4440,
          4038,
          4679,
          4195,
          4099,
          4170,
          4007,
          4378,
          4301,
          4260,
          4091,
          4165
         ],
         "xaxis": "x14",
         "y": [
          17205,
          16542,
          20479,
          19038,
          18445,
          18310,
          19014,
          18213,
          17983,
          19384,
          18882,
          17500
         ],
         "yaxis": "y14"
        },
        {
         "marker": {
          "color": "rgb(255, 127, 14)",
          "size": 6
         },
         "mode": "markers",
         "name": "2016",
         "showlegend": false,
         "type": "scatter",
         "x": [
          3620,
          4054,
          4237,
          4211,
          3704,
          3784,
          3848,
          4116,
          3881,
          4104,
          3880,
          3983
         ],
         "xaxis": "x14",
         "y": [
          17010,
          19147,
          19488,
          18514,
          19830,
          18759,
          19172,
          19240,
          19501,
          19535,
          19121,
          18701
         ],
         "yaxis": "y14"
        },
        {
         "marker": {
          "color": "rgb(44, 160, 44)",
          "size": 6
         },
         "mode": "markers",
         "name": "2017",
         "showlegend": false,
         "type": "scatter",
         "x": [
          3645,
          3688,
          4258,
          3786,
          3914,
          3694,
          3719,
          3960,
          3982,
          4043,
          3685,
          3920
         ],
         "xaxis": "x14",
         "y": [
          17479,
          21652,
          21986,
          17938,
          20372,
          19867,
          19079,
          20479,
          18895,
          20450,
          19491,
          18545
         ],
         "yaxis": "y14"
        },
        {
         "marker": {
          "color": "rgb(214, 39, 40)",
          "size": 6
         },
         "mode": "markers",
         "name": "2018",
         "showlegend": false,
         "type": "scatter",
         "x": [
          3499,
          3469,
          4039,
          3708,
          3625,
          3582,
          3479,
          3415,
          3520,
          3683,
          3549,
          3605
         ],
         "xaxis": "x14",
         "y": [
          18792,
          26167,
          19463,
          18690,
          19842,
          19464,
          19407,
          20758,
          18898,
          22055,
          20278,
          18379
         ],
         "yaxis": "y14"
        },
        {
         "marker": {
          "color": "rgb(148, 103, 189)",
          "size": 6
         },
         "mode": "markers",
         "name": "2019",
         "showlegend": false,
         "type": "scatter",
         "x": [
          3762,
          3583,
          3929,
          4221,
          3819,
          3528,
          3628,
          3610,
          3616,
          4108,
          3801,
          3746
         ],
         "xaxis": "x14",
         "y": [
          20117,
          22334,
          26724,
          22004,
          23930,
          22429,
          21313,
          22036,
          20224,
          22332,
          21148,
          19306
         ],
         "yaxis": "y14"
        },
        {
         "marker": {
          "color": "rgb(140, 86, 75)",
          "size": 6
         },
         "mode": "markers",
         "name": "2020",
         "showlegend": false,
         "type": "scatter",
         "x": [
          3488,
          3417,
          3085,
          2193,
          2148,
          2579,
          3136,
          3241,
          3080,
          3300,
          3499,
          3603
         ],
         "xaxis": "x14",
         "y": [
          21558,
          27613,
          17072,
          9109,
          10846,
          14316,
          15805,
          14178,
          14015,
          14432,
          16411,
          16124
         ],
         "yaxis": "y14"
        },
        {
         "marker": {
          "color": "rgb(227, 119, 194)",
          "size": 6
         },
         "mode": "markers",
         "name": "2021",
         "showlegend": false,
         "type": "scatter",
         "x": [
          3317,
          3334,
          3309,
          2819,
          3123,
          2995,
          3168
         ],
         "xaxis": "x14",
         "y": [
          15471,
          16261,
          14985,
          14587,
          17677,
          17942,
          19057
         ],
         "yaxis": "y14"
        },
        {
         "marker": {
          "color": "rgb(31, 119, 180)",
          "size": 6
         },
         "mode": "markers",
         "name": "2015",
         "showlegend": false,
         "type": "scatter",
         "x": [
          339,
          296,
          349,
          298,
          293,
          265,
          249,
          276,
          274,
          274,
          283,
          331
         ],
         "xaxis": "x15",
         "y": [
          17205,
          16542,
          20479,
          19038,
          18445,
          18310,
          19014,
          18213,
          17983,
          19384,
          18882,
          17500
         ],
         "yaxis": "y15"
        },
        {
         "marker": {
          "color": "rgb(255, 127, 14)",
          "size": 6
         },
         "mode": "markers",
         "name": "2016",
         "showlegend": false,
         "type": "scatter",
         "x": [
          225,
          280,
          277,
          294,
          252,
          229,
          257,
          244,
          243,
          262,
          253,
          290
         ],
         "xaxis": "x15",
         "y": [
          17010,
          19147,
          19488,
          18514,
          19830,
          18759,
          19172,
          19240,
          19501,
          19535,
          19121,
          18701
         ],
         "yaxis": "y15"
        },
        {
         "marker": {
          "color": "rgb(44, 160, 44)",
          "size": 6
         },
         "mode": "markers",
         "name": "2017",
         "showlegend": false,
         "type": "scatter",
         "x": [
          221,
          247,
          245,
          298,
          232,
          210,
          186,
          192,
          214,
          201,
          238,
          278
         ],
         "xaxis": "x15",
         "y": [
          17479,
          21652,
          21986,
          17938,
          20372,
          19867,
          19079,
          20479,
          18895,
          20450,
          19491,
          18545
         ],
         "yaxis": "y15"
        },
        {
         "marker": {
          "color": "rgb(214, 39, 40)",
          "size": 6
         },
         "mode": "markers",
         "name": "2018",
         "showlegend": false,
         "type": "scatter",
         "x": [
          229,
          226,
          237,
          214,
          206,
          202,
          208,
          202,
          194,
          217,
          204,
          250
         ],
         "xaxis": "x15",
         "y": [
          18792,
          26167,
          19463,
          18690,
          19842,
          19464,
          19407,
          20758,
          18898,
          22055,
          20278,
          18379
         ],
         "yaxis": "y15"
        },
        {
         "marker": {
          "color": "rgb(148, 103, 189)",
          "size": 6
         },
         "mode": "markers",
         "name": "2019",
         "showlegend": false,
         "type": "scatter",
         "x": [
          251,
          188,
          255,
          209,
          210,
          182,
          207,
          181,
          204,
          221,
          223,
          201
         ],
         "xaxis": "x15",
         "y": [
          20117,
          22334,
          26724,
          22004,
          23930,
          22429,
          21313,
          22036,
          20224,
          22332,
          21148,
          19306
         ],
         "yaxis": "y15"
        },
        {
         "marker": {
          "color": "rgb(140, 86, 75)",
          "size": 6
         },
         "mode": "markers",
         "name": "2020",
         "showlegend": false,
         "type": "scatter",
         "x": [
          239,
          191,
          219,
          174,
          189,
          176,
          181,
          201,
          210,
          172,
          206,
          229
         ],
         "xaxis": "x15",
         "y": [
          21558,
          27613,
          17072,
          9109,
          10846,
          14316,
          15805,
          14178,
          14015,
          14432,
          16411,
          16124
         ],
         "yaxis": "y15"
        },
        {
         "marker": {
          "color": "rgb(227, 119, 194)",
          "size": 6
         },
         "mode": "markers",
         "name": "2021",
         "showlegend": false,
         "type": "scatter",
         "x": [
          220,
          151,
          200,
          194,
          186,
          186,
          174
         ],
         "xaxis": "x15",
         "y": [
          15471,
          16261,
          14985,
          14587,
          17677,
          17942,
          19057
         ],
         "yaxis": "y15"
        },
        {
         "marker": {
          "color": "rgb(31, 119, 180)",
          "size": 6
         },
         "mode": "markers",
         "name": "2015",
         "showlegend": false,
         "type": "scatter",
         "x": [
          181,
          163,
          197,
          167,
          164,
          162,
          189,
          176,
          170,
          184,
          174,
          160
         ],
         "xaxis": "x16",
         "y": [
          4440,
          4038,
          4679,
          4195,
          4099,
          4170,
          4007,
          4378,
          4301,
          4260,
          4091,
          4165
         ],
         "yaxis": "y16"
        },
        {
         "marker": {
          "color": "rgb(255, 127, 14)",
          "size": 6
         },
         "mode": "markers",
         "name": "2016",
         "showlegend": false,
         "type": "scatter",
         "x": [
          168,
          155,
          191,
          173,
          184,
          184,
          159,
          233,
          380,
          398,
          335,
          308
         ],
         "xaxis": "x16",
         "y": [
          3620,
          4054,
          4237,
          4211,
          3704,
          3784,
          3848,
          4116,
          3881,
          4104,
          3880,
          3983
         ],
         "yaxis": "y16"
        },
        {
         "marker": {
          "color": "rgb(44, 160, 44)",
          "size": 6
         },
         "mode": "markers",
         "name": "2017",
         "showlegend": false,
         "type": "scatter",
         "x": [
          410,
          374,
          442,
          318,
          450,
          380,
          394,
          380,
          444,
          558,
          524,
          418
         ],
         "xaxis": "x16",
         "y": [
          3645,
          3688,
          4258,
          3786,
          3914,
          3694,
          3719,
          3960,
          3982,
          4043,
          3685,
          3920
         ],
         "yaxis": "y16"
        },
        {
         "marker": {
          "color": "rgb(214, 39, 40)",
          "size": 6
         },
         "mode": "markers",
         "name": "2018",
         "showlegend": false,
         "type": "scatter",
         "x": [
          464,
          448,
          484,
          436,
          468,
          362,
          366,
          442,
          438,
          460,
          408,
          404
         ],
         "xaxis": "x16",
         "y": [
          3499,
          3469,
          4039,
          3708,
          3625,
          3582,
          3479,
          3415,
          3520,
          3683,
          3549,
          3605
         ],
         "yaxis": "y16"
        },
        {
         "marker": {
          "color": "rgb(148, 103, 189)",
          "size": 6
         },
         "mode": "markers",
         "name": "2019",
         "showlegend": false,
         "type": "scatter",
         "x": [
          428,
          372,
          476,
          458,
          398,
          354,
          396,
          418,
          506,
          604,
          496,
          420
         ],
         "xaxis": "x16",
         "y": [
          3762,
          3583,
          3929,
          4221,
          3819,
          3528,
          3628,
          3610,
          3616,
          4108,
          3801,
          3746
         ],
         "yaxis": "y16"
        },
        {
         "marker": {
          "color": "rgb(140, 86, 75)",
          "size": 6
         },
         "mode": "markers",
         "name": "2020",
         "showlegend": false,
         "type": "scatter",
         "x": [
          476,
          410,
          438,
          256,
          240,
          372,
          410,
          382,
          426,
          396,
          420,
          410
         ],
         "xaxis": "x16",
         "y": [
          3488,
          3417,
          3085,
          2193,
          2148,
          2579,
          3136,
          3241,
          3080,
          3300,
          3499,
          3603
         ],
         "yaxis": "y16"
        },
        {
         "marker": {
          "color": "rgb(227, 119, 194)",
          "size": 6
         },
         "mode": "markers",
         "name": "2021",
         "showlegend": false,
         "type": "scatter",
         "x": [
          434,
          434,
          426,
          368,
          362,
          366,
          362
         ],
         "xaxis": "x16",
         "y": [
          3317,
          3334,
          3309,
          2819,
          3123,
          2995,
          3168
         ],
         "yaxis": "y16"
        },
        {
         "marker": {
          "color": "rgb(31, 119, 180)",
          "size": 6
         },
         "mode": "markers",
         "name": "2015",
         "showlegend": false,
         "type": "scatter",
         "x": [
          17400,
          16095,
          18133,
          16636,
          15438,
          14765,
          15821,
          15574,
          15822,
          17545,
          17753,
          17127
         ],
         "xaxis": "x17",
         "y": [
          4440,
          4038,
          4679,
          4195,
          4099,
          4170,
          4007,
          4378,
          4301,
          4260,
          4091,
          4165
         ],
         "yaxis": "y17"
        },
        {
         "marker": {
          "color": "rgb(255, 127, 14)",
          "size": 6
         },
         "mode": "markers",
         "name": "2016",
         "showlegend": false,
         "type": "scatter",
         "x": [
          16317,
          15935,
          18002,
          16389,
          16298,
          16293,
          16561,
          17607,
          17676,
          18261,
          17311,
          16978
         ],
         "xaxis": "x17",
         "y": [
          3620,
          4054,
          4237,
          4211,
          3704,
          3784,
          3848,
          4116,
          3881,
          4104,
          3880,
          3983
         ],
         "yaxis": "y17"
        },
        {
         "marker": {
          "color": "rgb(44, 160, 44)",
          "size": 6
         },
         "mode": "markers",
         "name": "2017",
         "showlegend": false,
         "type": "scatter",
         "x": [
          28905,
          28790,
          32877,
          27665,
          30491,
          28411,
          26955,
          28281,
          26284,
          27544,
          26113,
          25330
         ],
         "xaxis": "x17",
         "y": [
          3645,
          3688,
          4258,
          3786,
          3914,
          3694,
          3719,
          3960,
          3982,
          4043,
          3685,
          3920
         ],
         "yaxis": "y17"
        },
        {
         "marker": {
          "color": "rgb(214, 39, 40)",
          "size": 6
         },
         "mode": "markers",
         "name": "2018",
         "showlegend": false,
         "type": "scatter",
         "x": [
          25196,
          26176,
          24975,
          25797,
          27459,
          25272,
          22778,
          24140,
          22688,
          26285,
          25746,
          23526
         ],
         "xaxis": "x17",
         "y": [
          3499,
          3469,
          4039,
          3708,
          3625,
          3582,
          3479,
          3415,
          3520,
          3683,
          3549,
          3605
         ],
         "yaxis": "y17"
        },
        {
         "marker": {
          "color": "rgb(148, 103, 189)",
          "size": 6
         },
         "mode": "markers",
         "name": "2019",
         "showlegend": false,
         "type": "scatter",
         "x": [
          23707,
          21997,
          25416,
          24147,
          25008,
          26774,
          25726,
          26132,
          24605,
          26742,
          26406,
          26837
         ],
         "xaxis": "x17",
         "y": [
          3762,
          3583,
          3929,
          4221,
          3819,
          3528,
          3628,
          3610,
          3616,
          4108,
          3801,
          3746
         ],
         "yaxis": "y17"
        },
        {
         "marker": {
          "color": "rgb(140, 86, 75)",
          "size": 6
         },
         "mode": "markers",
         "name": "2020",
         "showlegend": false,
         "type": "scatter",
         "x": [
          28713,
          30528,
          25596,
          17555,
          18783,
          22292,
          21342,
          18773,
          18092,
          19389,
          23350,
          24578
         ],
         "xaxis": "x17",
         "y": [
          3488,
          3417,
          3085,
          2193,
          2148,
          2579,
          3136,
          3241,
          3080,
          3300,
          3499,
          3603
         ],
         "yaxis": "y17"
        },
        {
         "marker": {
          "color": "rgb(227, 119, 194)",
          "size": 6
         },
         "mode": "markers",
         "name": "2021",
         "showlegend": false,
         "type": "scatter",
         "x": [
          22694,
          22915,
          20660,
          19723,
          21934,
          21173,
          22868
         ],
         "xaxis": "x17",
         "y": [
          3317,
          3334,
          3309,
          2819,
          3123,
          2995,
          3168
         ],
         "yaxis": "y17"
        },
        {
         "marker": {
          "color": "rgb(31, 119, 180)",
          "size": 6
         },
         "mode": "markers",
         "name": "2015",
         "showlegend": false,
         "type": "scatter",
         "x": [
          17205,
          16542,
          20479,
          19038,
          18445,
          18310,
          19014,
          18213,
          17983,
          19384,
          18882,
          17500
         ],
         "xaxis": "x18",
         "y": [
          4440,
          4038,
          4679,
          4195,
          4099,
          4170,
          4007,
          4378,
          4301,
          4260,
          4091,
          4165
         ],
         "yaxis": "y18"
        },
        {
         "marker": {
          "color": "rgb(255, 127, 14)",
          "size": 6
         },
         "mode": "markers",
         "name": "2016",
         "showlegend": false,
         "type": "scatter",
         "x": [
          17010,
          19147,
          19488,
          18514,
          19830,
          18759,
          19172,
          19240,
          19501,
          19535,
          19121,
          18701
         ],
         "xaxis": "x18",
         "y": [
          3620,
          4054,
          4237,
          4211,
          3704,
          3784,
          3848,
          4116,
          3881,
          4104,
          3880,
          3983
         ],
         "yaxis": "y18"
        },
        {
         "marker": {
          "color": "rgb(44, 160, 44)",
          "size": 6
         },
         "mode": "markers",
         "name": "2017",
         "showlegend": false,
         "type": "scatter",
         "x": [
          17479,
          21652,
          21986,
          17938,
          20372,
          19867,
          19079,
          20479,
          18895,
          20450,
          19491,
          18545
         ],
         "xaxis": "x18",
         "y": [
          3645,
          3688,
          4258,
          3786,
          3914,
          3694,
          3719,
          3960,
          3982,
          4043,
          3685,
          3920
         ],
         "yaxis": "y18"
        },
        {
         "marker": {
          "color": "rgb(214, 39, 40)",
          "size": 6
         },
         "mode": "markers",
         "name": "2018",
         "showlegend": false,
         "type": "scatter",
         "x": [
          18792,
          26167,
          19463,
          18690,
          19842,
          19464,
          19407,
          20758,
          18898,
          22055,
          20278,
          18379
         ],
         "xaxis": "x18",
         "y": [
          3499,
          3469,
          4039,
          3708,
          3625,
          3582,
          3479,
          3415,
          3520,
          3683,
          3549,
          3605
         ],
         "yaxis": "y18"
        },
        {
         "marker": {
          "color": "rgb(148, 103, 189)",
          "size": 6
         },
         "mode": "markers",
         "name": "2019",
         "showlegend": false,
         "type": "scatter",
         "x": [
          20117,
          22334,
          26724,
          22004,
          23930,
          22429,
          21313,
          22036,
          20224,
          22332,
          21148,
          19306
         ],
         "xaxis": "x18",
         "y": [
          3762,
          3583,
          3929,
          4221,
          3819,
          3528,
          3628,
          3610,
          3616,
          4108,
          3801,
          3746
         ],
         "yaxis": "y18"
        },
        {
         "marker": {
          "color": "rgb(140, 86, 75)",
          "size": 6
         },
         "mode": "markers",
         "name": "2020",
         "showlegend": false,
         "type": "scatter",
         "x": [
          21558,
          27613,
          17072,
          9109,
          10846,
          14316,
          15805,
          14178,
          14015,
          14432,
          16411,
          16124
         ],
         "xaxis": "x18",
         "y": [
          3488,
          3417,
          3085,
          2193,
          2148,
          2579,
          3136,
          3241,
          3080,
          3300,
          3499,
          3603
         ],
         "yaxis": "y18"
        },
        {
         "marker": {
          "color": "rgb(227, 119, 194)",
          "size": 6
         },
         "mode": "markers",
         "name": "2021",
         "showlegend": false,
         "type": "scatter",
         "x": [
          15471,
          16261,
          14985,
          14587,
          17677,
          17942,
          19057
         ],
         "xaxis": "x18",
         "y": [
          3317,
          3334,
          3309,
          2819,
          3123,
          2995,
          3168
         ],
         "yaxis": "y18"
        },
        {
         "marker": {
          "color": "rgb(31, 119, 180)"
         },
         "showlegend": false,
         "type": "box",
         "xaxis": "x19",
         "y": [
          4440,
          4038,
          4679,
          4195,
          4099,
          4170,
          4007,
          4378,
          4301,
          4260,
          4091,
          4165
         ],
         "yaxis": "y19"
        },
        {
         "marker": {
          "color": "rgb(255, 127, 14)"
         },
         "showlegend": false,
         "type": "box",
         "xaxis": "x19",
         "y": [
          3620,
          4054,
          4237,
          4211,
          3704,
          3784,
          3848,
          4116,
          3881,
          4104,
          3880,
          3983
         ],
         "yaxis": "y19"
        },
        {
         "marker": {
          "color": "rgb(44, 160, 44)"
         },
         "showlegend": false,
         "type": "box",
         "xaxis": "x19",
         "y": [
          3645,
          3688,
          4258,
          3786,
          3914,
          3694,
          3719,
          3960,
          3982,
          4043,
          3685,
          3920
         ],
         "yaxis": "y19"
        },
        {
         "marker": {
          "color": "rgb(214, 39, 40)"
         },
         "showlegend": false,
         "type": "box",
         "xaxis": "x19",
         "y": [
          3499,
          3469,
          4039,
          3708,
          3625,
          3582,
          3479,
          3415,
          3520,
          3683,
          3549,
          3605
         ],
         "yaxis": "y19"
        },
        {
         "marker": {
          "color": "rgb(148, 103, 189)"
         },
         "showlegend": false,
         "type": "box",
         "xaxis": "x19",
         "y": [
          3762,
          3583,
          3929,
          4221,
          3819,
          3528,
          3628,
          3610,
          3616,
          4108,
          3801,
          3746
         ],
         "yaxis": "y19"
        },
        {
         "marker": {
          "color": "rgb(140, 86, 75)"
         },
         "showlegend": false,
         "type": "box",
         "xaxis": "x19",
         "y": [
          3488,
          3417,
          3085,
          2193,
          2148,
          2579,
          3136,
          3241,
          3080,
          3300,
          3499,
          3603
         ],
         "yaxis": "y19"
        },
        {
         "marker": {
          "color": "rgb(227, 119, 194)"
         },
         "showlegend": false,
         "type": "box",
         "xaxis": "x19",
         "y": [
          3317,
          3334,
          3309,
          2819,
          3123,
          2995,
          3168
         ],
         "yaxis": "y19"
        },
        {
         "marker": {
          "color": "rgb(31, 119, 180)",
          "size": 6
         },
         "mode": "markers",
         "name": "2015",
         "showlegend": false,
         "type": "scatter",
         "x": [
          339,
          296,
          349,
          298,
          293,
          265,
          249,
          276,
          274,
          274,
          283,
          331
         ],
         "xaxis": "x20",
         "y": [
          4440,
          4038,
          4679,
          4195,
          4099,
          4170,
          4007,
          4378,
          4301,
          4260,
          4091,
          4165
         ],
         "yaxis": "y20"
        },
        {
         "marker": {
          "color": "rgb(255, 127, 14)",
          "size": 6
         },
         "mode": "markers",
         "name": "2016",
         "showlegend": false,
         "type": "scatter",
         "x": [
          225,
          280,
          277,
          294,
          252,
          229,
          257,
          244,
          243,
          262,
          253,
          290
         ],
         "xaxis": "x20",
         "y": [
          3620,
          4054,
          4237,
          4211,
          3704,
          3784,
          3848,
          4116,
          3881,
          4104,
          3880,
          3983
         ],
         "yaxis": "y20"
        },
        {
         "marker": {
          "color": "rgb(44, 160, 44)",
          "size": 6
         },
         "mode": "markers",
         "name": "2017",
         "showlegend": false,
         "type": "scatter",
         "x": [
          221,
          247,
          245,
          298,
          232,
          210,
          186,
          192,
          214,
          201,
          238,
          278
         ],
         "xaxis": "x20",
         "y": [
          3645,
          3688,
          4258,
          3786,
          3914,
          3694,
          3719,
          3960,
          3982,
          4043,
          3685,
          3920
         ],
         "yaxis": "y20"
        },
        {
         "marker": {
          "color": "rgb(214, 39, 40)",
          "size": 6
         },
         "mode": "markers",
         "name": "2018",
         "showlegend": false,
         "type": "scatter",
         "x": [
          229,
          226,
          237,
          214,
          206,
          202,
          208,
          202,
          194,
          217,
          204,
          250
         ],
         "xaxis": "x20",
         "y": [
          3499,
          3469,
          4039,
          3708,
          3625,
          3582,
          3479,
          3415,
          3520,
          3683,
          3549,
          3605
         ],
         "yaxis": "y20"
        },
        {
         "marker": {
          "color": "rgb(148, 103, 189)",
          "size": 6
         },
         "mode": "markers",
         "name": "2019",
         "showlegend": false,
         "type": "scatter",
         "x": [
          251,
          188,
          255,
          209,
          210,
          182,
          207,
          181,
          204,
          221,
          223,
          201
         ],
         "xaxis": "x20",
         "y": [
          3762,
          3583,
          3929,
          4221,
          3819,
          3528,
          3628,
          3610,
          3616,
          4108,
          3801,
          3746
         ],
         "yaxis": "y20"
        },
        {
         "marker": {
          "color": "rgb(140, 86, 75)",
          "size": 6
         },
         "mode": "markers",
         "name": "2020",
         "showlegend": false,
         "type": "scatter",
         "x": [
          239,
          191,
          219,
          174,
          189,
          176,
          181,
          201,
          210,
          172,
          206,
          229
         ],
         "xaxis": "x20",
         "y": [
          3488,
          3417,
          3085,
          2193,
          2148,
          2579,
          3136,
          3241,
          3080,
          3300,
          3499,
          3603
         ],
         "yaxis": "y20"
        },
        {
         "marker": {
          "color": "rgb(227, 119, 194)",
          "size": 6
         },
         "mode": "markers",
         "name": "2021",
         "showlegend": false,
         "type": "scatter",
         "x": [
          220,
          151,
          200,
          194,
          186,
          186,
          174
         ],
         "xaxis": "x20",
         "y": [
          3317,
          3334,
          3309,
          2819,
          3123,
          2995,
          3168
         ],
         "yaxis": "y20"
        },
        {
         "marker": {
          "color": "rgb(31, 119, 180)",
          "size": 6
         },
         "mode": "markers",
         "name": "2015",
         "showlegend": false,
         "type": "scatter",
         "x": [
          181,
          163,
          197,
          167,
          164,
          162,
          189,
          176,
          170,
          184,
          174,
          160
         ],
         "xaxis": "x21",
         "y": [
          339,
          296,
          349,
          298,
          293,
          265,
          249,
          276,
          274,
          274,
          283,
          331
         ],
         "yaxis": "y21"
        },
        {
         "marker": {
          "color": "rgb(255, 127, 14)",
          "size": 6
         },
         "mode": "markers",
         "name": "2016",
         "showlegend": false,
         "type": "scatter",
         "x": [
          168,
          155,
          191,
          173,
          184,
          184,
          159,
          233,
          380,
          398,
          335,
          308
         ],
         "xaxis": "x21",
         "y": [
          225,
          280,
          277,
          294,
          252,
          229,
          257,
          244,
          243,
          262,
          253,
          290
         ],
         "yaxis": "y21"
        },
        {
         "marker": {
          "color": "rgb(44, 160, 44)",
          "size": 6
         },
         "mode": "markers",
         "name": "2017",
         "showlegend": false,
         "type": "scatter",
         "x": [
          410,
          374,
          442,
          318,
          450,
          380,
          394,
          380,
          444,
          558,
          524,
          418
         ],
         "xaxis": "x21",
         "y": [
          221,
          247,
          245,
          298,
          232,
          210,
          186,
          192,
          214,
          201,
          238,
          278
         ],
         "yaxis": "y21"
        },
        {
         "marker": {
          "color": "rgb(214, 39, 40)",
          "size": 6
         },
         "mode": "markers",
         "name": "2018",
         "showlegend": false,
         "type": "scatter",
         "x": [
          464,
          448,
          484,
          436,
          468,
          362,
          366,
          442,
          438,
          460,
          408,
          404
         ],
         "xaxis": "x21",
         "y": [
          229,
          226,
          237,
          214,
          206,
          202,
          208,
          202,
          194,
          217,
          204,
          250
         ],
         "yaxis": "y21"
        },
        {
         "marker": {
          "color": "rgb(148, 103, 189)",
          "size": 6
         },
         "mode": "markers",
         "name": "2019",
         "showlegend": false,
         "type": "scatter",
         "x": [
          428,
          372,
          476,
          458,
          398,
          354,
          396,
          418,
          506,
          604,
          496,
          420
         ],
         "xaxis": "x21",
         "y": [
          251,
          188,
          255,
          209,
          210,
          182,
          207,
          181,
          204,
          221,
          223,
          201
         ],
         "yaxis": "y21"
        },
        {
         "marker": {
          "color": "rgb(140, 86, 75)",
          "size": 6
         },
         "mode": "markers",
         "name": "2020",
         "showlegend": false,
         "type": "scatter",
         "x": [
          476,
          410,
          438,
          256,
          240,
          372,
          410,
          382,
          426,
          396,
          420,
          410
         ],
         "xaxis": "x21",
         "y": [
          239,
          191,
          219,
          174,
          189,
          176,
          181,
          201,
          210,
          172,
          206,
          229
         ],
         "yaxis": "y21"
        },
        {
         "marker": {
          "color": "rgb(227, 119, 194)",
          "size": 6
         },
         "mode": "markers",
         "name": "2021",
         "showlegend": false,
         "type": "scatter",
         "x": [
          434,
          434,
          426,
          368,
          362,
          366,
          362
         ],
         "xaxis": "x21",
         "y": [
          220,
          151,
          200,
          194,
          186,
          186,
          174
         ],
         "yaxis": "y21"
        },
        {
         "marker": {
          "color": "rgb(31, 119, 180)",
          "size": 6
         },
         "mode": "markers",
         "name": "2015",
         "showlegend": false,
         "type": "scatter",
         "x": [
          17400,
          16095,
          18133,
          16636,
          15438,
          14765,
          15821,
          15574,
          15822,
          17545,
          17753,
          17127
         ],
         "xaxis": "x22",
         "y": [
          339,
          296,
          349,
          298,
          293,
          265,
          249,
          276,
          274,
          274,
          283,
          331
         ],
         "yaxis": "y22"
        },
        {
         "marker": {
          "color": "rgb(255, 127, 14)",
          "size": 6
         },
         "mode": "markers",
         "name": "2016",
         "showlegend": false,
         "type": "scatter",
         "x": [
          16317,
          15935,
          18002,
          16389,
          16298,
          16293,
          16561,
          17607,
          17676,
          18261,
          17311,
          16978
         ],
         "xaxis": "x22",
         "y": [
          225,
          280,
          277,
          294,
          252,
          229,
          257,
          244,
          243,
          262,
          253,
          290
         ],
         "yaxis": "y22"
        },
        {
         "marker": {
          "color": "rgb(44, 160, 44)",
          "size": 6
         },
         "mode": "markers",
         "name": "2017",
         "showlegend": false,
         "type": "scatter",
         "x": [
          28905,
          28790,
          32877,
          27665,
          30491,
          28411,
          26955,
          28281,
          26284,
          27544,
          26113,
          25330
         ],
         "xaxis": "x22",
         "y": [
          221,
          247,
          245,
          298,
          232,
          210,
          186,
          192,
          214,
          201,
          238,
          278
         ],
         "yaxis": "y22"
        },
        {
         "marker": {
          "color": "rgb(214, 39, 40)",
          "size": 6
         },
         "mode": "markers",
         "name": "2018",
         "showlegend": false,
         "type": "scatter",
         "x": [
          25196,
          26176,
          24975,
          25797,
          27459,
          25272,
          22778,
          24140,
          22688,
          26285,
          25746,
          23526
         ],
         "xaxis": "x22",
         "y": [
          229,
          226,
          237,
          214,
          206,
          202,
          208,
          202,
          194,
          217,
          204,
          250
         ],
         "yaxis": "y22"
        },
        {
         "marker": {
          "color": "rgb(148, 103, 189)",
          "size": 6
         },
         "mode": "markers",
         "name": "2019",
         "showlegend": false,
         "type": "scatter",
         "x": [
          23707,
          21997,
          25416,
          24147,
          25008,
          26774,
          25726,
          26132,
          24605,
          26742,
          26406,
          26837
         ],
         "xaxis": "x22",
         "y": [
          251,
          188,
          255,
          209,
          210,
          182,
          207,
          181,
          204,
          221,
          223,
          201
         ],
         "yaxis": "y22"
        },
        {
         "marker": {
          "color": "rgb(140, 86, 75)",
          "size": 6
         },
         "mode": "markers",
         "name": "2020",
         "showlegend": false,
         "type": "scatter",
         "x": [
          28713,
          30528,
          25596,
          17555,
          18783,
          22292,
          21342,
          18773,
          18092,
          19389,
          23350,
          24578
         ],
         "xaxis": "x22",
         "y": [
          239,
          191,
          219,
          174,
          189,
          176,
          181,
          201,
          210,
          172,
          206,
          229
         ],
         "yaxis": "y22"
        },
        {
         "marker": {
          "color": "rgb(227, 119, 194)",
          "size": 6
         },
         "mode": "markers",
         "name": "2021",
         "showlegend": false,
         "type": "scatter",
         "x": [
          22694,
          22915,
          20660,
          19723,
          21934,
          21173,
          22868
         ],
         "xaxis": "x22",
         "y": [
          220,
          151,
          200,
          194,
          186,
          186,
          174
         ],
         "yaxis": "y22"
        },
        {
         "marker": {
          "color": "rgb(31, 119, 180)",
          "size": 6
         },
         "mode": "markers",
         "name": "2015",
         "showlegend": false,
         "type": "scatter",
         "x": [
          17205,
          16542,
          20479,
          19038,
          18445,
          18310,
          19014,
          18213,
          17983,
          19384,
          18882,
          17500
         ],
         "xaxis": "x23",
         "y": [
          339,
          296,
          349,
          298,
          293,
          265,
          249,
          276,
          274,
          274,
          283,
          331
         ],
         "yaxis": "y23"
        },
        {
         "marker": {
          "color": "rgb(255, 127, 14)",
          "size": 6
         },
         "mode": "markers",
         "name": "2016",
         "showlegend": false,
         "type": "scatter",
         "x": [
          17010,
          19147,
          19488,
          18514,
          19830,
          18759,
          19172,
          19240,
          19501,
          19535,
          19121,
          18701
         ],
         "xaxis": "x23",
         "y": [
          225,
          280,
          277,
          294,
          252,
          229,
          257,
          244,
          243,
          262,
          253,
          290
         ],
         "yaxis": "y23"
        },
        {
         "marker": {
          "color": "rgb(44, 160, 44)",
          "size": 6
         },
         "mode": "markers",
         "name": "2017",
         "showlegend": false,
         "type": "scatter",
         "x": [
          17479,
          21652,
          21986,
          17938,
          20372,
          19867,
          19079,
          20479,
          18895,
          20450,
          19491,
          18545
         ],
         "xaxis": "x23",
         "y": [
          221,
          247,
          245,
          298,
          232,
          210,
          186,
          192,
          214,
          201,
          238,
          278
         ],
         "yaxis": "y23"
        },
        {
         "marker": {
          "color": "rgb(214, 39, 40)",
          "size": 6
         },
         "mode": "markers",
         "name": "2018",
         "showlegend": false,
         "type": "scatter",
         "x": [
          18792,
          26167,
          19463,
          18690,
          19842,
          19464,
          19407,
          20758,
          18898,
          22055,
          20278,
          18379
         ],
         "xaxis": "x23",
         "y": [
          229,
          226,
          237,
          214,
          206,
          202,
          208,
          202,
          194,
          217,
          204,
          250
         ],
         "yaxis": "y23"
        },
        {
         "marker": {
          "color": "rgb(148, 103, 189)",
          "size": 6
         },
         "mode": "markers",
         "name": "2019",
         "showlegend": false,
         "type": "scatter",
         "x": [
          20117,
          22334,
          26724,
          22004,
          23930,
          22429,
          21313,
          22036,
          20224,
          22332,
          21148,
          19306
         ],
         "xaxis": "x23",
         "y": [
          251,
          188,
          255,
          209,
          210,
          182,
          207,
          181,
          204,
          221,
          223,
          201
         ],
         "yaxis": "y23"
        },
        {
         "marker": {
          "color": "rgb(140, 86, 75)",
          "size": 6
         },
         "mode": "markers",
         "name": "2020",
         "showlegend": false,
         "type": "scatter",
         "x": [
          21558,
          27613,
          17072,
          9109,
          10846,
          14316,
          15805,
          14178,
          14015,
          14432,
          16411,
          16124
         ],
         "xaxis": "x23",
         "y": [
          239,
          191,
          219,
          174,
          189,
          176,
          181,
          201,
          210,
          172,
          206,
          229
         ],
         "yaxis": "y23"
        },
        {
         "marker": {
          "color": "rgb(227, 119, 194)",
          "size": 6
         },
         "mode": "markers",
         "name": "2021",
         "showlegend": false,
         "type": "scatter",
         "x": [
          15471,
          16261,
          14985,
          14587,
          17677,
          17942,
          19057
         ],
         "xaxis": "x23",
         "y": [
          220,
          151,
          200,
          194,
          186,
          186,
          174
         ],
         "yaxis": "y23"
        },
        {
         "marker": {
          "color": "rgb(31, 119, 180)",
          "size": 6
         },
         "mode": "markers",
         "name": "2015",
         "showlegend": false,
         "type": "scatter",
         "x": [
          4440,
          4038,
          4679,
          4195,
          4099,
          4170,
          4007,
          4378,
          4301,
          4260,
          4091,
          4165
         ],
         "xaxis": "x24",
         "y": [
          339,
          296,
          349,
          298,
          293,
          265,
          249,
          276,
          274,
          274,
          283,
          331
         ],
         "yaxis": "y24"
        },
        {
         "marker": {
          "color": "rgb(255, 127, 14)",
          "size": 6
         },
         "mode": "markers",
         "name": "2016",
         "showlegend": false,
         "type": "scatter",
         "x": [
          3620,
          4054,
          4237,
          4211,
          3704,
          3784,
          3848,
          4116,
          3881,
          4104,
          3880,
          3983
         ],
         "xaxis": "x24",
         "y": [
          225,
          280,
          277,
          294,
          252,
          229,
          257,
          244,
          243,
          262,
          253,
          290
         ],
         "yaxis": "y24"
        },
        {
         "marker": {
          "color": "rgb(44, 160, 44)",
          "size": 6
         },
         "mode": "markers",
         "name": "2017",
         "showlegend": false,
         "type": "scatter",
         "x": [
          3645,
          3688,
          4258,
          3786,
          3914,
          3694,
          3719,
          3960,
          3982,
          4043,
          3685,
          3920
         ],
         "xaxis": "x24",
         "y": [
          221,
          247,
          245,
          298,
          232,
          210,
          186,
          192,
          214,
          201,
          238,
          278
         ],
         "yaxis": "y24"
        },
        {
         "marker": {
          "color": "rgb(214, 39, 40)",
          "size": 6
         },
         "mode": "markers",
         "name": "2018",
         "showlegend": false,
         "type": "scatter",
         "x": [
          3499,
          3469,
          4039,
          3708,
          3625,
          3582,
          3479,
          3415,
          3520,
          3683,
          3549,
          3605
         ],
         "xaxis": "x24",
         "y": [
          229,
          226,
          237,
          214,
          206,
          202,
          208,
          202,
          194,
          217,
          204,
          250
         ],
         "yaxis": "y24"
        },
        {
         "marker": {
          "color": "rgb(148, 103, 189)",
          "size": 6
         },
         "mode": "markers",
         "name": "2019",
         "showlegend": false,
         "type": "scatter",
         "x": [
          3762,
          3583,
          3929,
          4221,
          3819,
          3528,
          3628,
          3610,
          3616,
          4108,
          3801,
          3746
         ],
         "xaxis": "x24",
         "y": [
          251,
          188,
          255,
          209,
          210,
          182,
          207,
          181,
          204,
          221,
          223,
          201
         ],
         "yaxis": "y24"
        },
        {
         "marker": {
          "color": "rgb(140, 86, 75)",
          "size": 6
         },
         "mode": "markers",
         "name": "2020",
         "showlegend": false,
         "type": "scatter",
         "x": [
          3488,
          3417,
          3085,
          2193,
          2148,
          2579,
          3136,
          3241,
          3080,
          3300,
          3499,
          3603
         ],
         "xaxis": "x24",
         "y": [
          239,
          191,
          219,
          174,
          189,
          176,
          181,
          201,
          210,
          172,
          206,
          229
         ],
         "yaxis": "y24"
        },
        {
         "marker": {
          "color": "rgb(227, 119, 194)",
          "size": 6
         },
         "mode": "markers",
         "name": "2021",
         "showlegend": false,
         "type": "scatter",
         "x": [
          3317,
          3334,
          3309,
          2819,
          3123,
          2995,
          3168
         ],
         "xaxis": "x24",
         "y": [
          220,
          151,
          200,
          194,
          186,
          186,
          174
         ],
         "yaxis": "y24"
        },
        {
         "marker": {
          "color": "rgb(31, 119, 180)"
         },
         "showlegend": false,
         "type": "box",
         "xaxis": "x25",
         "y": [
          339,
          296,
          349,
          298,
          293,
          265,
          249,
          276,
          274,
          274,
          283,
          331
         ],
         "yaxis": "y25"
        },
        {
         "marker": {
          "color": "rgb(255, 127, 14)"
         },
         "showlegend": false,
         "type": "box",
         "xaxis": "x25",
         "y": [
          225,
          280,
          277,
          294,
          252,
          229,
          257,
          244,
          243,
          262,
          253,
          290
         ],
         "yaxis": "y25"
        },
        {
         "marker": {
          "color": "rgb(44, 160, 44)"
         },
         "showlegend": false,
         "type": "box",
         "xaxis": "x25",
         "y": [
          221,
          247,
          245,
          298,
          232,
          210,
          186,
          192,
          214,
          201,
          238,
          278
         ],
         "yaxis": "y25"
        },
        {
         "marker": {
          "color": "rgb(214, 39, 40)"
         },
         "showlegend": false,
         "type": "box",
         "xaxis": "x25",
         "y": [
          229,
          226,
          237,
          214,
          206,
          202,
          208,
          202,
          194,
          217,
          204,
          250
         ],
         "yaxis": "y25"
        },
        {
         "marker": {
          "color": "rgb(148, 103, 189)"
         },
         "showlegend": false,
         "type": "box",
         "xaxis": "x25",
         "y": [
          251,
          188,
          255,
          209,
          210,
          182,
          207,
          181,
          204,
          221,
          223,
          201
         ],
         "yaxis": "y25"
        },
        {
         "marker": {
          "color": "rgb(140, 86, 75)"
         },
         "showlegend": false,
         "type": "box",
         "xaxis": "x25",
         "y": [
          239,
          191,
          219,
          174,
          189,
          176,
          181,
          201,
          210,
          172,
          206,
          229
         ],
         "yaxis": "y25"
        },
        {
         "marker": {
          "color": "rgb(227, 119, 194)"
         },
         "showlegend": false,
         "type": "box",
         "xaxis": "x25",
         "y": [
          220,
          151,
          200,
          194,
          186,
          186,
          174
         ],
         "yaxis": "y25"
        }
       ],
       "layout": {
        "height": 1000,
        "showlegend": true,
        "template": {
         "data": {
          "bar": [
           {
            "error_x": {
             "color": "#2a3f5f"
            },
            "error_y": {
             "color": "#2a3f5f"
            },
            "marker": {
             "line": {
              "color": "#E5ECF6",
              "width": 0.5
             },
             "pattern": {
              "fillmode": "overlay",
              "size": 10,
              "solidity": 0.2
             }
            },
            "type": "bar"
           }
          ],
          "barpolar": [
           {
            "marker": {
             "line": {
              "color": "#E5ECF6",
              "width": 0.5
             },
             "pattern": {
              "fillmode": "overlay",
              "size": 10,
              "solidity": 0.2
             }
            },
            "type": "barpolar"
           }
          ],
          "carpet": [
           {
            "aaxis": {
             "endlinecolor": "#2a3f5f",
             "gridcolor": "white",
             "linecolor": "white",
             "minorgridcolor": "white",
             "startlinecolor": "#2a3f5f"
            },
            "baxis": {
             "endlinecolor": "#2a3f5f",
             "gridcolor": "white",
             "linecolor": "white",
             "minorgridcolor": "white",
             "startlinecolor": "#2a3f5f"
            },
            "type": "carpet"
           }
          ],
          "choropleth": [
           {
            "colorbar": {
             "outlinewidth": 0,
             "ticks": ""
            },
            "type": "choropleth"
           }
          ],
          "contour": [
           {
            "colorbar": {
             "outlinewidth": 0,
             "ticks": ""
            },
            "colorscale": [
             [
              0,
              "#0d0887"
             ],
             [
              0.1111111111111111,
              "#46039f"
             ],
             [
              0.2222222222222222,
              "#7201a8"
             ],
             [
              0.3333333333333333,
              "#9c179e"
             ],
             [
              0.4444444444444444,
              "#bd3786"
             ],
             [
              0.5555555555555556,
              "#d8576b"
             ],
             [
              0.6666666666666666,
              "#ed7953"
             ],
             [
              0.7777777777777778,
              "#fb9f3a"
             ],
             [
              0.8888888888888888,
              "#fdca26"
             ],
             [
              1,
              "#f0f921"
             ]
            ],
            "type": "contour"
           }
          ],
          "contourcarpet": [
           {
            "colorbar": {
             "outlinewidth": 0,
             "ticks": ""
            },
            "type": "contourcarpet"
           }
          ],
          "heatmap": [
           {
            "colorbar": {
             "outlinewidth": 0,
             "ticks": ""
            },
            "colorscale": [
             [
              0,
              "#0d0887"
             ],
             [
              0.1111111111111111,
              "#46039f"
             ],
             [
              0.2222222222222222,
              "#7201a8"
             ],
             [
              0.3333333333333333,
              "#9c179e"
             ],
             [
              0.4444444444444444,
              "#bd3786"
             ],
             [
              0.5555555555555556,
              "#d8576b"
             ],
             [
              0.6666666666666666,
              "#ed7953"
             ],
             [
              0.7777777777777778,
              "#fb9f3a"
             ],
             [
              0.8888888888888888,
              "#fdca26"
             ],
             [
              1,
              "#f0f921"
             ]
            ],
            "type": "heatmap"
           }
          ],
          "heatmapgl": [
           {
            "colorbar": {
             "outlinewidth": 0,
             "ticks": ""
            },
            "colorscale": [
             [
              0,
              "#0d0887"
             ],
             [
              0.1111111111111111,
              "#46039f"
             ],
             [
              0.2222222222222222,
              "#7201a8"
             ],
             [
              0.3333333333333333,
              "#9c179e"
             ],
             [
              0.4444444444444444,
              "#bd3786"
             ],
             [
              0.5555555555555556,
              "#d8576b"
             ],
             [
              0.6666666666666666,
              "#ed7953"
             ],
             [
              0.7777777777777778,
              "#fb9f3a"
             ],
             [
              0.8888888888888888,
              "#fdca26"
             ],
             [
              1,
              "#f0f921"
             ]
            ],
            "type": "heatmapgl"
           }
          ],
          "histogram": [
           {
            "marker": {
             "pattern": {
              "fillmode": "overlay",
              "size": 10,
              "solidity": 0.2
             }
            },
            "type": "histogram"
           }
          ],
          "histogram2d": [
           {
            "colorbar": {
             "outlinewidth": 0,
             "ticks": ""
            },
            "colorscale": [
             [
              0,
              "#0d0887"
             ],
             [
              0.1111111111111111,
              "#46039f"
             ],
             [
              0.2222222222222222,
              "#7201a8"
             ],
             [
              0.3333333333333333,
              "#9c179e"
             ],
             [
              0.4444444444444444,
              "#bd3786"
             ],
             [
              0.5555555555555556,
              "#d8576b"
             ],
             [
              0.6666666666666666,
              "#ed7953"
             ],
             [
              0.7777777777777778,
              "#fb9f3a"
             ],
             [
              0.8888888888888888,
              "#fdca26"
             ],
             [
              1,
              "#f0f921"
             ]
            ],
            "type": "histogram2d"
           }
          ],
          "histogram2dcontour": [
           {
            "colorbar": {
             "outlinewidth": 0,
             "ticks": ""
            },
            "colorscale": [
             [
              0,
              "#0d0887"
             ],
             [
              0.1111111111111111,
              "#46039f"
             ],
             [
              0.2222222222222222,
              "#7201a8"
             ],
             [
              0.3333333333333333,
              "#9c179e"
             ],
             [
              0.4444444444444444,
              "#bd3786"
             ],
             [
              0.5555555555555556,
              "#d8576b"
             ],
             [
              0.6666666666666666,
              "#ed7953"
             ],
             [
              0.7777777777777778,
              "#fb9f3a"
             ],
             [
              0.8888888888888888,
              "#fdca26"
             ],
             [
              1,
              "#f0f921"
             ]
            ],
            "type": "histogram2dcontour"
           }
          ],
          "mesh3d": [
           {
            "colorbar": {
             "outlinewidth": 0,
             "ticks": ""
            },
            "type": "mesh3d"
           }
          ],
          "parcoords": [
           {
            "line": {
             "colorbar": {
              "outlinewidth": 0,
              "ticks": ""
             }
            },
            "type": "parcoords"
           }
          ],
          "pie": [
           {
            "automargin": true,
            "type": "pie"
           }
          ],
          "scatter": [
           {
            "marker": {
             "colorbar": {
              "outlinewidth": 0,
              "ticks": ""
             }
            },
            "type": "scatter"
           }
          ],
          "scatter3d": [
           {
            "line": {
             "colorbar": {
              "outlinewidth": 0,
              "ticks": ""
             }
            },
            "marker": {
             "colorbar": {
              "outlinewidth": 0,
              "ticks": ""
             }
            },
            "type": "scatter3d"
           }
          ],
          "scattercarpet": [
           {
            "marker": {
             "colorbar": {
              "outlinewidth": 0,
              "ticks": ""
             }
            },
            "type": "scattercarpet"
           }
          ],
          "scattergeo": [
           {
            "marker": {
             "colorbar": {
              "outlinewidth": 0,
              "ticks": ""
             }
            },
            "type": "scattergeo"
           }
          ],
          "scattergl": [
           {
            "marker": {
             "colorbar": {
              "outlinewidth": 0,
              "ticks": ""
             }
            },
            "type": "scattergl"
           }
          ],
          "scattermapbox": [
           {
            "marker": {
             "colorbar": {
              "outlinewidth": 0,
              "ticks": ""
             }
            },
            "type": "scattermapbox"
           }
          ],
          "scatterpolar": [
           {
            "marker": {
             "colorbar": {
              "outlinewidth": 0,
              "ticks": ""
             }
            },
            "type": "scatterpolar"
           }
          ],
          "scatterpolargl": [
           {
            "marker": {
             "colorbar": {
              "outlinewidth": 0,
              "ticks": ""
             }
            },
            "type": "scatterpolargl"
           }
          ],
          "scatterternary": [
           {
            "marker": {
             "colorbar": {
              "outlinewidth": 0,
              "ticks": ""
             }
            },
            "type": "scatterternary"
           }
          ],
          "surface": [
           {
            "colorbar": {
             "outlinewidth": 0,
             "ticks": ""
            },
            "colorscale": [
             [
              0,
              "#0d0887"
             ],
             [
              0.1111111111111111,
              "#46039f"
             ],
             [
              0.2222222222222222,
              "#7201a8"
             ],
             [
              0.3333333333333333,
              "#9c179e"
             ],
             [
              0.4444444444444444,
              "#bd3786"
             ],
             [
              0.5555555555555556,
              "#d8576b"
             ],
             [
              0.6666666666666666,
              "#ed7953"
             ],
             [
              0.7777777777777778,
              "#fb9f3a"
             ],
             [
              0.8888888888888888,
              "#fdca26"
             ],
             [
              1,
              "#f0f921"
             ]
            ],
            "type": "surface"
           }
          ],
          "table": [
           {
            "cells": {
             "fill": {
              "color": "#EBF0F8"
             },
             "line": {
              "color": "white"
             }
            },
            "header": {
             "fill": {
              "color": "#C8D4E3"
             },
             "line": {
              "color": "white"
             }
            },
            "type": "table"
           }
          ]
         },
         "layout": {
          "annotationdefaults": {
           "arrowcolor": "#2a3f5f",
           "arrowhead": 0,
           "arrowwidth": 1
          },
          "autotypenumbers": "strict",
          "coloraxis": {
           "colorbar": {
            "outlinewidth": 0,
            "ticks": ""
           }
          },
          "colorscale": {
           "diverging": [
            [
             0,
             "#8e0152"
            ],
            [
             0.1,
             "#c51b7d"
            ],
            [
             0.2,
             "#de77ae"
            ],
            [
             0.3,
             "#f1b6da"
            ],
            [
             0.4,
             "#fde0ef"
            ],
            [
             0.5,
             "#f7f7f7"
            ],
            [
             0.6,
             "#e6f5d0"
            ],
            [
             0.7,
             "#b8e186"
            ],
            [
             0.8,
             "#7fbc41"
            ],
            [
             0.9,
             "#4d9221"
            ],
            [
             1,
             "#276419"
            ]
           ],
           "sequential": [
            [
             0,
             "#0d0887"
            ],
            [
             0.1111111111111111,
             "#46039f"
            ],
            [
             0.2222222222222222,
             "#7201a8"
            ],
            [
             0.3333333333333333,
             "#9c179e"
            ],
            [
             0.4444444444444444,
             "#bd3786"
            ],
            [
             0.5555555555555556,
             "#d8576b"
            ],
            [
             0.6666666666666666,
             "#ed7953"
            ],
            [
             0.7777777777777778,
             "#fb9f3a"
            ],
            [
             0.8888888888888888,
             "#fdca26"
            ],
            [
             1,
             "#f0f921"
            ]
           ],
           "sequentialminus": [
            [
             0,
             "#0d0887"
            ],
            [
             0.1111111111111111,
             "#46039f"
            ],
            [
             0.2222222222222222,
             "#7201a8"
            ],
            [
             0.3333333333333333,
             "#9c179e"
            ],
            [
             0.4444444444444444,
             "#bd3786"
            ],
            [
             0.5555555555555556,
             "#d8576b"
            ],
            [
             0.6666666666666666,
             "#ed7953"
            ],
            [
             0.7777777777777778,
             "#fb9f3a"
            ],
            [
             0.8888888888888888,
             "#fdca26"
            ],
            [
             1,
             "#f0f921"
            ]
           ]
          },
          "colorway": [
           "#636efa",
           "#EF553B",
           "#00cc96",
           "#ab63fa",
           "#FFA15A",
           "#19d3f3",
           "#FF6692",
           "#B6E880",
           "#FF97FF",
           "#FECB52"
          ],
          "font": {
           "color": "#2a3f5f"
          },
          "geo": {
           "bgcolor": "white",
           "lakecolor": "white",
           "landcolor": "#E5ECF6",
           "showlakes": true,
           "showland": true,
           "subunitcolor": "white"
          },
          "hoverlabel": {
           "align": "left"
          },
          "hovermode": "closest",
          "mapbox": {
           "style": "light"
          },
          "paper_bgcolor": "white",
          "plot_bgcolor": "#E5ECF6",
          "polar": {
           "angularaxis": {
            "gridcolor": "white",
            "linecolor": "white",
            "ticks": ""
           },
           "bgcolor": "#E5ECF6",
           "radialaxis": {
            "gridcolor": "white",
            "linecolor": "white",
            "ticks": ""
           }
          },
          "scene": {
           "xaxis": {
            "backgroundcolor": "#E5ECF6",
            "gridcolor": "white",
            "gridwidth": 2,
            "linecolor": "white",
            "showbackground": true,
            "ticks": "",
            "zerolinecolor": "white"
           },
           "yaxis": {
            "backgroundcolor": "#E5ECF6",
            "gridcolor": "white",
            "gridwidth": 2,
            "linecolor": "white",
            "showbackground": true,
            "ticks": "",
            "zerolinecolor": "white"
           },
           "zaxis": {
            "backgroundcolor": "#E5ECF6",
            "gridcolor": "white",
            "gridwidth": 2,
            "linecolor": "white",
            "showbackground": true,
            "ticks": "",
            "zerolinecolor": "white"
           }
          },
          "shapedefaults": {
           "line": {
            "color": "#2a3f5f"
           }
          },
          "ternary": {
           "aaxis": {
            "gridcolor": "white",
            "linecolor": "white",
            "ticks": ""
           },
           "baxis": {
            "gridcolor": "white",
            "linecolor": "white",
            "ticks": ""
           },
           "bgcolor": "#E5ECF6",
           "caxis": {
            "gridcolor": "white",
            "linecolor": "white",
            "ticks": ""
           }
          },
          "title": {
           "x": 0.05
          },
          "xaxis": {
           "automargin": true,
           "gridcolor": "white",
           "linecolor": "white",
           "ticks": "",
           "title": {
            "standoff": 15
           },
           "zerolinecolor": "white",
           "zerolinewidth": 2
          },
          "yaxis": {
           "automargin": true,
           "gridcolor": "white",
           "linecolor": "white",
           "ticks": "",
           "title": {
            "standoff": 15
           },
           "zerolinecolor": "white",
           "zerolinewidth": 2
          }
         }
        },
        "title": {
         "text": "Scatterplot Matrix"
        },
        "width": 1000,
        "xaxis": {
         "anchor": "y",
         "domain": [
          0,
          0.16799999999999998
         ],
         "showticklabels": false
        },
        "xaxis10": {
         "anchor": "y10",
         "domain": [
          0.832,
          1
         ]
        },
        "xaxis11": {
         "anchor": "y11",
         "domain": [
          0,
          0.16799999999999998
         ]
        },
        "xaxis12": {
         "anchor": "y12",
         "domain": [
          0.208,
          0.376
         ]
        },
        "xaxis13": {
         "anchor": "y13",
         "domain": [
          0.416,
          0.584
         ],
         "showticklabels": false
        },
        "xaxis14": {
         "anchor": "y14",
         "domain": [
          0.624,
          0.792
         ]
        },
        "xaxis15": {
         "anchor": "y15",
         "domain": [
          0.832,
          1
         ]
        },
        "xaxis16": {
         "anchor": "y16",
         "domain": [
          0,
          0.16799999999999998
         ]
        },
        "xaxis17": {
         "anchor": "y17",
         "domain": [
          0.208,
          0.376
         ]
        },
        "xaxis18": {
         "anchor": "y18",
         "domain": [
          0.416,
          0.584
         ]
        },
        "xaxis19": {
         "anchor": "y19",
         "domain": [
          0.624,
          0.792
         ],
         "showticklabels": false
        },
        "xaxis2": {
         "anchor": "y2",
         "domain": [
          0.208,
          0.376
         ]
        },
        "xaxis20": {
         "anchor": "y20",
         "domain": [
          0.832,
          1
         ]
        },
        "xaxis21": {
         "anchor": "y21",
         "domain": [
          0,
          0.16799999999999998
         ],
         "title": {
          "text": "ESTUPRO"
         }
        },
        "xaxis22": {
         "anchor": "y22",
         "domain": [
          0.208,
          0.376
         ],
         "title": {
          "text": "ROUBO"
         }
        },
        "xaxis23": {
         "anchor": "y23",
         "domain": [
          0.416,
          0.584
         ],
         "title": {
          "text": "FURTO"
         }
        },
        "xaxis24": {
         "anchor": "y24",
         "domain": [
          0.624,
          0.792
         ],
         "title": {
          "text": "LESÃO"
         }
        },
        "xaxis25": {
         "anchor": "y25",
         "domain": [
          0.832,
          1
         ],
         "showticklabels": false,
         "title": {
          "text": "HOMICÍDIO"
         }
        },
        "xaxis3": {
         "anchor": "y3",
         "domain": [
          0.416,
          0.584
         ]
        },
        "xaxis4": {
         "anchor": "y4",
         "domain": [
          0.624,
          0.792
         ]
        },
        "xaxis5": {
         "anchor": "y5",
         "domain": [
          0.832,
          1
         ]
        },
        "xaxis6": {
         "anchor": "y6",
         "domain": [
          0,
          0.16799999999999998
         ]
        },
        "xaxis7": {
         "anchor": "y7",
         "domain": [
          0.208,
          0.376
         ],
         "showticklabels": false
        },
        "xaxis8": {
         "anchor": "y8",
         "domain": [
          0.416,
          0.584
         ]
        },
        "xaxis9": {
         "anchor": "y9",
         "domain": [
          0.624,
          0.792
         ]
        },
        "yaxis": {
         "anchor": "x",
         "domain": [
          0.848,
          1
         ],
         "title": {
          "text": "ESTUPRO"
         }
        },
        "yaxis10": {
         "anchor": "x10",
         "domain": [
          0.6359999999999999,
          0.7879999999999999
         ]
        },
        "yaxis11": {
         "anchor": "x11",
         "domain": [
          0.424,
          0.576
         ],
         "title": {
          "text": "FURTO"
         }
        },
        "yaxis12": {
         "anchor": "x12",
         "domain": [
          0.424,
          0.576
         ]
        },
        "yaxis13": {
         "anchor": "x13",
         "domain": [
          0.424,
          0.576
         ]
        },
        "yaxis14": {
         "anchor": "x14",
         "domain": [
          0.424,
          0.576
         ]
        },
        "yaxis15": {
         "anchor": "x15",
         "domain": [
          0.424,
          0.576
         ]
        },
        "yaxis16": {
         "anchor": "x16",
         "domain": [
          0.212,
          0.364
         ],
         "title": {
          "text": "LESÃO"
         }
        },
        "yaxis17": {
         "anchor": "x17",
         "domain": [
          0.212,
          0.364
         ]
        },
        "yaxis18": {
         "anchor": "x18",
         "domain": [
          0.212,
          0.364
         ]
        },
        "yaxis19": {
         "anchor": "x19",
         "domain": [
          0.212,
          0.364
         ]
        },
        "yaxis2": {
         "anchor": "x2",
         "domain": [
          0.848,
          1
         ]
        },
        "yaxis20": {
         "anchor": "x20",
         "domain": [
          0.212,
          0.364
         ]
        },
        "yaxis21": {
         "anchor": "x21",
         "domain": [
          0,
          0.152
         ],
         "title": {
          "text": "HOMICÍDIO"
         }
        },
        "yaxis22": {
         "anchor": "x22",
         "domain": [
          0,
          0.152
         ]
        },
        "yaxis23": {
         "anchor": "x23",
         "domain": [
          0,
          0.152
         ]
        },
        "yaxis24": {
         "anchor": "x24",
         "domain": [
          0,
          0.152
         ]
        },
        "yaxis25": {
         "anchor": "x25",
         "domain": [
          0,
          0.152
         ]
        },
        "yaxis3": {
         "anchor": "x3",
         "domain": [
          0.848,
          1
         ]
        },
        "yaxis4": {
         "anchor": "x4",
         "domain": [
          0.848,
          1
         ]
        },
        "yaxis5": {
         "anchor": "x5",
         "domain": [
          0.848,
          1
         ]
        },
        "yaxis6": {
         "anchor": "x6",
         "domain": [
          0.6359999999999999,
          0.7879999999999999
         ],
         "title": {
          "text": "ROUBO"
         }
        },
        "yaxis7": {
         "anchor": "x7",
         "domain": [
          0.6359999999999999,
          0.7879999999999999
         ]
        },
        "yaxis8": {
         "anchor": "x8",
         "domain": [
          0.6359999999999999,
          0.7879999999999999
         ]
        },
        "yaxis9": {
         "anchor": "x9",
         "domain": [
          0.6359999999999999,
          0.7879999999999999
         ]
        }
       }
      },
      "text/html": [
       "<div>                            <div id=\"38503f4c-a241-4e3a-b154-095df1cba861\" class=\"plotly-graph-div\" style=\"height:1000px; width:1000px;\"></div>            <script type=\"text/javascript\">                require([\"plotly\"], function(Plotly) {                    window.PLOTLYENV=window.PLOTLYENV || {};                                    if (document.getElementById(\"38503f4c-a241-4e3a-b154-095df1cba861\")) {                    Plotly.newPlot(                        \"38503f4c-a241-4e3a-b154-095df1cba861\",                        [{\"marker\":{\"color\":\"rgb(31, 119, 180)\"},\"showlegend\":false,\"type\":\"box\",\"xaxis\":\"x\",\"y\":[181.0,163.0,197.0,167.0,164.0,162.0,189.0,176.0,170.0,184.0,174.0,160.0],\"yaxis\":\"y\"},{\"marker\":{\"color\":\"rgb(255, 127, 14)\"},\"showlegend\":false,\"type\":\"box\",\"xaxis\":\"x\",\"y\":[168.0,155.0,191.0,173.0,184.0,184.0,159.0,233.0,380.0,398.0,335.0,308.0],\"yaxis\":\"y\"},{\"marker\":{\"color\":\"rgb(44, 160, 44)\"},\"showlegend\":false,\"type\":\"box\",\"xaxis\":\"x\",\"y\":[410.0,374.0,442.0,318.0,450.0,380.0,394.0,380.0,444.0,558.0,524.0,418.0],\"yaxis\":\"y\"},{\"marker\":{\"color\":\"rgb(214, 39, 40)\"},\"showlegend\":false,\"type\":\"box\",\"xaxis\":\"x\",\"y\":[464.0,448.0,484.0,436.0,468.0,362.0,366.0,442.0,438.0,460.0,408.0,404.0],\"yaxis\":\"y\"},{\"marker\":{\"color\":\"rgb(148, 103, 189)\"},\"showlegend\":false,\"type\":\"box\",\"xaxis\":\"x\",\"y\":[428.0,372.0,476.0,458.0,398.0,354.0,396.0,418.0,506.0,604.0,496.0,420.0],\"yaxis\":\"y\"},{\"marker\":{\"color\":\"rgb(140, 86, 75)\"},\"showlegend\":false,\"type\":\"box\",\"xaxis\":\"x\",\"y\":[476.0,410.0,438.0,256.0,240.0,372.0,410.0,382.0,426.0,396.0,420.0,410.0],\"yaxis\":\"y\"},{\"marker\":{\"color\":\"rgb(227, 119, 194)\"},\"showlegend\":false,\"type\":\"box\",\"xaxis\":\"x\",\"y\":[434.0,434.0,426.0,368.0,362.0,366.0,362.0],\"yaxis\":\"y\"},{\"marker\":{\"color\":\"rgb(31, 119, 180)\",\"size\":6},\"mode\":\"markers\",\"name\":\"2015\",\"showlegend\":true,\"type\":\"scatter\",\"x\":[17400.0,16095.0,18133.0,16636.0,15438.0,14765.0,15821.0,15574.0,15822.0,17545.0,17753.0,17127.0],\"xaxis\":\"x2\",\"y\":[181.0,163.0,197.0,167.0,164.0,162.0,189.0,176.0,170.0,184.0,174.0,160.0],\"yaxis\":\"y2\"},{\"marker\":{\"color\":\"rgb(255, 127, 14)\",\"size\":6},\"mode\":\"markers\",\"name\":\"2016\",\"showlegend\":true,\"type\":\"scatter\",\"x\":[16317.0,15935.0,18002.0,16389.0,16298.0,16293.0,16561.0,17607.0,17676.0,18261.0,17311.0,16978.0],\"xaxis\":\"x2\",\"y\":[168.0,155.0,191.0,173.0,184.0,184.0,159.0,233.0,380.0,398.0,335.0,308.0],\"yaxis\":\"y2\"},{\"marker\":{\"color\":\"rgb(44, 160, 44)\",\"size\":6},\"mode\":\"markers\",\"name\":\"2017\",\"showlegend\":true,\"type\":\"scatter\",\"x\":[28905.0,28790.0,32877.0,27665.0,30491.0,28411.0,26955.0,28281.0,26284.0,27544.0,26113.0,25330.0],\"xaxis\":\"x2\",\"y\":[410.0,374.0,442.0,318.0,450.0,380.0,394.0,380.0,444.0,558.0,524.0,418.0],\"yaxis\":\"y2\"},{\"marker\":{\"color\":\"rgb(214, 39, 40)\",\"size\":6},\"mode\":\"markers\",\"name\":\"2018\",\"showlegend\":true,\"type\":\"scatter\",\"x\":[25196.0,26176.0,24975.0,25797.0,27459.0,25272.0,22778.0,24140.0,22688.0,26285.0,25746.0,23526.0],\"xaxis\":\"x2\",\"y\":[464.0,448.0,484.0,436.0,468.0,362.0,366.0,442.0,438.0,460.0,408.0,404.0],\"yaxis\":\"y2\"},{\"marker\":{\"color\":\"rgb(148, 103, 189)\",\"size\":6},\"mode\":\"markers\",\"name\":\"2019\",\"showlegend\":true,\"type\":\"scatter\",\"x\":[23707.0,21997.0,25416.0,24147.0,25008.0,26774.0,25726.0,26132.0,24605.0,26742.0,26406.0,26837.0],\"xaxis\":\"x2\",\"y\":[428.0,372.0,476.0,458.0,398.0,354.0,396.0,418.0,506.0,604.0,496.0,420.0],\"yaxis\":\"y2\"},{\"marker\":{\"color\":\"rgb(140, 86, 75)\",\"size\":6},\"mode\":\"markers\",\"name\":\"2020\",\"showlegend\":true,\"type\":\"scatter\",\"x\":[28713.0,30528.0,25596.0,17555.0,18783.0,22292.0,21342.0,18773.0,18092.0,19389.0,23350.0,24578.0],\"xaxis\":\"x2\",\"y\":[476.0,410.0,438.0,256.0,240.0,372.0,410.0,382.0,426.0,396.0,420.0,410.0],\"yaxis\":\"y2\"},{\"marker\":{\"color\":\"rgb(227, 119, 194)\",\"size\":6},\"mode\":\"markers\",\"name\":\"2021\",\"showlegend\":true,\"type\":\"scatter\",\"x\":[22694.0,22915.0,20660.0,19723.0,21934.0,21173.0,22868.0],\"xaxis\":\"x2\",\"y\":[434.0,434.0,426.0,368.0,362.0,366.0,362.0],\"yaxis\":\"y2\"},{\"marker\":{\"color\":\"rgb(31, 119, 180)\",\"size\":6},\"mode\":\"markers\",\"name\":\"2015\",\"showlegend\":false,\"type\":\"scatter\",\"x\":[17205.0,16542.0,20479.0,19038.0,18445.0,18310.0,19014.0,18213.0,17983.0,19384.0,18882.0,17500.0],\"xaxis\":\"x3\",\"y\":[181.0,163.0,197.0,167.0,164.0,162.0,189.0,176.0,170.0,184.0,174.0,160.0],\"yaxis\":\"y3\"},{\"marker\":{\"color\":\"rgb(255, 127, 14)\",\"size\":6},\"mode\":\"markers\",\"name\":\"2016\",\"showlegend\":false,\"type\":\"scatter\",\"x\":[17010.0,19147.0,19488.0,18514.0,19830.0,18759.0,19172.0,19240.0,19501.0,19535.0,19121.0,18701.0],\"xaxis\":\"x3\",\"y\":[168.0,155.0,191.0,173.0,184.0,184.0,159.0,233.0,380.0,398.0,335.0,308.0],\"yaxis\":\"y3\"},{\"marker\":{\"color\":\"rgb(44, 160, 44)\",\"size\":6},\"mode\":\"markers\",\"name\":\"2017\",\"showlegend\":false,\"type\":\"scatter\",\"x\":[17479.0,21652.0,21986.0,17938.0,20372.0,19867.0,19079.0,20479.0,18895.0,20450.0,19491.0,18545.0],\"xaxis\":\"x3\",\"y\":[410.0,374.0,442.0,318.0,450.0,380.0,394.0,380.0,444.0,558.0,524.0,418.0],\"yaxis\":\"y3\"},{\"marker\":{\"color\":\"rgb(214, 39, 40)\",\"size\":6},\"mode\":\"markers\",\"name\":\"2018\",\"showlegend\":false,\"type\":\"scatter\",\"x\":[18792.0,26167.0,19463.0,18690.0,19842.0,19464.0,19407.0,20758.0,18898.0,22055.0,20278.0,18379.0],\"xaxis\":\"x3\",\"y\":[464.0,448.0,484.0,436.0,468.0,362.0,366.0,442.0,438.0,460.0,408.0,404.0],\"yaxis\":\"y3\"},{\"marker\":{\"color\":\"rgb(148, 103, 189)\",\"size\":6},\"mode\":\"markers\",\"name\":\"2019\",\"showlegend\":false,\"type\":\"scatter\",\"x\":[20117.0,22334.0,26724.0,22004.0,23930.0,22429.0,21313.0,22036.0,20224.0,22332.0,21148.0,19306.0],\"xaxis\":\"x3\",\"y\":[428.0,372.0,476.0,458.0,398.0,354.0,396.0,418.0,506.0,604.0,496.0,420.0],\"yaxis\":\"y3\"},{\"marker\":{\"color\":\"rgb(140, 86, 75)\",\"size\":6},\"mode\":\"markers\",\"name\":\"2020\",\"showlegend\":false,\"type\":\"scatter\",\"x\":[21558.0,27613.0,17072.0,9109.0,10846.0,14316.0,15805.0,14178.0,14015.0,14432.0,16411.0,16124.0],\"xaxis\":\"x3\",\"y\":[476.0,410.0,438.0,256.0,240.0,372.0,410.0,382.0,426.0,396.0,420.0,410.0],\"yaxis\":\"y3\"},{\"marker\":{\"color\":\"rgb(227, 119, 194)\",\"size\":6},\"mode\":\"markers\",\"name\":\"2021\",\"showlegend\":false,\"type\":\"scatter\",\"x\":[15471.0,16261.0,14985.0,14587.0,17677.0,17942.0,19057.0],\"xaxis\":\"x3\",\"y\":[434.0,434.0,426.0,368.0,362.0,366.0,362.0],\"yaxis\":\"y3\"},{\"marker\":{\"color\":\"rgb(31, 119, 180)\",\"size\":6},\"mode\":\"markers\",\"name\":\"2015\",\"showlegend\":false,\"type\":\"scatter\",\"x\":[4440.0,4038.0,4679.0,4195.0,4099.0,4170.0,4007.0,4378.0,4301.0,4260.0,4091.0,4165.0],\"xaxis\":\"x4\",\"y\":[181.0,163.0,197.0,167.0,164.0,162.0,189.0,176.0,170.0,184.0,174.0,160.0],\"yaxis\":\"y4\"},{\"marker\":{\"color\":\"rgb(255, 127, 14)\",\"size\":6},\"mode\":\"markers\",\"name\":\"2016\",\"showlegend\":false,\"type\":\"scatter\",\"x\":[3620.0,4054.0,4237.0,4211.0,3704.0,3784.0,3848.0,4116.0,3881.0,4104.0,3880.0,3983.0],\"xaxis\":\"x4\",\"y\":[168.0,155.0,191.0,173.0,184.0,184.0,159.0,233.0,380.0,398.0,335.0,308.0],\"yaxis\":\"y4\"},{\"marker\":{\"color\":\"rgb(44, 160, 44)\",\"size\":6},\"mode\":\"markers\",\"name\":\"2017\",\"showlegend\":false,\"type\":\"scatter\",\"x\":[3645.0,3688.0,4258.0,3786.0,3914.0,3694.0,3719.0,3960.0,3982.0,4043.0,3685.0,3920.0],\"xaxis\":\"x4\",\"y\":[410.0,374.0,442.0,318.0,450.0,380.0,394.0,380.0,444.0,558.0,524.0,418.0],\"yaxis\":\"y4\"},{\"marker\":{\"color\":\"rgb(214, 39, 40)\",\"size\":6},\"mode\":\"markers\",\"name\":\"2018\",\"showlegend\":false,\"type\":\"scatter\",\"x\":[3499.0,3469.0,4039.0,3708.0,3625.0,3582.0,3479.0,3415.0,3520.0,3683.0,3549.0,3605.0],\"xaxis\":\"x4\",\"y\":[464.0,448.0,484.0,436.0,468.0,362.0,366.0,442.0,438.0,460.0,408.0,404.0],\"yaxis\":\"y4\"},{\"marker\":{\"color\":\"rgb(148, 103, 189)\",\"size\":6},\"mode\":\"markers\",\"name\":\"2019\",\"showlegend\":false,\"type\":\"scatter\",\"x\":[3762.0,3583.0,3929.0,4221.0,3819.0,3528.0,3628.0,3610.0,3616.0,4108.0,3801.0,3746.0],\"xaxis\":\"x4\",\"y\":[428.0,372.0,476.0,458.0,398.0,354.0,396.0,418.0,506.0,604.0,496.0,420.0],\"yaxis\":\"y4\"},{\"marker\":{\"color\":\"rgb(140, 86, 75)\",\"size\":6},\"mode\":\"markers\",\"name\":\"2020\",\"showlegend\":false,\"type\":\"scatter\",\"x\":[3488.0,3417.0,3085.0,2193.0,2148.0,2579.0,3136.0,3241.0,3080.0,3300.0,3499.0,3603.0],\"xaxis\":\"x4\",\"y\":[476.0,410.0,438.0,256.0,240.0,372.0,410.0,382.0,426.0,396.0,420.0,410.0],\"yaxis\":\"y4\"},{\"marker\":{\"color\":\"rgb(227, 119, 194)\",\"size\":6},\"mode\":\"markers\",\"name\":\"2021\",\"showlegend\":false,\"type\":\"scatter\",\"x\":[3317.0,3334.0,3309.0,2819.0,3123.0,2995.0,3168.0],\"xaxis\":\"x4\",\"y\":[434.0,434.0,426.0,368.0,362.0,366.0,362.0],\"yaxis\":\"y4\"},{\"marker\":{\"color\":\"rgb(31, 119, 180)\",\"size\":6},\"mode\":\"markers\",\"name\":\"2015\",\"showlegend\":false,\"type\":\"scatter\",\"x\":[339.0,296.0,349.0,298.0,293.0,265.0,249.0,276.0,274.0,274.0,283.0,331.0],\"xaxis\":\"x5\",\"y\":[181.0,163.0,197.0,167.0,164.0,162.0,189.0,176.0,170.0,184.0,174.0,160.0],\"yaxis\":\"y5\"},{\"marker\":{\"color\":\"rgb(255, 127, 14)\",\"size\":6},\"mode\":\"markers\",\"name\":\"2016\",\"showlegend\":false,\"type\":\"scatter\",\"x\":[225.0,280.0,277.0,294.0,252.0,229.0,257.0,244.0,243.0,262.0,253.0,290.0],\"xaxis\":\"x5\",\"y\":[168.0,155.0,191.0,173.0,184.0,184.0,159.0,233.0,380.0,398.0,335.0,308.0],\"yaxis\":\"y5\"},{\"marker\":{\"color\":\"rgb(44, 160, 44)\",\"size\":6},\"mode\":\"markers\",\"name\":\"2017\",\"showlegend\":false,\"type\":\"scatter\",\"x\":[221.0,247.0,245.0,298.0,232.0,210.0,186.0,192.0,214.0,201.0,238.0,278.0],\"xaxis\":\"x5\",\"y\":[410.0,374.0,442.0,318.0,450.0,380.0,394.0,380.0,444.0,558.0,524.0,418.0],\"yaxis\":\"y5\"},{\"marker\":{\"color\":\"rgb(214, 39, 40)\",\"size\":6},\"mode\":\"markers\",\"name\":\"2018\",\"showlegend\":false,\"type\":\"scatter\",\"x\":[229.0,226.0,237.0,214.0,206.0,202.0,208.0,202.0,194.0,217.0,204.0,250.0],\"xaxis\":\"x5\",\"y\":[464.0,448.0,484.0,436.0,468.0,362.0,366.0,442.0,438.0,460.0,408.0,404.0],\"yaxis\":\"y5\"},{\"marker\":{\"color\":\"rgb(148, 103, 189)\",\"size\":6},\"mode\":\"markers\",\"name\":\"2019\",\"showlegend\":false,\"type\":\"scatter\",\"x\":[251.0,188.0,255.0,209.0,210.0,182.0,207.0,181.0,204.0,221.0,223.0,201.0],\"xaxis\":\"x5\",\"y\":[428.0,372.0,476.0,458.0,398.0,354.0,396.0,418.0,506.0,604.0,496.0,420.0],\"yaxis\":\"y5\"},{\"marker\":{\"color\":\"rgb(140, 86, 75)\",\"size\":6},\"mode\":\"markers\",\"name\":\"2020\",\"showlegend\":false,\"type\":\"scatter\",\"x\":[239.0,191.0,219.0,174.0,189.0,176.0,181.0,201.0,210.0,172.0,206.0,229.0],\"xaxis\":\"x5\",\"y\":[476.0,410.0,438.0,256.0,240.0,372.0,410.0,382.0,426.0,396.0,420.0,410.0],\"yaxis\":\"y5\"},{\"marker\":{\"color\":\"rgb(227, 119, 194)\",\"size\":6},\"mode\":\"markers\",\"name\":\"2021\",\"showlegend\":false,\"type\":\"scatter\",\"x\":[220.0,151.0,200.0,194.0,186.0,186.0,174.0],\"xaxis\":\"x5\",\"y\":[434.0,434.0,426.0,368.0,362.0,366.0,362.0],\"yaxis\":\"y5\"},{\"marker\":{\"color\":\"rgb(31, 119, 180)\",\"size\":6},\"mode\":\"markers\",\"name\":\"2015\",\"showlegend\":false,\"type\":\"scatter\",\"x\":[181.0,163.0,197.0,167.0,164.0,162.0,189.0,176.0,170.0,184.0,174.0,160.0],\"xaxis\":\"x6\",\"y\":[17400.0,16095.0,18133.0,16636.0,15438.0,14765.0,15821.0,15574.0,15822.0,17545.0,17753.0,17127.0],\"yaxis\":\"y6\"},{\"marker\":{\"color\":\"rgb(255, 127, 14)\",\"size\":6},\"mode\":\"markers\",\"name\":\"2016\",\"showlegend\":false,\"type\":\"scatter\",\"x\":[168.0,155.0,191.0,173.0,184.0,184.0,159.0,233.0,380.0,398.0,335.0,308.0],\"xaxis\":\"x6\",\"y\":[16317.0,15935.0,18002.0,16389.0,16298.0,16293.0,16561.0,17607.0,17676.0,18261.0,17311.0,16978.0],\"yaxis\":\"y6\"},{\"marker\":{\"color\":\"rgb(44, 160, 44)\",\"size\":6},\"mode\":\"markers\",\"name\":\"2017\",\"showlegend\":false,\"type\":\"scatter\",\"x\":[410.0,374.0,442.0,318.0,450.0,380.0,394.0,380.0,444.0,558.0,524.0,418.0],\"xaxis\":\"x6\",\"y\":[28905.0,28790.0,32877.0,27665.0,30491.0,28411.0,26955.0,28281.0,26284.0,27544.0,26113.0,25330.0],\"yaxis\":\"y6\"},{\"marker\":{\"color\":\"rgb(214, 39, 40)\",\"size\":6},\"mode\":\"markers\",\"name\":\"2018\",\"showlegend\":false,\"type\":\"scatter\",\"x\":[464.0,448.0,484.0,436.0,468.0,362.0,366.0,442.0,438.0,460.0,408.0,404.0],\"xaxis\":\"x6\",\"y\":[25196.0,26176.0,24975.0,25797.0,27459.0,25272.0,22778.0,24140.0,22688.0,26285.0,25746.0,23526.0],\"yaxis\":\"y6\"},{\"marker\":{\"color\":\"rgb(148, 103, 189)\",\"size\":6},\"mode\":\"markers\",\"name\":\"2019\",\"showlegend\":false,\"type\":\"scatter\",\"x\":[428.0,372.0,476.0,458.0,398.0,354.0,396.0,418.0,506.0,604.0,496.0,420.0],\"xaxis\":\"x6\",\"y\":[23707.0,21997.0,25416.0,24147.0,25008.0,26774.0,25726.0,26132.0,24605.0,26742.0,26406.0,26837.0],\"yaxis\":\"y6\"},{\"marker\":{\"color\":\"rgb(140, 86, 75)\",\"size\":6},\"mode\":\"markers\",\"name\":\"2020\",\"showlegend\":false,\"type\":\"scatter\",\"x\":[476.0,410.0,438.0,256.0,240.0,372.0,410.0,382.0,426.0,396.0,420.0,410.0],\"xaxis\":\"x6\",\"y\":[28713.0,30528.0,25596.0,17555.0,18783.0,22292.0,21342.0,18773.0,18092.0,19389.0,23350.0,24578.0],\"yaxis\":\"y6\"},{\"marker\":{\"color\":\"rgb(227, 119, 194)\",\"size\":6},\"mode\":\"markers\",\"name\":\"2021\",\"showlegend\":false,\"type\":\"scatter\",\"x\":[434.0,434.0,426.0,368.0,362.0,366.0,362.0],\"xaxis\":\"x6\",\"y\":[22694.0,22915.0,20660.0,19723.0,21934.0,21173.0,22868.0],\"yaxis\":\"y6\"},{\"marker\":{\"color\":\"rgb(31, 119, 180)\"},\"showlegend\":false,\"type\":\"box\",\"xaxis\":\"x7\",\"y\":[17400.0,16095.0,18133.0,16636.0,15438.0,14765.0,15821.0,15574.0,15822.0,17545.0,17753.0,17127.0],\"yaxis\":\"y7\"},{\"marker\":{\"color\":\"rgb(255, 127, 14)\"},\"showlegend\":false,\"type\":\"box\",\"xaxis\":\"x7\",\"y\":[16317.0,15935.0,18002.0,16389.0,16298.0,16293.0,16561.0,17607.0,17676.0,18261.0,17311.0,16978.0],\"yaxis\":\"y7\"},{\"marker\":{\"color\":\"rgb(44, 160, 44)\"},\"showlegend\":false,\"type\":\"box\",\"xaxis\":\"x7\",\"y\":[28905.0,28790.0,32877.0,27665.0,30491.0,28411.0,26955.0,28281.0,26284.0,27544.0,26113.0,25330.0],\"yaxis\":\"y7\"},{\"marker\":{\"color\":\"rgb(214, 39, 40)\"},\"showlegend\":false,\"type\":\"box\",\"xaxis\":\"x7\",\"y\":[25196.0,26176.0,24975.0,25797.0,27459.0,25272.0,22778.0,24140.0,22688.0,26285.0,25746.0,23526.0],\"yaxis\":\"y7\"},{\"marker\":{\"color\":\"rgb(148, 103, 189)\"},\"showlegend\":false,\"type\":\"box\",\"xaxis\":\"x7\",\"y\":[23707.0,21997.0,25416.0,24147.0,25008.0,26774.0,25726.0,26132.0,24605.0,26742.0,26406.0,26837.0],\"yaxis\":\"y7\"},{\"marker\":{\"color\":\"rgb(140, 86, 75)\"},\"showlegend\":false,\"type\":\"box\",\"xaxis\":\"x7\",\"y\":[28713.0,30528.0,25596.0,17555.0,18783.0,22292.0,21342.0,18773.0,18092.0,19389.0,23350.0,24578.0],\"yaxis\":\"y7\"},{\"marker\":{\"color\":\"rgb(227, 119, 194)\"},\"showlegend\":false,\"type\":\"box\",\"xaxis\":\"x7\",\"y\":[22694.0,22915.0,20660.0,19723.0,21934.0,21173.0,22868.0],\"yaxis\":\"y7\"},{\"marker\":{\"color\":\"rgb(31, 119, 180)\",\"size\":6},\"mode\":\"markers\",\"name\":\"2015\",\"showlegend\":false,\"type\":\"scatter\",\"x\":[17205.0,16542.0,20479.0,19038.0,18445.0,18310.0,19014.0,18213.0,17983.0,19384.0,18882.0,17500.0],\"xaxis\":\"x8\",\"y\":[17400.0,16095.0,18133.0,16636.0,15438.0,14765.0,15821.0,15574.0,15822.0,17545.0,17753.0,17127.0],\"yaxis\":\"y8\"},{\"marker\":{\"color\":\"rgb(255, 127, 14)\",\"size\":6},\"mode\":\"markers\",\"name\":\"2016\",\"showlegend\":false,\"type\":\"scatter\",\"x\":[17010.0,19147.0,19488.0,18514.0,19830.0,18759.0,19172.0,19240.0,19501.0,19535.0,19121.0,18701.0],\"xaxis\":\"x8\",\"y\":[16317.0,15935.0,18002.0,16389.0,16298.0,16293.0,16561.0,17607.0,17676.0,18261.0,17311.0,16978.0],\"yaxis\":\"y8\"},{\"marker\":{\"color\":\"rgb(44, 160, 44)\",\"size\":6},\"mode\":\"markers\",\"name\":\"2017\",\"showlegend\":false,\"type\":\"scatter\",\"x\":[17479.0,21652.0,21986.0,17938.0,20372.0,19867.0,19079.0,20479.0,18895.0,20450.0,19491.0,18545.0],\"xaxis\":\"x8\",\"y\":[28905.0,28790.0,32877.0,27665.0,30491.0,28411.0,26955.0,28281.0,26284.0,27544.0,26113.0,25330.0],\"yaxis\":\"y8\"},{\"marker\":{\"color\":\"rgb(214, 39, 40)\",\"size\":6},\"mode\":\"markers\",\"name\":\"2018\",\"showlegend\":false,\"type\":\"scatter\",\"x\":[18792.0,26167.0,19463.0,18690.0,19842.0,19464.0,19407.0,20758.0,18898.0,22055.0,20278.0,18379.0],\"xaxis\":\"x8\",\"y\":[25196.0,26176.0,24975.0,25797.0,27459.0,25272.0,22778.0,24140.0,22688.0,26285.0,25746.0,23526.0],\"yaxis\":\"y8\"},{\"marker\":{\"color\":\"rgb(148, 103, 189)\",\"size\":6},\"mode\":\"markers\",\"name\":\"2019\",\"showlegend\":false,\"type\":\"scatter\",\"x\":[20117.0,22334.0,26724.0,22004.0,23930.0,22429.0,21313.0,22036.0,20224.0,22332.0,21148.0,19306.0],\"xaxis\":\"x8\",\"y\":[23707.0,21997.0,25416.0,24147.0,25008.0,26774.0,25726.0,26132.0,24605.0,26742.0,26406.0,26837.0],\"yaxis\":\"y8\"},{\"marker\":{\"color\":\"rgb(140, 86, 75)\",\"size\":6},\"mode\":\"markers\",\"name\":\"2020\",\"showlegend\":false,\"type\":\"scatter\",\"x\":[21558.0,27613.0,17072.0,9109.0,10846.0,14316.0,15805.0,14178.0,14015.0,14432.0,16411.0,16124.0],\"xaxis\":\"x8\",\"y\":[28713.0,30528.0,25596.0,17555.0,18783.0,22292.0,21342.0,18773.0,18092.0,19389.0,23350.0,24578.0],\"yaxis\":\"y8\"},{\"marker\":{\"color\":\"rgb(227, 119, 194)\",\"size\":6},\"mode\":\"markers\",\"name\":\"2021\",\"showlegend\":false,\"type\":\"scatter\",\"x\":[15471.0,16261.0,14985.0,14587.0,17677.0,17942.0,19057.0],\"xaxis\":\"x8\",\"y\":[22694.0,22915.0,20660.0,19723.0,21934.0,21173.0,22868.0],\"yaxis\":\"y8\"},{\"marker\":{\"color\":\"rgb(31, 119, 180)\",\"size\":6},\"mode\":\"markers\",\"name\":\"2015\",\"showlegend\":false,\"type\":\"scatter\",\"x\":[4440.0,4038.0,4679.0,4195.0,4099.0,4170.0,4007.0,4378.0,4301.0,4260.0,4091.0,4165.0],\"xaxis\":\"x9\",\"y\":[17400.0,16095.0,18133.0,16636.0,15438.0,14765.0,15821.0,15574.0,15822.0,17545.0,17753.0,17127.0],\"yaxis\":\"y9\"},{\"marker\":{\"color\":\"rgb(255, 127, 14)\",\"size\":6},\"mode\":\"markers\",\"name\":\"2016\",\"showlegend\":false,\"type\":\"scatter\",\"x\":[3620.0,4054.0,4237.0,4211.0,3704.0,3784.0,3848.0,4116.0,3881.0,4104.0,3880.0,3983.0],\"xaxis\":\"x9\",\"y\":[16317.0,15935.0,18002.0,16389.0,16298.0,16293.0,16561.0,17607.0,17676.0,18261.0,17311.0,16978.0],\"yaxis\":\"y9\"},{\"marker\":{\"color\":\"rgb(44, 160, 44)\",\"size\":6},\"mode\":\"markers\",\"name\":\"2017\",\"showlegend\":false,\"type\":\"scatter\",\"x\":[3645.0,3688.0,4258.0,3786.0,3914.0,3694.0,3719.0,3960.0,3982.0,4043.0,3685.0,3920.0],\"xaxis\":\"x9\",\"y\":[28905.0,28790.0,32877.0,27665.0,30491.0,28411.0,26955.0,28281.0,26284.0,27544.0,26113.0,25330.0],\"yaxis\":\"y9\"},{\"marker\":{\"color\":\"rgb(214, 39, 40)\",\"size\":6},\"mode\":\"markers\",\"name\":\"2018\",\"showlegend\":false,\"type\":\"scatter\",\"x\":[3499.0,3469.0,4039.0,3708.0,3625.0,3582.0,3479.0,3415.0,3520.0,3683.0,3549.0,3605.0],\"xaxis\":\"x9\",\"y\":[25196.0,26176.0,24975.0,25797.0,27459.0,25272.0,22778.0,24140.0,22688.0,26285.0,25746.0,23526.0],\"yaxis\":\"y9\"},{\"marker\":{\"color\":\"rgb(148, 103, 189)\",\"size\":6},\"mode\":\"markers\",\"name\":\"2019\",\"showlegend\":false,\"type\":\"scatter\",\"x\":[3762.0,3583.0,3929.0,4221.0,3819.0,3528.0,3628.0,3610.0,3616.0,4108.0,3801.0,3746.0],\"xaxis\":\"x9\",\"y\":[23707.0,21997.0,25416.0,24147.0,25008.0,26774.0,25726.0,26132.0,24605.0,26742.0,26406.0,26837.0],\"yaxis\":\"y9\"},{\"marker\":{\"color\":\"rgb(140, 86, 75)\",\"size\":6},\"mode\":\"markers\",\"name\":\"2020\",\"showlegend\":false,\"type\":\"scatter\",\"x\":[3488.0,3417.0,3085.0,2193.0,2148.0,2579.0,3136.0,3241.0,3080.0,3300.0,3499.0,3603.0],\"xaxis\":\"x9\",\"y\":[28713.0,30528.0,25596.0,17555.0,18783.0,22292.0,21342.0,18773.0,18092.0,19389.0,23350.0,24578.0],\"yaxis\":\"y9\"},{\"marker\":{\"color\":\"rgb(227, 119, 194)\",\"size\":6},\"mode\":\"markers\",\"name\":\"2021\",\"showlegend\":false,\"type\":\"scatter\",\"x\":[3317.0,3334.0,3309.0,2819.0,3123.0,2995.0,3168.0],\"xaxis\":\"x9\",\"y\":[22694.0,22915.0,20660.0,19723.0,21934.0,21173.0,22868.0],\"yaxis\":\"y9\"},{\"marker\":{\"color\":\"rgb(31, 119, 180)\",\"size\":6},\"mode\":\"markers\",\"name\":\"2015\",\"showlegend\":false,\"type\":\"scatter\",\"x\":[339.0,296.0,349.0,298.0,293.0,265.0,249.0,276.0,274.0,274.0,283.0,331.0],\"xaxis\":\"x10\",\"y\":[17400.0,16095.0,18133.0,16636.0,15438.0,14765.0,15821.0,15574.0,15822.0,17545.0,17753.0,17127.0],\"yaxis\":\"y10\"},{\"marker\":{\"color\":\"rgb(255, 127, 14)\",\"size\":6},\"mode\":\"markers\",\"name\":\"2016\",\"showlegend\":false,\"type\":\"scatter\",\"x\":[225.0,280.0,277.0,294.0,252.0,229.0,257.0,244.0,243.0,262.0,253.0,290.0],\"xaxis\":\"x10\",\"y\":[16317.0,15935.0,18002.0,16389.0,16298.0,16293.0,16561.0,17607.0,17676.0,18261.0,17311.0,16978.0],\"yaxis\":\"y10\"},{\"marker\":{\"color\":\"rgb(44, 160, 44)\",\"size\":6},\"mode\":\"markers\",\"name\":\"2017\",\"showlegend\":false,\"type\":\"scatter\",\"x\":[221.0,247.0,245.0,298.0,232.0,210.0,186.0,192.0,214.0,201.0,238.0,278.0],\"xaxis\":\"x10\",\"y\":[28905.0,28790.0,32877.0,27665.0,30491.0,28411.0,26955.0,28281.0,26284.0,27544.0,26113.0,25330.0],\"yaxis\":\"y10\"},{\"marker\":{\"color\":\"rgb(214, 39, 40)\",\"size\":6},\"mode\":\"markers\",\"name\":\"2018\",\"showlegend\":false,\"type\":\"scatter\",\"x\":[229.0,226.0,237.0,214.0,206.0,202.0,208.0,202.0,194.0,217.0,204.0,250.0],\"xaxis\":\"x10\",\"y\":[25196.0,26176.0,24975.0,25797.0,27459.0,25272.0,22778.0,24140.0,22688.0,26285.0,25746.0,23526.0],\"yaxis\":\"y10\"},{\"marker\":{\"color\":\"rgb(148, 103, 189)\",\"size\":6},\"mode\":\"markers\",\"name\":\"2019\",\"showlegend\":false,\"type\":\"scatter\",\"x\":[251.0,188.0,255.0,209.0,210.0,182.0,207.0,181.0,204.0,221.0,223.0,201.0],\"xaxis\":\"x10\",\"y\":[23707.0,21997.0,25416.0,24147.0,25008.0,26774.0,25726.0,26132.0,24605.0,26742.0,26406.0,26837.0],\"yaxis\":\"y10\"},{\"marker\":{\"color\":\"rgb(140, 86, 75)\",\"size\":6},\"mode\":\"markers\",\"name\":\"2020\",\"showlegend\":false,\"type\":\"scatter\",\"x\":[239.0,191.0,219.0,174.0,189.0,176.0,181.0,201.0,210.0,172.0,206.0,229.0],\"xaxis\":\"x10\",\"y\":[28713.0,30528.0,25596.0,17555.0,18783.0,22292.0,21342.0,18773.0,18092.0,19389.0,23350.0,24578.0],\"yaxis\":\"y10\"},{\"marker\":{\"color\":\"rgb(227, 119, 194)\",\"size\":6},\"mode\":\"markers\",\"name\":\"2021\",\"showlegend\":false,\"type\":\"scatter\",\"x\":[220.0,151.0,200.0,194.0,186.0,186.0,174.0],\"xaxis\":\"x10\",\"y\":[22694.0,22915.0,20660.0,19723.0,21934.0,21173.0,22868.0],\"yaxis\":\"y10\"},{\"marker\":{\"color\":\"rgb(31, 119, 180)\",\"size\":6},\"mode\":\"markers\",\"name\":\"2015\",\"showlegend\":false,\"type\":\"scatter\",\"x\":[181.0,163.0,197.0,167.0,164.0,162.0,189.0,176.0,170.0,184.0,174.0,160.0],\"xaxis\":\"x11\",\"y\":[17205.0,16542.0,20479.0,19038.0,18445.0,18310.0,19014.0,18213.0,17983.0,19384.0,18882.0,17500.0],\"yaxis\":\"y11\"},{\"marker\":{\"color\":\"rgb(255, 127, 14)\",\"size\":6},\"mode\":\"markers\",\"name\":\"2016\",\"showlegend\":false,\"type\":\"scatter\",\"x\":[168.0,155.0,191.0,173.0,184.0,184.0,159.0,233.0,380.0,398.0,335.0,308.0],\"xaxis\":\"x11\",\"y\":[17010.0,19147.0,19488.0,18514.0,19830.0,18759.0,19172.0,19240.0,19501.0,19535.0,19121.0,18701.0],\"yaxis\":\"y11\"},{\"marker\":{\"color\":\"rgb(44, 160, 44)\",\"size\":6},\"mode\":\"markers\",\"name\":\"2017\",\"showlegend\":false,\"type\":\"scatter\",\"x\":[410.0,374.0,442.0,318.0,450.0,380.0,394.0,380.0,444.0,558.0,524.0,418.0],\"xaxis\":\"x11\",\"y\":[17479.0,21652.0,21986.0,17938.0,20372.0,19867.0,19079.0,20479.0,18895.0,20450.0,19491.0,18545.0],\"yaxis\":\"y11\"},{\"marker\":{\"color\":\"rgb(214, 39, 40)\",\"size\":6},\"mode\":\"markers\",\"name\":\"2018\",\"showlegend\":false,\"type\":\"scatter\",\"x\":[464.0,448.0,484.0,436.0,468.0,362.0,366.0,442.0,438.0,460.0,408.0,404.0],\"xaxis\":\"x11\",\"y\":[18792.0,26167.0,19463.0,18690.0,19842.0,19464.0,19407.0,20758.0,18898.0,22055.0,20278.0,18379.0],\"yaxis\":\"y11\"},{\"marker\":{\"color\":\"rgb(148, 103, 189)\",\"size\":6},\"mode\":\"markers\",\"name\":\"2019\",\"showlegend\":false,\"type\":\"scatter\",\"x\":[428.0,372.0,476.0,458.0,398.0,354.0,396.0,418.0,506.0,604.0,496.0,420.0],\"xaxis\":\"x11\",\"y\":[20117.0,22334.0,26724.0,22004.0,23930.0,22429.0,21313.0,22036.0,20224.0,22332.0,21148.0,19306.0],\"yaxis\":\"y11\"},{\"marker\":{\"color\":\"rgb(140, 86, 75)\",\"size\":6},\"mode\":\"markers\",\"name\":\"2020\",\"showlegend\":false,\"type\":\"scatter\",\"x\":[476.0,410.0,438.0,256.0,240.0,372.0,410.0,382.0,426.0,396.0,420.0,410.0],\"xaxis\":\"x11\",\"y\":[21558.0,27613.0,17072.0,9109.0,10846.0,14316.0,15805.0,14178.0,14015.0,14432.0,16411.0,16124.0],\"yaxis\":\"y11\"},{\"marker\":{\"color\":\"rgb(227, 119, 194)\",\"size\":6},\"mode\":\"markers\",\"name\":\"2021\",\"showlegend\":false,\"type\":\"scatter\",\"x\":[434.0,434.0,426.0,368.0,362.0,366.0,362.0],\"xaxis\":\"x11\",\"y\":[15471.0,16261.0,14985.0,14587.0,17677.0,17942.0,19057.0],\"yaxis\":\"y11\"},{\"marker\":{\"color\":\"rgb(31, 119, 180)\",\"size\":6},\"mode\":\"markers\",\"name\":\"2015\",\"showlegend\":false,\"type\":\"scatter\",\"x\":[17400.0,16095.0,18133.0,16636.0,15438.0,14765.0,15821.0,15574.0,15822.0,17545.0,17753.0,17127.0],\"xaxis\":\"x12\",\"y\":[17205.0,16542.0,20479.0,19038.0,18445.0,18310.0,19014.0,18213.0,17983.0,19384.0,18882.0,17500.0],\"yaxis\":\"y12\"},{\"marker\":{\"color\":\"rgb(255, 127, 14)\",\"size\":6},\"mode\":\"markers\",\"name\":\"2016\",\"showlegend\":false,\"type\":\"scatter\",\"x\":[16317.0,15935.0,18002.0,16389.0,16298.0,16293.0,16561.0,17607.0,17676.0,18261.0,17311.0,16978.0],\"xaxis\":\"x12\",\"y\":[17010.0,19147.0,19488.0,18514.0,19830.0,18759.0,19172.0,19240.0,19501.0,19535.0,19121.0,18701.0],\"yaxis\":\"y12\"},{\"marker\":{\"color\":\"rgb(44, 160, 44)\",\"size\":6},\"mode\":\"markers\",\"name\":\"2017\",\"showlegend\":false,\"type\":\"scatter\",\"x\":[28905.0,28790.0,32877.0,27665.0,30491.0,28411.0,26955.0,28281.0,26284.0,27544.0,26113.0,25330.0],\"xaxis\":\"x12\",\"y\":[17479.0,21652.0,21986.0,17938.0,20372.0,19867.0,19079.0,20479.0,18895.0,20450.0,19491.0,18545.0],\"yaxis\":\"y12\"},{\"marker\":{\"color\":\"rgb(214, 39, 40)\",\"size\":6},\"mode\":\"markers\",\"name\":\"2018\",\"showlegend\":false,\"type\":\"scatter\",\"x\":[25196.0,26176.0,24975.0,25797.0,27459.0,25272.0,22778.0,24140.0,22688.0,26285.0,25746.0,23526.0],\"xaxis\":\"x12\",\"y\":[18792.0,26167.0,19463.0,18690.0,19842.0,19464.0,19407.0,20758.0,18898.0,22055.0,20278.0,18379.0],\"yaxis\":\"y12\"},{\"marker\":{\"color\":\"rgb(148, 103, 189)\",\"size\":6},\"mode\":\"markers\",\"name\":\"2019\",\"showlegend\":false,\"type\":\"scatter\",\"x\":[23707.0,21997.0,25416.0,24147.0,25008.0,26774.0,25726.0,26132.0,24605.0,26742.0,26406.0,26837.0],\"xaxis\":\"x12\",\"y\":[20117.0,22334.0,26724.0,22004.0,23930.0,22429.0,21313.0,22036.0,20224.0,22332.0,21148.0,19306.0],\"yaxis\":\"y12\"},{\"marker\":{\"color\":\"rgb(140, 86, 75)\",\"size\":6},\"mode\":\"markers\",\"name\":\"2020\",\"showlegend\":false,\"type\":\"scatter\",\"x\":[28713.0,30528.0,25596.0,17555.0,18783.0,22292.0,21342.0,18773.0,18092.0,19389.0,23350.0,24578.0],\"xaxis\":\"x12\",\"y\":[21558.0,27613.0,17072.0,9109.0,10846.0,14316.0,15805.0,14178.0,14015.0,14432.0,16411.0,16124.0],\"yaxis\":\"y12\"},{\"marker\":{\"color\":\"rgb(227, 119, 194)\",\"size\":6},\"mode\":\"markers\",\"name\":\"2021\",\"showlegend\":false,\"type\":\"scatter\",\"x\":[22694.0,22915.0,20660.0,19723.0,21934.0,21173.0,22868.0],\"xaxis\":\"x12\",\"y\":[15471.0,16261.0,14985.0,14587.0,17677.0,17942.0,19057.0],\"yaxis\":\"y12\"},{\"marker\":{\"color\":\"rgb(31, 119, 180)\"},\"showlegend\":false,\"type\":\"box\",\"xaxis\":\"x13\",\"y\":[17205.0,16542.0,20479.0,19038.0,18445.0,18310.0,19014.0,18213.0,17983.0,19384.0,18882.0,17500.0],\"yaxis\":\"y13\"},{\"marker\":{\"color\":\"rgb(255, 127, 14)\"},\"showlegend\":false,\"type\":\"box\",\"xaxis\":\"x13\",\"y\":[17010.0,19147.0,19488.0,18514.0,19830.0,18759.0,19172.0,19240.0,19501.0,19535.0,19121.0,18701.0],\"yaxis\":\"y13\"},{\"marker\":{\"color\":\"rgb(44, 160, 44)\"},\"showlegend\":false,\"type\":\"box\",\"xaxis\":\"x13\",\"y\":[17479.0,21652.0,21986.0,17938.0,20372.0,19867.0,19079.0,20479.0,18895.0,20450.0,19491.0,18545.0],\"yaxis\":\"y13\"},{\"marker\":{\"color\":\"rgb(214, 39, 40)\"},\"showlegend\":false,\"type\":\"box\",\"xaxis\":\"x13\",\"y\":[18792.0,26167.0,19463.0,18690.0,19842.0,19464.0,19407.0,20758.0,18898.0,22055.0,20278.0,18379.0],\"yaxis\":\"y13\"},{\"marker\":{\"color\":\"rgb(148, 103, 189)\"},\"showlegend\":false,\"type\":\"box\",\"xaxis\":\"x13\",\"y\":[20117.0,22334.0,26724.0,22004.0,23930.0,22429.0,21313.0,22036.0,20224.0,22332.0,21148.0,19306.0],\"yaxis\":\"y13\"},{\"marker\":{\"color\":\"rgb(140, 86, 75)\"},\"showlegend\":false,\"type\":\"box\",\"xaxis\":\"x13\",\"y\":[21558.0,27613.0,17072.0,9109.0,10846.0,14316.0,15805.0,14178.0,14015.0,14432.0,16411.0,16124.0],\"yaxis\":\"y13\"},{\"marker\":{\"color\":\"rgb(227, 119, 194)\"},\"showlegend\":false,\"type\":\"box\",\"xaxis\":\"x13\",\"y\":[15471.0,16261.0,14985.0,14587.0,17677.0,17942.0,19057.0],\"yaxis\":\"y13\"},{\"marker\":{\"color\":\"rgb(31, 119, 180)\",\"size\":6},\"mode\":\"markers\",\"name\":\"2015\",\"showlegend\":false,\"type\":\"scatter\",\"x\":[4440.0,4038.0,4679.0,4195.0,4099.0,4170.0,4007.0,4378.0,4301.0,4260.0,4091.0,4165.0],\"xaxis\":\"x14\",\"y\":[17205.0,16542.0,20479.0,19038.0,18445.0,18310.0,19014.0,18213.0,17983.0,19384.0,18882.0,17500.0],\"yaxis\":\"y14\"},{\"marker\":{\"color\":\"rgb(255, 127, 14)\",\"size\":6},\"mode\":\"markers\",\"name\":\"2016\",\"showlegend\":false,\"type\":\"scatter\",\"x\":[3620.0,4054.0,4237.0,4211.0,3704.0,3784.0,3848.0,4116.0,3881.0,4104.0,3880.0,3983.0],\"xaxis\":\"x14\",\"y\":[17010.0,19147.0,19488.0,18514.0,19830.0,18759.0,19172.0,19240.0,19501.0,19535.0,19121.0,18701.0],\"yaxis\":\"y14\"},{\"marker\":{\"color\":\"rgb(44, 160, 44)\",\"size\":6},\"mode\":\"markers\",\"name\":\"2017\",\"showlegend\":false,\"type\":\"scatter\",\"x\":[3645.0,3688.0,4258.0,3786.0,3914.0,3694.0,3719.0,3960.0,3982.0,4043.0,3685.0,3920.0],\"xaxis\":\"x14\",\"y\":[17479.0,21652.0,21986.0,17938.0,20372.0,19867.0,19079.0,20479.0,18895.0,20450.0,19491.0,18545.0],\"yaxis\":\"y14\"},{\"marker\":{\"color\":\"rgb(214, 39, 40)\",\"size\":6},\"mode\":\"markers\",\"name\":\"2018\",\"showlegend\":false,\"type\":\"scatter\",\"x\":[3499.0,3469.0,4039.0,3708.0,3625.0,3582.0,3479.0,3415.0,3520.0,3683.0,3549.0,3605.0],\"xaxis\":\"x14\",\"y\":[18792.0,26167.0,19463.0,18690.0,19842.0,19464.0,19407.0,20758.0,18898.0,22055.0,20278.0,18379.0],\"yaxis\":\"y14\"},{\"marker\":{\"color\":\"rgb(148, 103, 189)\",\"size\":6},\"mode\":\"markers\",\"name\":\"2019\",\"showlegend\":false,\"type\":\"scatter\",\"x\":[3762.0,3583.0,3929.0,4221.0,3819.0,3528.0,3628.0,3610.0,3616.0,4108.0,3801.0,3746.0],\"xaxis\":\"x14\",\"y\":[20117.0,22334.0,26724.0,22004.0,23930.0,22429.0,21313.0,22036.0,20224.0,22332.0,21148.0,19306.0],\"yaxis\":\"y14\"},{\"marker\":{\"color\":\"rgb(140, 86, 75)\",\"size\":6},\"mode\":\"markers\",\"name\":\"2020\",\"showlegend\":false,\"type\":\"scatter\",\"x\":[3488.0,3417.0,3085.0,2193.0,2148.0,2579.0,3136.0,3241.0,3080.0,3300.0,3499.0,3603.0],\"xaxis\":\"x14\",\"y\":[21558.0,27613.0,17072.0,9109.0,10846.0,14316.0,15805.0,14178.0,14015.0,14432.0,16411.0,16124.0],\"yaxis\":\"y14\"},{\"marker\":{\"color\":\"rgb(227, 119, 194)\",\"size\":6},\"mode\":\"markers\",\"name\":\"2021\",\"showlegend\":false,\"type\":\"scatter\",\"x\":[3317.0,3334.0,3309.0,2819.0,3123.0,2995.0,3168.0],\"xaxis\":\"x14\",\"y\":[15471.0,16261.0,14985.0,14587.0,17677.0,17942.0,19057.0],\"yaxis\":\"y14\"},{\"marker\":{\"color\":\"rgb(31, 119, 180)\",\"size\":6},\"mode\":\"markers\",\"name\":\"2015\",\"showlegend\":false,\"type\":\"scatter\",\"x\":[339.0,296.0,349.0,298.0,293.0,265.0,249.0,276.0,274.0,274.0,283.0,331.0],\"xaxis\":\"x15\",\"y\":[17205.0,16542.0,20479.0,19038.0,18445.0,18310.0,19014.0,18213.0,17983.0,19384.0,18882.0,17500.0],\"yaxis\":\"y15\"},{\"marker\":{\"color\":\"rgb(255, 127, 14)\",\"size\":6},\"mode\":\"markers\",\"name\":\"2016\",\"showlegend\":false,\"type\":\"scatter\",\"x\":[225.0,280.0,277.0,294.0,252.0,229.0,257.0,244.0,243.0,262.0,253.0,290.0],\"xaxis\":\"x15\",\"y\":[17010.0,19147.0,19488.0,18514.0,19830.0,18759.0,19172.0,19240.0,19501.0,19535.0,19121.0,18701.0],\"yaxis\":\"y15\"},{\"marker\":{\"color\":\"rgb(44, 160, 44)\",\"size\":6},\"mode\":\"markers\",\"name\":\"2017\",\"showlegend\":false,\"type\":\"scatter\",\"x\":[221.0,247.0,245.0,298.0,232.0,210.0,186.0,192.0,214.0,201.0,238.0,278.0],\"xaxis\":\"x15\",\"y\":[17479.0,21652.0,21986.0,17938.0,20372.0,19867.0,19079.0,20479.0,18895.0,20450.0,19491.0,18545.0],\"yaxis\":\"y15\"},{\"marker\":{\"color\":\"rgb(214, 39, 40)\",\"size\":6},\"mode\":\"markers\",\"name\":\"2018\",\"showlegend\":false,\"type\":\"scatter\",\"x\":[229.0,226.0,237.0,214.0,206.0,202.0,208.0,202.0,194.0,217.0,204.0,250.0],\"xaxis\":\"x15\",\"y\":[18792.0,26167.0,19463.0,18690.0,19842.0,19464.0,19407.0,20758.0,18898.0,22055.0,20278.0,18379.0],\"yaxis\":\"y15\"},{\"marker\":{\"color\":\"rgb(148, 103, 189)\",\"size\":6},\"mode\":\"markers\",\"name\":\"2019\",\"showlegend\":false,\"type\":\"scatter\",\"x\":[251.0,188.0,255.0,209.0,210.0,182.0,207.0,181.0,204.0,221.0,223.0,201.0],\"xaxis\":\"x15\",\"y\":[20117.0,22334.0,26724.0,22004.0,23930.0,22429.0,21313.0,22036.0,20224.0,22332.0,21148.0,19306.0],\"yaxis\":\"y15\"},{\"marker\":{\"color\":\"rgb(140, 86, 75)\",\"size\":6},\"mode\":\"markers\",\"name\":\"2020\",\"showlegend\":false,\"type\":\"scatter\",\"x\":[239.0,191.0,219.0,174.0,189.0,176.0,181.0,201.0,210.0,172.0,206.0,229.0],\"xaxis\":\"x15\",\"y\":[21558.0,27613.0,17072.0,9109.0,10846.0,14316.0,15805.0,14178.0,14015.0,14432.0,16411.0,16124.0],\"yaxis\":\"y15\"},{\"marker\":{\"color\":\"rgb(227, 119, 194)\",\"size\":6},\"mode\":\"markers\",\"name\":\"2021\",\"showlegend\":false,\"type\":\"scatter\",\"x\":[220.0,151.0,200.0,194.0,186.0,186.0,174.0],\"xaxis\":\"x15\",\"y\":[15471.0,16261.0,14985.0,14587.0,17677.0,17942.0,19057.0],\"yaxis\":\"y15\"},{\"marker\":{\"color\":\"rgb(31, 119, 180)\",\"size\":6},\"mode\":\"markers\",\"name\":\"2015\",\"showlegend\":false,\"type\":\"scatter\",\"x\":[181.0,163.0,197.0,167.0,164.0,162.0,189.0,176.0,170.0,184.0,174.0,160.0],\"xaxis\":\"x16\",\"y\":[4440.0,4038.0,4679.0,4195.0,4099.0,4170.0,4007.0,4378.0,4301.0,4260.0,4091.0,4165.0],\"yaxis\":\"y16\"},{\"marker\":{\"color\":\"rgb(255, 127, 14)\",\"size\":6},\"mode\":\"markers\",\"name\":\"2016\",\"showlegend\":false,\"type\":\"scatter\",\"x\":[168.0,155.0,191.0,173.0,184.0,184.0,159.0,233.0,380.0,398.0,335.0,308.0],\"xaxis\":\"x16\",\"y\":[3620.0,4054.0,4237.0,4211.0,3704.0,3784.0,3848.0,4116.0,3881.0,4104.0,3880.0,3983.0],\"yaxis\":\"y16\"},{\"marker\":{\"color\":\"rgb(44, 160, 44)\",\"size\":6},\"mode\":\"markers\",\"name\":\"2017\",\"showlegend\":false,\"type\":\"scatter\",\"x\":[410.0,374.0,442.0,318.0,450.0,380.0,394.0,380.0,444.0,558.0,524.0,418.0],\"xaxis\":\"x16\",\"y\":[3645.0,3688.0,4258.0,3786.0,3914.0,3694.0,3719.0,3960.0,3982.0,4043.0,3685.0,3920.0],\"yaxis\":\"y16\"},{\"marker\":{\"color\":\"rgb(214, 39, 40)\",\"size\":6},\"mode\":\"markers\",\"name\":\"2018\",\"showlegend\":false,\"type\":\"scatter\",\"x\":[464.0,448.0,484.0,436.0,468.0,362.0,366.0,442.0,438.0,460.0,408.0,404.0],\"xaxis\":\"x16\",\"y\":[3499.0,3469.0,4039.0,3708.0,3625.0,3582.0,3479.0,3415.0,3520.0,3683.0,3549.0,3605.0],\"yaxis\":\"y16\"},{\"marker\":{\"color\":\"rgb(148, 103, 189)\",\"size\":6},\"mode\":\"markers\",\"name\":\"2019\",\"showlegend\":false,\"type\":\"scatter\",\"x\":[428.0,372.0,476.0,458.0,398.0,354.0,396.0,418.0,506.0,604.0,496.0,420.0],\"xaxis\":\"x16\",\"y\":[3762.0,3583.0,3929.0,4221.0,3819.0,3528.0,3628.0,3610.0,3616.0,4108.0,3801.0,3746.0],\"yaxis\":\"y16\"},{\"marker\":{\"color\":\"rgb(140, 86, 75)\",\"size\":6},\"mode\":\"markers\",\"name\":\"2020\",\"showlegend\":false,\"type\":\"scatter\",\"x\":[476.0,410.0,438.0,256.0,240.0,372.0,410.0,382.0,426.0,396.0,420.0,410.0],\"xaxis\":\"x16\",\"y\":[3488.0,3417.0,3085.0,2193.0,2148.0,2579.0,3136.0,3241.0,3080.0,3300.0,3499.0,3603.0],\"yaxis\":\"y16\"},{\"marker\":{\"color\":\"rgb(227, 119, 194)\",\"size\":6},\"mode\":\"markers\",\"name\":\"2021\",\"showlegend\":false,\"type\":\"scatter\",\"x\":[434.0,434.0,426.0,368.0,362.0,366.0,362.0],\"xaxis\":\"x16\",\"y\":[3317.0,3334.0,3309.0,2819.0,3123.0,2995.0,3168.0],\"yaxis\":\"y16\"},{\"marker\":{\"color\":\"rgb(31, 119, 180)\",\"size\":6},\"mode\":\"markers\",\"name\":\"2015\",\"showlegend\":false,\"type\":\"scatter\",\"x\":[17400.0,16095.0,18133.0,16636.0,15438.0,14765.0,15821.0,15574.0,15822.0,17545.0,17753.0,17127.0],\"xaxis\":\"x17\",\"y\":[4440.0,4038.0,4679.0,4195.0,4099.0,4170.0,4007.0,4378.0,4301.0,4260.0,4091.0,4165.0],\"yaxis\":\"y17\"},{\"marker\":{\"color\":\"rgb(255, 127, 14)\",\"size\":6},\"mode\":\"markers\",\"name\":\"2016\",\"showlegend\":false,\"type\":\"scatter\",\"x\":[16317.0,15935.0,18002.0,16389.0,16298.0,16293.0,16561.0,17607.0,17676.0,18261.0,17311.0,16978.0],\"xaxis\":\"x17\",\"y\":[3620.0,4054.0,4237.0,4211.0,3704.0,3784.0,3848.0,4116.0,3881.0,4104.0,3880.0,3983.0],\"yaxis\":\"y17\"},{\"marker\":{\"color\":\"rgb(44, 160, 44)\",\"size\":6},\"mode\":\"markers\",\"name\":\"2017\",\"showlegend\":false,\"type\":\"scatter\",\"x\":[28905.0,28790.0,32877.0,27665.0,30491.0,28411.0,26955.0,28281.0,26284.0,27544.0,26113.0,25330.0],\"xaxis\":\"x17\",\"y\":[3645.0,3688.0,4258.0,3786.0,3914.0,3694.0,3719.0,3960.0,3982.0,4043.0,3685.0,3920.0],\"yaxis\":\"y17\"},{\"marker\":{\"color\":\"rgb(214, 39, 40)\",\"size\":6},\"mode\":\"markers\",\"name\":\"2018\",\"showlegend\":false,\"type\":\"scatter\",\"x\":[25196.0,26176.0,24975.0,25797.0,27459.0,25272.0,22778.0,24140.0,22688.0,26285.0,25746.0,23526.0],\"xaxis\":\"x17\",\"y\":[3499.0,3469.0,4039.0,3708.0,3625.0,3582.0,3479.0,3415.0,3520.0,3683.0,3549.0,3605.0],\"yaxis\":\"y17\"},{\"marker\":{\"color\":\"rgb(148, 103, 189)\",\"size\":6},\"mode\":\"markers\",\"name\":\"2019\",\"showlegend\":false,\"type\":\"scatter\",\"x\":[23707.0,21997.0,25416.0,24147.0,25008.0,26774.0,25726.0,26132.0,24605.0,26742.0,26406.0,26837.0],\"xaxis\":\"x17\",\"y\":[3762.0,3583.0,3929.0,4221.0,3819.0,3528.0,3628.0,3610.0,3616.0,4108.0,3801.0,3746.0],\"yaxis\":\"y17\"},{\"marker\":{\"color\":\"rgb(140, 86, 75)\",\"size\":6},\"mode\":\"markers\",\"name\":\"2020\",\"showlegend\":false,\"type\":\"scatter\",\"x\":[28713.0,30528.0,25596.0,17555.0,18783.0,22292.0,21342.0,18773.0,18092.0,19389.0,23350.0,24578.0],\"xaxis\":\"x17\",\"y\":[3488.0,3417.0,3085.0,2193.0,2148.0,2579.0,3136.0,3241.0,3080.0,3300.0,3499.0,3603.0],\"yaxis\":\"y17\"},{\"marker\":{\"color\":\"rgb(227, 119, 194)\",\"size\":6},\"mode\":\"markers\",\"name\":\"2021\",\"showlegend\":false,\"type\":\"scatter\",\"x\":[22694.0,22915.0,20660.0,19723.0,21934.0,21173.0,22868.0],\"xaxis\":\"x17\",\"y\":[3317.0,3334.0,3309.0,2819.0,3123.0,2995.0,3168.0],\"yaxis\":\"y17\"},{\"marker\":{\"color\":\"rgb(31, 119, 180)\",\"size\":6},\"mode\":\"markers\",\"name\":\"2015\",\"showlegend\":false,\"type\":\"scatter\",\"x\":[17205.0,16542.0,20479.0,19038.0,18445.0,18310.0,19014.0,18213.0,17983.0,19384.0,18882.0,17500.0],\"xaxis\":\"x18\",\"y\":[4440.0,4038.0,4679.0,4195.0,4099.0,4170.0,4007.0,4378.0,4301.0,4260.0,4091.0,4165.0],\"yaxis\":\"y18\"},{\"marker\":{\"color\":\"rgb(255, 127, 14)\",\"size\":6},\"mode\":\"markers\",\"name\":\"2016\",\"showlegend\":false,\"type\":\"scatter\",\"x\":[17010.0,19147.0,19488.0,18514.0,19830.0,18759.0,19172.0,19240.0,19501.0,19535.0,19121.0,18701.0],\"xaxis\":\"x18\",\"y\":[3620.0,4054.0,4237.0,4211.0,3704.0,3784.0,3848.0,4116.0,3881.0,4104.0,3880.0,3983.0],\"yaxis\":\"y18\"},{\"marker\":{\"color\":\"rgb(44, 160, 44)\",\"size\":6},\"mode\":\"markers\",\"name\":\"2017\",\"showlegend\":false,\"type\":\"scatter\",\"x\":[17479.0,21652.0,21986.0,17938.0,20372.0,19867.0,19079.0,20479.0,18895.0,20450.0,19491.0,18545.0],\"xaxis\":\"x18\",\"y\":[3645.0,3688.0,4258.0,3786.0,3914.0,3694.0,3719.0,3960.0,3982.0,4043.0,3685.0,3920.0],\"yaxis\":\"y18\"},{\"marker\":{\"color\":\"rgb(214, 39, 40)\",\"size\":6},\"mode\":\"markers\",\"name\":\"2018\",\"showlegend\":false,\"type\":\"scatter\",\"x\":[18792.0,26167.0,19463.0,18690.0,19842.0,19464.0,19407.0,20758.0,18898.0,22055.0,20278.0,18379.0],\"xaxis\":\"x18\",\"y\":[3499.0,3469.0,4039.0,3708.0,3625.0,3582.0,3479.0,3415.0,3520.0,3683.0,3549.0,3605.0],\"yaxis\":\"y18\"},{\"marker\":{\"color\":\"rgb(148, 103, 189)\",\"size\":6},\"mode\":\"markers\",\"name\":\"2019\",\"showlegend\":false,\"type\":\"scatter\",\"x\":[20117.0,22334.0,26724.0,22004.0,23930.0,22429.0,21313.0,22036.0,20224.0,22332.0,21148.0,19306.0],\"xaxis\":\"x18\",\"y\":[3762.0,3583.0,3929.0,4221.0,3819.0,3528.0,3628.0,3610.0,3616.0,4108.0,3801.0,3746.0],\"yaxis\":\"y18\"},{\"marker\":{\"color\":\"rgb(140, 86, 75)\",\"size\":6},\"mode\":\"markers\",\"name\":\"2020\",\"showlegend\":false,\"type\":\"scatter\",\"x\":[21558.0,27613.0,17072.0,9109.0,10846.0,14316.0,15805.0,14178.0,14015.0,14432.0,16411.0,16124.0],\"xaxis\":\"x18\",\"y\":[3488.0,3417.0,3085.0,2193.0,2148.0,2579.0,3136.0,3241.0,3080.0,3300.0,3499.0,3603.0],\"yaxis\":\"y18\"},{\"marker\":{\"color\":\"rgb(227, 119, 194)\",\"size\":6},\"mode\":\"markers\",\"name\":\"2021\",\"showlegend\":false,\"type\":\"scatter\",\"x\":[15471.0,16261.0,14985.0,14587.0,17677.0,17942.0,19057.0],\"xaxis\":\"x18\",\"y\":[3317.0,3334.0,3309.0,2819.0,3123.0,2995.0,3168.0],\"yaxis\":\"y18\"},{\"marker\":{\"color\":\"rgb(31, 119, 180)\"},\"showlegend\":false,\"type\":\"box\",\"xaxis\":\"x19\",\"y\":[4440.0,4038.0,4679.0,4195.0,4099.0,4170.0,4007.0,4378.0,4301.0,4260.0,4091.0,4165.0],\"yaxis\":\"y19\"},{\"marker\":{\"color\":\"rgb(255, 127, 14)\"},\"showlegend\":false,\"type\":\"box\",\"xaxis\":\"x19\",\"y\":[3620.0,4054.0,4237.0,4211.0,3704.0,3784.0,3848.0,4116.0,3881.0,4104.0,3880.0,3983.0],\"yaxis\":\"y19\"},{\"marker\":{\"color\":\"rgb(44, 160, 44)\"},\"showlegend\":false,\"type\":\"box\",\"xaxis\":\"x19\",\"y\":[3645.0,3688.0,4258.0,3786.0,3914.0,3694.0,3719.0,3960.0,3982.0,4043.0,3685.0,3920.0],\"yaxis\":\"y19\"},{\"marker\":{\"color\":\"rgb(214, 39, 40)\"},\"showlegend\":false,\"type\":\"box\",\"xaxis\":\"x19\",\"y\":[3499.0,3469.0,4039.0,3708.0,3625.0,3582.0,3479.0,3415.0,3520.0,3683.0,3549.0,3605.0],\"yaxis\":\"y19\"},{\"marker\":{\"color\":\"rgb(148, 103, 189)\"},\"showlegend\":false,\"type\":\"box\",\"xaxis\":\"x19\",\"y\":[3762.0,3583.0,3929.0,4221.0,3819.0,3528.0,3628.0,3610.0,3616.0,4108.0,3801.0,3746.0],\"yaxis\":\"y19\"},{\"marker\":{\"color\":\"rgb(140, 86, 75)\"},\"showlegend\":false,\"type\":\"box\",\"xaxis\":\"x19\",\"y\":[3488.0,3417.0,3085.0,2193.0,2148.0,2579.0,3136.0,3241.0,3080.0,3300.0,3499.0,3603.0],\"yaxis\":\"y19\"},{\"marker\":{\"color\":\"rgb(227, 119, 194)\"},\"showlegend\":false,\"type\":\"box\",\"xaxis\":\"x19\",\"y\":[3317.0,3334.0,3309.0,2819.0,3123.0,2995.0,3168.0],\"yaxis\":\"y19\"},{\"marker\":{\"color\":\"rgb(31, 119, 180)\",\"size\":6},\"mode\":\"markers\",\"name\":\"2015\",\"showlegend\":false,\"type\":\"scatter\",\"x\":[339.0,296.0,349.0,298.0,293.0,265.0,249.0,276.0,274.0,274.0,283.0,331.0],\"xaxis\":\"x20\",\"y\":[4440.0,4038.0,4679.0,4195.0,4099.0,4170.0,4007.0,4378.0,4301.0,4260.0,4091.0,4165.0],\"yaxis\":\"y20\"},{\"marker\":{\"color\":\"rgb(255, 127, 14)\",\"size\":6},\"mode\":\"markers\",\"name\":\"2016\",\"showlegend\":false,\"type\":\"scatter\",\"x\":[225.0,280.0,277.0,294.0,252.0,229.0,257.0,244.0,243.0,262.0,253.0,290.0],\"xaxis\":\"x20\",\"y\":[3620.0,4054.0,4237.0,4211.0,3704.0,3784.0,3848.0,4116.0,3881.0,4104.0,3880.0,3983.0],\"yaxis\":\"y20\"},{\"marker\":{\"color\":\"rgb(44, 160, 44)\",\"size\":6},\"mode\":\"markers\",\"name\":\"2017\",\"showlegend\":false,\"type\":\"scatter\",\"x\":[221.0,247.0,245.0,298.0,232.0,210.0,186.0,192.0,214.0,201.0,238.0,278.0],\"xaxis\":\"x20\",\"y\":[3645.0,3688.0,4258.0,3786.0,3914.0,3694.0,3719.0,3960.0,3982.0,4043.0,3685.0,3920.0],\"yaxis\":\"y20\"},{\"marker\":{\"color\":\"rgb(214, 39, 40)\",\"size\":6},\"mode\":\"markers\",\"name\":\"2018\",\"showlegend\":false,\"type\":\"scatter\",\"x\":[229.0,226.0,237.0,214.0,206.0,202.0,208.0,202.0,194.0,217.0,204.0,250.0],\"xaxis\":\"x20\",\"y\":[3499.0,3469.0,4039.0,3708.0,3625.0,3582.0,3479.0,3415.0,3520.0,3683.0,3549.0,3605.0],\"yaxis\":\"y20\"},{\"marker\":{\"color\":\"rgb(148, 103, 189)\",\"size\":6},\"mode\":\"markers\",\"name\":\"2019\",\"showlegend\":false,\"type\":\"scatter\",\"x\":[251.0,188.0,255.0,209.0,210.0,182.0,207.0,181.0,204.0,221.0,223.0,201.0],\"xaxis\":\"x20\",\"y\":[3762.0,3583.0,3929.0,4221.0,3819.0,3528.0,3628.0,3610.0,3616.0,4108.0,3801.0,3746.0],\"yaxis\":\"y20\"},{\"marker\":{\"color\":\"rgb(140, 86, 75)\",\"size\":6},\"mode\":\"markers\",\"name\":\"2020\",\"showlegend\":false,\"type\":\"scatter\",\"x\":[239.0,191.0,219.0,174.0,189.0,176.0,181.0,201.0,210.0,172.0,206.0,229.0],\"xaxis\":\"x20\",\"y\":[3488.0,3417.0,3085.0,2193.0,2148.0,2579.0,3136.0,3241.0,3080.0,3300.0,3499.0,3603.0],\"yaxis\":\"y20\"},{\"marker\":{\"color\":\"rgb(227, 119, 194)\",\"size\":6},\"mode\":\"markers\",\"name\":\"2021\",\"showlegend\":false,\"type\":\"scatter\",\"x\":[220.0,151.0,200.0,194.0,186.0,186.0,174.0],\"xaxis\":\"x20\",\"y\":[3317.0,3334.0,3309.0,2819.0,3123.0,2995.0,3168.0],\"yaxis\":\"y20\"},{\"marker\":{\"color\":\"rgb(31, 119, 180)\",\"size\":6},\"mode\":\"markers\",\"name\":\"2015\",\"showlegend\":false,\"type\":\"scatter\",\"x\":[181.0,163.0,197.0,167.0,164.0,162.0,189.0,176.0,170.0,184.0,174.0,160.0],\"xaxis\":\"x21\",\"y\":[339.0,296.0,349.0,298.0,293.0,265.0,249.0,276.0,274.0,274.0,283.0,331.0],\"yaxis\":\"y21\"},{\"marker\":{\"color\":\"rgb(255, 127, 14)\",\"size\":6},\"mode\":\"markers\",\"name\":\"2016\",\"showlegend\":false,\"type\":\"scatter\",\"x\":[168.0,155.0,191.0,173.0,184.0,184.0,159.0,233.0,380.0,398.0,335.0,308.0],\"xaxis\":\"x21\",\"y\":[225.0,280.0,277.0,294.0,252.0,229.0,257.0,244.0,243.0,262.0,253.0,290.0],\"yaxis\":\"y21\"},{\"marker\":{\"color\":\"rgb(44, 160, 44)\",\"size\":6},\"mode\":\"markers\",\"name\":\"2017\",\"showlegend\":false,\"type\":\"scatter\",\"x\":[410.0,374.0,442.0,318.0,450.0,380.0,394.0,380.0,444.0,558.0,524.0,418.0],\"xaxis\":\"x21\",\"y\":[221.0,247.0,245.0,298.0,232.0,210.0,186.0,192.0,214.0,201.0,238.0,278.0],\"yaxis\":\"y21\"},{\"marker\":{\"color\":\"rgb(214, 39, 40)\",\"size\":6},\"mode\":\"markers\",\"name\":\"2018\",\"showlegend\":false,\"type\":\"scatter\",\"x\":[464.0,448.0,484.0,436.0,468.0,362.0,366.0,442.0,438.0,460.0,408.0,404.0],\"xaxis\":\"x21\",\"y\":[229.0,226.0,237.0,214.0,206.0,202.0,208.0,202.0,194.0,217.0,204.0,250.0],\"yaxis\":\"y21\"},{\"marker\":{\"color\":\"rgb(148, 103, 189)\",\"size\":6},\"mode\":\"markers\",\"name\":\"2019\",\"showlegend\":false,\"type\":\"scatter\",\"x\":[428.0,372.0,476.0,458.0,398.0,354.0,396.0,418.0,506.0,604.0,496.0,420.0],\"xaxis\":\"x21\",\"y\":[251.0,188.0,255.0,209.0,210.0,182.0,207.0,181.0,204.0,221.0,223.0,201.0],\"yaxis\":\"y21\"},{\"marker\":{\"color\":\"rgb(140, 86, 75)\",\"size\":6},\"mode\":\"markers\",\"name\":\"2020\",\"showlegend\":false,\"type\":\"scatter\",\"x\":[476.0,410.0,438.0,256.0,240.0,372.0,410.0,382.0,426.0,396.0,420.0,410.0],\"xaxis\":\"x21\",\"y\":[239.0,191.0,219.0,174.0,189.0,176.0,181.0,201.0,210.0,172.0,206.0,229.0],\"yaxis\":\"y21\"},{\"marker\":{\"color\":\"rgb(227, 119, 194)\",\"size\":6},\"mode\":\"markers\",\"name\":\"2021\",\"showlegend\":false,\"type\":\"scatter\",\"x\":[434.0,434.0,426.0,368.0,362.0,366.0,362.0],\"xaxis\":\"x21\",\"y\":[220.0,151.0,200.0,194.0,186.0,186.0,174.0],\"yaxis\":\"y21\"},{\"marker\":{\"color\":\"rgb(31, 119, 180)\",\"size\":6},\"mode\":\"markers\",\"name\":\"2015\",\"showlegend\":false,\"type\":\"scatter\",\"x\":[17400.0,16095.0,18133.0,16636.0,15438.0,14765.0,15821.0,15574.0,15822.0,17545.0,17753.0,17127.0],\"xaxis\":\"x22\",\"y\":[339.0,296.0,349.0,298.0,293.0,265.0,249.0,276.0,274.0,274.0,283.0,331.0],\"yaxis\":\"y22\"},{\"marker\":{\"color\":\"rgb(255, 127, 14)\",\"size\":6},\"mode\":\"markers\",\"name\":\"2016\",\"showlegend\":false,\"type\":\"scatter\",\"x\":[16317.0,15935.0,18002.0,16389.0,16298.0,16293.0,16561.0,17607.0,17676.0,18261.0,17311.0,16978.0],\"xaxis\":\"x22\",\"y\":[225.0,280.0,277.0,294.0,252.0,229.0,257.0,244.0,243.0,262.0,253.0,290.0],\"yaxis\":\"y22\"},{\"marker\":{\"color\":\"rgb(44, 160, 44)\",\"size\":6},\"mode\":\"markers\",\"name\":\"2017\",\"showlegend\":false,\"type\":\"scatter\",\"x\":[28905.0,28790.0,32877.0,27665.0,30491.0,28411.0,26955.0,28281.0,26284.0,27544.0,26113.0,25330.0],\"xaxis\":\"x22\",\"y\":[221.0,247.0,245.0,298.0,232.0,210.0,186.0,192.0,214.0,201.0,238.0,278.0],\"yaxis\":\"y22\"},{\"marker\":{\"color\":\"rgb(214, 39, 40)\",\"size\":6},\"mode\":\"markers\",\"name\":\"2018\",\"showlegend\":false,\"type\":\"scatter\",\"x\":[25196.0,26176.0,24975.0,25797.0,27459.0,25272.0,22778.0,24140.0,22688.0,26285.0,25746.0,23526.0],\"xaxis\":\"x22\",\"y\":[229.0,226.0,237.0,214.0,206.0,202.0,208.0,202.0,194.0,217.0,204.0,250.0],\"yaxis\":\"y22\"},{\"marker\":{\"color\":\"rgb(148, 103, 189)\",\"size\":6},\"mode\":\"markers\",\"name\":\"2019\",\"showlegend\":false,\"type\":\"scatter\",\"x\":[23707.0,21997.0,25416.0,24147.0,25008.0,26774.0,25726.0,26132.0,24605.0,26742.0,26406.0,26837.0],\"xaxis\":\"x22\",\"y\":[251.0,188.0,255.0,209.0,210.0,182.0,207.0,181.0,204.0,221.0,223.0,201.0],\"yaxis\":\"y22\"},{\"marker\":{\"color\":\"rgb(140, 86, 75)\",\"size\":6},\"mode\":\"markers\",\"name\":\"2020\",\"showlegend\":false,\"type\":\"scatter\",\"x\":[28713.0,30528.0,25596.0,17555.0,18783.0,22292.0,21342.0,18773.0,18092.0,19389.0,23350.0,24578.0],\"xaxis\":\"x22\",\"y\":[239.0,191.0,219.0,174.0,189.0,176.0,181.0,201.0,210.0,172.0,206.0,229.0],\"yaxis\":\"y22\"},{\"marker\":{\"color\":\"rgb(227, 119, 194)\",\"size\":6},\"mode\":\"markers\",\"name\":\"2021\",\"showlegend\":false,\"type\":\"scatter\",\"x\":[22694.0,22915.0,20660.0,19723.0,21934.0,21173.0,22868.0],\"xaxis\":\"x22\",\"y\":[220.0,151.0,200.0,194.0,186.0,186.0,174.0],\"yaxis\":\"y22\"},{\"marker\":{\"color\":\"rgb(31, 119, 180)\",\"size\":6},\"mode\":\"markers\",\"name\":\"2015\",\"showlegend\":false,\"type\":\"scatter\",\"x\":[17205.0,16542.0,20479.0,19038.0,18445.0,18310.0,19014.0,18213.0,17983.0,19384.0,18882.0,17500.0],\"xaxis\":\"x23\",\"y\":[339.0,296.0,349.0,298.0,293.0,265.0,249.0,276.0,274.0,274.0,283.0,331.0],\"yaxis\":\"y23\"},{\"marker\":{\"color\":\"rgb(255, 127, 14)\",\"size\":6},\"mode\":\"markers\",\"name\":\"2016\",\"showlegend\":false,\"type\":\"scatter\",\"x\":[17010.0,19147.0,19488.0,18514.0,19830.0,18759.0,19172.0,19240.0,19501.0,19535.0,19121.0,18701.0],\"xaxis\":\"x23\",\"y\":[225.0,280.0,277.0,294.0,252.0,229.0,257.0,244.0,243.0,262.0,253.0,290.0],\"yaxis\":\"y23\"},{\"marker\":{\"color\":\"rgb(44, 160, 44)\",\"size\":6},\"mode\":\"markers\",\"name\":\"2017\",\"showlegend\":false,\"type\":\"scatter\",\"x\":[17479.0,21652.0,21986.0,17938.0,20372.0,19867.0,19079.0,20479.0,18895.0,20450.0,19491.0,18545.0],\"xaxis\":\"x23\",\"y\":[221.0,247.0,245.0,298.0,232.0,210.0,186.0,192.0,214.0,201.0,238.0,278.0],\"yaxis\":\"y23\"},{\"marker\":{\"color\":\"rgb(214, 39, 40)\",\"size\":6},\"mode\":\"markers\",\"name\":\"2018\",\"showlegend\":false,\"type\":\"scatter\",\"x\":[18792.0,26167.0,19463.0,18690.0,19842.0,19464.0,19407.0,20758.0,18898.0,22055.0,20278.0,18379.0],\"xaxis\":\"x23\",\"y\":[229.0,226.0,237.0,214.0,206.0,202.0,208.0,202.0,194.0,217.0,204.0,250.0],\"yaxis\":\"y23\"},{\"marker\":{\"color\":\"rgb(148, 103, 189)\",\"size\":6},\"mode\":\"markers\",\"name\":\"2019\",\"showlegend\":false,\"type\":\"scatter\",\"x\":[20117.0,22334.0,26724.0,22004.0,23930.0,22429.0,21313.0,22036.0,20224.0,22332.0,21148.0,19306.0],\"xaxis\":\"x23\",\"y\":[251.0,188.0,255.0,209.0,210.0,182.0,207.0,181.0,204.0,221.0,223.0,201.0],\"yaxis\":\"y23\"},{\"marker\":{\"color\":\"rgb(140, 86, 75)\",\"size\":6},\"mode\":\"markers\",\"name\":\"2020\",\"showlegend\":false,\"type\":\"scatter\",\"x\":[21558.0,27613.0,17072.0,9109.0,10846.0,14316.0,15805.0,14178.0,14015.0,14432.0,16411.0,16124.0],\"xaxis\":\"x23\",\"y\":[239.0,191.0,219.0,174.0,189.0,176.0,181.0,201.0,210.0,172.0,206.0,229.0],\"yaxis\":\"y23\"},{\"marker\":{\"color\":\"rgb(227, 119, 194)\",\"size\":6},\"mode\":\"markers\",\"name\":\"2021\",\"showlegend\":false,\"type\":\"scatter\",\"x\":[15471.0,16261.0,14985.0,14587.0,17677.0,17942.0,19057.0],\"xaxis\":\"x23\",\"y\":[220.0,151.0,200.0,194.0,186.0,186.0,174.0],\"yaxis\":\"y23\"},{\"marker\":{\"color\":\"rgb(31, 119, 180)\",\"size\":6},\"mode\":\"markers\",\"name\":\"2015\",\"showlegend\":false,\"type\":\"scatter\",\"x\":[4440.0,4038.0,4679.0,4195.0,4099.0,4170.0,4007.0,4378.0,4301.0,4260.0,4091.0,4165.0],\"xaxis\":\"x24\",\"y\":[339.0,296.0,349.0,298.0,293.0,265.0,249.0,276.0,274.0,274.0,283.0,331.0],\"yaxis\":\"y24\"},{\"marker\":{\"color\":\"rgb(255, 127, 14)\",\"size\":6},\"mode\":\"markers\",\"name\":\"2016\",\"showlegend\":false,\"type\":\"scatter\",\"x\":[3620.0,4054.0,4237.0,4211.0,3704.0,3784.0,3848.0,4116.0,3881.0,4104.0,3880.0,3983.0],\"xaxis\":\"x24\",\"y\":[225.0,280.0,277.0,294.0,252.0,229.0,257.0,244.0,243.0,262.0,253.0,290.0],\"yaxis\":\"y24\"},{\"marker\":{\"color\":\"rgb(44, 160, 44)\",\"size\":6},\"mode\":\"markers\",\"name\":\"2017\",\"showlegend\":false,\"type\":\"scatter\",\"x\":[3645.0,3688.0,4258.0,3786.0,3914.0,3694.0,3719.0,3960.0,3982.0,4043.0,3685.0,3920.0],\"xaxis\":\"x24\",\"y\":[221.0,247.0,245.0,298.0,232.0,210.0,186.0,192.0,214.0,201.0,238.0,278.0],\"yaxis\":\"y24\"},{\"marker\":{\"color\":\"rgb(214, 39, 40)\",\"size\":6},\"mode\":\"markers\",\"name\":\"2018\",\"showlegend\":false,\"type\":\"scatter\",\"x\":[3499.0,3469.0,4039.0,3708.0,3625.0,3582.0,3479.0,3415.0,3520.0,3683.0,3549.0,3605.0],\"xaxis\":\"x24\",\"y\":[229.0,226.0,237.0,214.0,206.0,202.0,208.0,202.0,194.0,217.0,204.0,250.0],\"yaxis\":\"y24\"},{\"marker\":{\"color\":\"rgb(148, 103, 189)\",\"size\":6},\"mode\":\"markers\",\"name\":\"2019\",\"showlegend\":false,\"type\":\"scatter\",\"x\":[3762.0,3583.0,3929.0,4221.0,3819.0,3528.0,3628.0,3610.0,3616.0,4108.0,3801.0,3746.0],\"xaxis\":\"x24\",\"y\":[251.0,188.0,255.0,209.0,210.0,182.0,207.0,181.0,204.0,221.0,223.0,201.0],\"yaxis\":\"y24\"},{\"marker\":{\"color\":\"rgb(140, 86, 75)\",\"size\":6},\"mode\":\"markers\",\"name\":\"2020\",\"showlegend\":false,\"type\":\"scatter\",\"x\":[3488.0,3417.0,3085.0,2193.0,2148.0,2579.0,3136.0,3241.0,3080.0,3300.0,3499.0,3603.0],\"xaxis\":\"x24\",\"y\":[239.0,191.0,219.0,174.0,189.0,176.0,181.0,201.0,210.0,172.0,206.0,229.0],\"yaxis\":\"y24\"},{\"marker\":{\"color\":\"rgb(227, 119, 194)\",\"size\":6},\"mode\":\"markers\",\"name\":\"2021\",\"showlegend\":false,\"type\":\"scatter\",\"x\":[3317.0,3334.0,3309.0,2819.0,3123.0,2995.0,3168.0],\"xaxis\":\"x24\",\"y\":[220.0,151.0,200.0,194.0,186.0,186.0,174.0],\"yaxis\":\"y24\"},{\"marker\":{\"color\":\"rgb(31, 119, 180)\"},\"showlegend\":false,\"type\":\"box\",\"xaxis\":\"x25\",\"y\":[339.0,296.0,349.0,298.0,293.0,265.0,249.0,276.0,274.0,274.0,283.0,331.0],\"yaxis\":\"y25\"},{\"marker\":{\"color\":\"rgb(255, 127, 14)\"},\"showlegend\":false,\"type\":\"box\",\"xaxis\":\"x25\",\"y\":[225.0,280.0,277.0,294.0,252.0,229.0,257.0,244.0,243.0,262.0,253.0,290.0],\"yaxis\":\"y25\"},{\"marker\":{\"color\":\"rgb(44, 160, 44)\"},\"showlegend\":false,\"type\":\"box\",\"xaxis\":\"x25\",\"y\":[221.0,247.0,245.0,298.0,232.0,210.0,186.0,192.0,214.0,201.0,238.0,278.0],\"yaxis\":\"y25\"},{\"marker\":{\"color\":\"rgb(214, 39, 40)\"},\"showlegend\":false,\"type\":\"box\",\"xaxis\":\"x25\",\"y\":[229.0,226.0,237.0,214.0,206.0,202.0,208.0,202.0,194.0,217.0,204.0,250.0],\"yaxis\":\"y25\"},{\"marker\":{\"color\":\"rgb(148, 103, 189)\"},\"showlegend\":false,\"type\":\"box\",\"xaxis\":\"x25\",\"y\":[251.0,188.0,255.0,209.0,210.0,182.0,207.0,181.0,204.0,221.0,223.0,201.0],\"yaxis\":\"y25\"},{\"marker\":{\"color\":\"rgb(140, 86, 75)\"},\"showlegend\":false,\"type\":\"box\",\"xaxis\":\"x25\",\"y\":[239.0,191.0,219.0,174.0,189.0,176.0,181.0,201.0,210.0,172.0,206.0,229.0],\"yaxis\":\"y25\"},{\"marker\":{\"color\":\"rgb(227, 119, 194)\"},\"showlegend\":false,\"type\":\"box\",\"xaxis\":\"x25\",\"y\":[220.0,151.0,200.0,194.0,186.0,186.0,174.0],\"yaxis\":\"y25\"}],                        {\"height\":1000,\"showlegend\":true,\"template\":{\"data\":{\"bar\":[{\"error_x\":{\"color\":\"#2a3f5f\"},\"error_y\":{\"color\":\"#2a3f5f\"},\"marker\":{\"line\":{\"color\":\"#E5ECF6\",\"width\":0.5},\"pattern\":{\"fillmode\":\"overlay\",\"size\":10,\"solidity\":0.2}},\"type\":\"bar\"}],\"barpolar\":[{\"marker\":{\"line\":{\"color\":\"#E5ECF6\",\"width\":0.5},\"pattern\":{\"fillmode\":\"overlay\",\"size\":10,\"solidity\":0.2}},\"type\":\"barpolar\"}],\"carpet\":[{\"aaxis\":{\"endlinecolor\":\"#2a3f5f\",\"gridcolor\":\"white\",\"linecolor\":\"white\",\"minorgridcolor\":\"white\",\"startlinecolor\":\"#2a3f5f\"},\"baxis\":{\"endlinecolor\":\"#2a3f5f\",\"gridcolor\":\"white\",\"linecolor\":\"white\",\"minorgridcolor\":\"white\",\"startlinecolor\":\"#2a3f5f\"},\"type\":\"carpet\"}],\"choropleth\":[{\"colorbar\":{\"outlinewidth\":0,\"ticks\":\"\"},\"type\":\"choropleth\"}],\"contour\":[{\"colorbar\":{\"outlinewidth\":0,\"ticks\":\"\"},\"colorscale\":[[0.0,\"#0d0887\"],[0.1111111111111111,\"#46039f\"],[0.2222222222222222,\"#7201a8\"],[0.3333333333333333,\"#9c179e\"],[0.4444444444444444,\"#bd3786\"],[0.5555555555555556,\"#d8576b\"],[0.6666666666666666,\"#ed7953\"],[0.7777777777777778,\"#fb9f3a\"],[0.8888888888888888,\"#fdca26\"],[1.0,\"#f0f921\"]],\"type\":\"contour\"}],\"contourcarpet\":[{\"colorbar\":{\"outlinewidth\":0,\"ticks\":\"\"},\"type\":\"contourcarpet\"}],\"heatmap\":[{\"colorbar\":{\"outlinewidth\":0,\"ticks\":\"\"},\"colorscale\":[[0.0,\"#0d0887\"],[0.1111111111111111,\"#46039f\"],[0.2222222222222222,\"#7201a8\"],[0.3333333333333333,\"#9c179e\"],[0.4444444444444444,\"#bd3786\"],[0.5555555555555556,\"#d8576b\"],[0.6666666666666666,\"#ed7953\"],[0.7777777777777778,\"#fb9f3a\"],[0.8888888888888888,\"#fdca26\"],[1.0,\"#f0f921\"]],\"type\":\"heatmap\"}],\"heatmapgl\":[{\"colorbar\":{\"outlinewidth\":0,\"ticks\":\"\"},\"colorscale\":[[0.0,\"#0d0887\"],[0.1111111111111111,\"#46039f\"],[0.2222222222222222,\"#7201a8\"],[0.3333333333333333,\"#9c179e\"],[0.4444444444444444,\"#bd3786\"],[0.5555555555555556,\"#d8576b\"],[0.6666666666666666,\"#ed7953\"],[0.7777777777777778,\"#fb9f3a\"],[0.8888888888888888,\"#fdca26\"],[1.0,\"#f0f921\"]],\"type\":\"heatmapgl\"}],\"histogram\":[{\"marker\":{\"pattern\":{\"fillmode\":\"overlay\",\"size\":10,\"solidity\":0.2}},\"type\":\"histogram\"}],\"histogram2d\":[{\"colorbar\":{\"outlinewidth\":0,\"ticks\":\"\"},\"colorscale\":[[0.0,\"#0d0887\"],[0.1111111111111111,\"#46039f\"],[0.2222222222222222,\"#7201a8\"],[0.3333333333333333,\"#9c179e\"],[0.4444444444444444,\"#bd3786\"],[0.5555555555555556,\"#d8576b\"],[0.6666666666666666,\"#ed7953\"],[0.7777777777777778,\"#fb9f3a\"],[0.8888888888888888,\"#fdca26\"],[1.0,\"#f0f921\"]],\"type\":\"histogram2d\"}],\"histogram2dcontour\":[{\"colorbar\":{\"outlinewidth\":0,\"ticks\":\"\"},\"colorscale\":[[0.0,\"#0d0887\"],[0.1111111111111111,\"#46039f\"],[0.2222222222222222,\"#7201a8\"],[0.3333333333333333,\"#9c179e\"],[0.4444444444444444,\"#bd3786\"],[0.5555555555555556,\"#d8576b\"],[0.6666666666666666,\"#ed7953\"],[0.7777777777777778,\"#fb9f3a\"],[0.8888888888888888,\"#fdca26\"],[1.0,\"#f0f921\"]],\"type\":\"histogram2dcontour\"}],\"mesh3d\":[{\"colorbar\":{\"outlinewidth\":0,\"ticks\":\"\"},\"type\":\"mesh3d\"}],\"parcoords\":[{\"line\":{\"colorbar\":{\"outlinewidth\":0,\"ticks\":\"\"}},\"type\":\"parcoords\"}],\"pie\":[{\"automargin\":true,\"type\":\"pie\"}],\"scatter\":[{\"marker\":{\"colorbar\":{\"outlinewidth\":0,\"ticks\":\"\"}},\"type\":\"scatter\"}],\"scatter3d\":[{\"line\":{\"colorbar\":{\"outlinewidth\":0,\"ticks\":\"\"}},\"marker\":{\"colorbar\":{\"outlinewidth\":0,\"ticks\":\"\"}},\"type\":\"scatter3d\"}],\"scattercarpet\":[{\"marker\":{\"colorbar\":{\"outlinewidth\":0,\"ticks\":\"\"}},\"type\":\"scattercarpet\"}],\"scattergeo\":[{\"marker\":{\"colorbar\":{\"outlinewidth\":0,\"ticks\":\"\"}},\"type\":\"scattergeo\"}],\"scattergl\":[{\"marker\":{\"colorbar\":{\"outlinewidth\":0,\"ticks\":\"\"}},\"type\":\"scattergl\"}],\"scattermapbox\":[{\"marker\":{\"colorbar\":{\"outlinewidth\":0,\"ticks\":\"\"}},\"type\":\"scattermapbox\"}],\"scatterpolar\":[{\"marker\":{\"colorbar\":{\"outlinewidth\":0,\"ticks\":\"\"}},\"type\":\"scatterpolar\"}],\"scatterpolargl\":[{\"marker\":{\"colorbar\":{\"outlinewidth\":0,\"ticks\":\"\"}},\"type\":\"scatterpolargl\"}],\"scatterternary\":[{\"marker\":{\"colorbar\":{\"outlinewidth\":0,\"ticks\":\"\"}},\"type\":\"scatterternary\"}],\"surface\":[{\"colorbar\":{\"outlinewidth\":0,\"ticks\":\"\"},\"colorscale\":[[0.0,\"#0d0887\"],[0.1111111111111111,\"#46039f\"],[0.2222222222222222,\"#7201a8\"],[0.3333333333333333,\"#9c179e\"],[0.4444444444444444,\"#bd3786\"],[0.5555555555555556,\"#d8576b\"],[0.6666666666666666,\"#ed7953\"],[0.7777777777777778,\"#fb9f3a\"],[0.8888888888888888,\"#fdca26\"],[1.0,\"#f0f921\"]],\"type\":\"surface\"}],\"table\":[{\"cells\":{\"fill\":{\"color\":\"#EBF0F8\"},\"line\":{\"color\":\"white\"}},\"header\":{\"fill\":{\"color\":\"#C8D4E3\"},\"line\":{\"color\":\"white\"}},\"type\":\"table\"}]},\"layout\":{\"annotationdefaults\":{\"arrowcolor\":\"#2a3f5f\",\"arrowhead\":0,\"arrowwidth\":1},\"autotypenumbers\":\"strict\",\"coloraxis\":{\"colorbar\":{\"outlinewidth\":0,\"ticks\":\"\"}},\"colorscale\":{\"diverging\":[[0,\"#8e0152\"],[0.1,\"#c51b7d\"],[0.2,\"#de77ae\"],[0.3,\"#f1b6da\"],[0.4,\"#fde0ef\"],[0.5,\"#f7f7f7\"],[0.6,\"#e6f5d0\"],[0.7,\"#b8e186\"],[0.8,\"#7fbc41\"],[0.9,\"#4d9221\"],[1,\"#276419\"]],\"sequential\":[[0.0,\"#0d0887\"],[0.1111111111111111,\"#46039f\"],[0.2222222222222222,\"#7201a8\"],[0.3333333333333333,\"#9c179e\"],[0.4444444444444444,\"#bd3786\"],[0.5555555555555556,\"#d8576b\"],[0.6666666666666666,\"#ed7953\"],[0.7777777777777778,\"#fb9f3a\"],[0.8888888888888888,\"#fdca26\"],[1.0,\"#f0f921\"]],\"sequentialminus\":[[0.0,\"#0d0887\"],[0.1111111111111111,\"#46039f\"],[0.2222222222222222,\"#7201a8\"],[0.3333333333333333,\"#9c179e\"],[0.4444444444444444,\"#bd3786\"],[0.5555555555555556,\"#d8576b\"],[0.6666666666666666,\"#ed7953\"],[0.7777777777777778,\"#fb9f3a\"],[0.8888888888888888,\"#fdca26\"],[1.0,\"#f0f921\"]]},\"colorway\":[\"#636efa\",\"#EF553B\",\"#00cc96\",\"#ab63fa\",\"#FFA15A\",\"#19d3f3\",\"#FF6692\",\"#B6E880\",\"#FF97FF\",\"#FECB52\"],\"font\":{\"color\":\"#2a3f5f\"},\"geo\":{\"bgcolor\":\"white\",\"lakecolor\":\"white\",\"landcolor\":\"#E5ECF6\",\"showlakes\":true,\"showland\":true,\"subunitcolor\":\"white\"},\"hoverlabel\":{\"align\":\"left\"},\"hovermode\":\"closest\",\"mapbox\":{\"style\":\"light\"},\"paper_bgcolor\":\"white\",\"plot_bgcolor\":\"#E5ECF6\",\"polar\":{\"angularaxis\":{\"gridcolor\":\"white\",\"linecolor\":\"white\",\"ticks\":\"\"},\"bgcolor\":\"#E5ECF6\",\"radialaxis\":{\"gridcolor\":\"white\",\"linecolor\":\"white\",\"ticks\":\"\"}},\"scene\":{\"xaxis\":{\"backgroundcolor\":\"#E5ECF6\",\"gridcolor\":\"white\",\"gridwidth\":2,\"linecolor\":\"white\",\"showbackground\":true,\"ticks\":\"\",\"zerolinecolor\":\"white\"},\"yaxis\":{\"backgroundcolor\":\"#E5ECF6\",\"gridcolor\":\"white\",\"gridwidth\":2,\"linecolor\":\"white\",\"showbackground\":true,\"ticks\":\"\",\"zerolinecolor\":\"white\"},\"zaxis\":{\"backgroundcolor\":\"#E5ECF6\",\"gridcolor\":\"white\",\"gridwidth\":2,\"linecolor\":\"white\",\"showbackground\":true,\"ticks\":\"\",\"zerolinecolor\":\"white\"}},\"shapedefaults\":{\"line\":{\"color\":\"#2a3f5f\"}},\"ternary\":{\"aaxis\":{\"gridcolor\":\"white\",\"linecolor\":\"white\",\"ticks\":\"\"},\"baxis\":{\"gridcolor\":\"white\",\"linecolor\":\"white\",\"ticks\":\"\"},\"bgcolor\":\"#E5ECF6\",\"caxis\":{\"gridcolor\":\"white\",\"linecolor\":\"white\",\"ticks\":\"\"}},\"title\":{\"x\":0.05},\"xaxis\":{\"automargin\":true,\"gridcolor\":\"white\",\"linecolor\":\"white\",\"ticks\":\"\",\"title\":{\"standoff\":15},\"zerolinecolor\":\"white\",\"zerolinewidth\":2},\"yaxis\":{\"automargin\":true,\"gridcolor\":\"white\",\"linecolor\":\"white\",\"ticks\":\"\",\"title\":{\"standoff\":15},\"zerolinecolor\":\"white\",\"zerolinewidth\":2}}},\"title\":{\"text\":\"Scatterplot Matrix\"},\"width\":1000,\"xaxis\":{\"anchor\":\"y\",\"domain\":[0.0,0.16799999999999998],\"showticklabels\":false},\"xaxis10\":{\"anchor\":\"y10\",\"domain\":[0.832,1.0]},\"xaxis11\":{\"anchor\":\"y11\",\"domain\":[0.0,0.16799999999999998]},\"xaxis12\":{\"anchor\":\"y12\",\"domain\":[0.208,0.376]},\"xaxis13\":{\"anchor\":\"y13\",\"domain\":[0.416,0.584],\"showticklabels\":false},\"xaxis14\":{\"anchor\":\"y14\",\"domain\":[0.624,0.792]},\"xaxis15\":{\"anchor\":\"y15\",\"domain\":[0.832,1.0]},\"xaxis16\":{\"anchor\":\"y16\",\"domain\":[0.0,0.16799999999999998]},\"xaxis17\":{\"anchor\":\"y17\",\"domain\":[0.208,0.376]},\"xaxis18\":{\"anchor\":\"y18\",\"domain\":[0.416,0.584]},\"xaxis19\":{\"anchor\":\"y19\",\"domain\":[0.624,0.792],\"showticklabels\":false},\"xaxis2\":{\"anchor\":\"y2\",\"domain\":[0.208,0.376]},\"xaxis20\":{\"anchor\":\"y20\",\"domain\":[0.832,1.0]},\"xaxis21\":{\"anchor\":\"y21\",\"domain\":[0.0,0.16799999999999998],\"title\":{\"text\":\"ESTUPRO\"}},\"xaxis22\":{\"anchor\":\"y22\",\"domain\":[0.208,0.376],\"title\":{\"text\":\"ROUBO\"}},\"xaxis23\":{\"anchor\":\"y23\",\"domain\":[0.416,0.584],\"title\":{\"text\":\"FURTO\"}},\"xaxis24\":{\"anchor\":\"y24\",\"domain\":[0.624,0.792],\"title\":{\"text\":\"LES\\u00c3O\"}},\"xaxis25\":{\"anchor\":\"y25\",\"domain\":[0.832,1.0],\"showticklabels\":false,\"title\":{\"text\":\"HOMIC\\u00cdDIO\"}},\"xaxis3\":{\"anchor\":\"y3\",\"domain\":[0.416,0.584]},\"xaxis4\":{\"anchor\":\"y4\",\"domain\":[0.624,0.792]},\"xaxis5\":{\"anchor\":\"y5\",\"domain\":[0.832,1.0]},\"xaxis6\":{\"anchor\":\"y6\",\"domain\":[0.0,0.16799999999999998]},\"xaxis7\":{\"anchor\":\"y7\",\"domain\":[0.208,0.376],\"showticklabels\":false},\"xaxis8\":{\"anchor\":\"y8\",\"domain\":[0.416,0.584]},\"xaxis9\":{\"anchor\":\"y9\",\"domain\":[0.624,0.792]},\"yaxis\":{\"anchor\":\"x\",\"domain\":[0.848,1.0],\"title\":{\"text\":\"ESTUPRO\"}},\"yaxis10\":{\"anchor\":\"x10\",\"domain\":[0.6359999999999999,0.7879999999999999]},\"yaxis11\":{\"anchor\":\"x11\",\"domain\":[0.424,0.576],\"title\":{\"text\":\"FURTO\"}},\"yaxis12\":{\"anchor\":\"x12\",\"domain\":[0.424,0.576]},\"yaxis13\":{\"anchor\":\"x13\",\"domain\":[0.424,0.576]},\"yaxis14\":{\"anchor\":\"x14\",\"domain\":[0.424,0.576]},\"yaxis15\":{\"anchor\":\"x15\",\"domain\":[0.424,0.576]},\"yaxis16\":{\"anchor\":\"x16\",\"domain\":[0.212,0.364],\"title\":{\"text\":\"LES\\u00c3O\"}},\"yaxis17\":{\"anchor\":\"x17\",\"domain\":[0.212,0.364]},\"yaxis18\":{\"anchor\":\"x18\",\"domain\":[0.212,0.364]},\"yaxis19\":{\"anchor\":\"x19\",\"domain\":[0.212,0.364]},\"yaxis2\":{\"anchor\":\"x2\",\"domain\":[0.848,1.0]},\"yaxis20\":{\"anchor\":\"x20\",\"domain\":[0.212,0.364]},\"yaxis21\":{\"anchor\":\"x21\",\"domain\":[0.0,0.152],\"title\":{\"text\":\"HOMIC\\u00cdDIO\"}},\"yaxis22\":{\"anchor\":\"x22\",\"domain\":[0.0,0.152]},\"yaxis23\":{\"anchor\":\"x23\",\"domain\":[0.0,0.152]},\"yaxis24\":{\"anchor\":\"x24\",\"domain\":[0.0,0.152]},\"yaxis25\":{\"anchor\":\"x25\",\"domain\":[0.0,0.152]},\"yaxis3\":{\"anchor\":\"x3\",\"domain\":[0.848,1.0]},\"yaxis4\":{\"anchor\":\"x4\",\"domain\":[0.848,1.0]},\"yaxis5\":{\"anchor\":\"x5\",\"domain\":[0.848,1.0]},\"yaxis6\":{\"anchor\":\"x6\",\"domain\":[0.6359999999999999,0.7879999999999999],\"title\":{\"text\":\"ROUBO\"}},\"yaxis7\":{\"anchor\":\"x7\",\"domain\":[0.6359999999999999,0.7879999999999999]},\"yaxis8\":{\"anchor\":\"x8\",\"domain\":[0.6359999999999999,0.7879999999999999]},\"yaxis9\":{\"anchor\":\"x9\",\"domain\":[0.6359999999999999,0.7879999999999999]}},                        {\"responsive\": true}                    ).then(function(){\n",
       "                            \n",
       "var gd = document.getElementById('38503f4c-a241-4e3a-b154-095df1cba861');\n",
       "var x = new MutationObserver(function (mutations, observer) {{\n",
       "        var display = window.getComputedStyle(gd).display;\n",
       "        if (!display || display === 'none') {{\n",
       "            console.log([gd, 'removed!']);\n",
       "            Plotly.purge(gd);\n",
       "            observer.disconnect();\n",
       "        }}\n",
       "}});\n",
       "\n",
       "// Listen for the removal of the full notebook cells\n",
       "var notebookContainer = gd.closest('#notebook-container');\n",
       "if (notebookContainer) {{\n",
       "    x.observe(notebookContainer, {childList: true});\n",
       "}}\n",
       "\n",
       "// Listen for the clearing of the current output cell\n",
       "var outputEl = gd.closest('.output');\n",
       "if (outputEl) {{\n",
       "    x.observe(outputEl, {childList: true});\n",
       "}}\n",
       "\n",
       "                        })                };                });            </script>        </div>"
      ]
     },
     "metadata": {},
     "output_type": "display_data"
    }
   ],
   "source": [
    "fig = ff.create_scatterplotmatrix(df_crime_consolidado, diag='box', index='ANO', height=1000, width=1000)\n",
    "fig.write_html('../docs/crimes_scatter.html')\n",
    "fig.show()"
   ]
  },
  {
   "cell_type": "code",
   "execution_count": 40,
   "id": "3511f350",
   "metadata": {
    "ExecuteTime": {
     "end_time": "2021-09-07T02:58:20.054188Z",
     "start_time": "2021-09-07T02:58:19.830521Z"
    }
   },
   "outputs": [
    {
     "data": {
      "image/png": "[encoded data removed]",
      "text/plain": [
       "<Figure size 648x504 with 2 Axes>"
      ]
     },
     "metadata": {
      "needs_background": "light"
     },
     "output_type": "display_data"
    }
   ],
   "source": [
    "corr = abs(df_crime_consolidado.corr())\n",
    "# corr = corr.sort_values(by=[x for x in corr.columns], ascending=False)\n",
    "\n",
    "# Generate a mask for the upper triangle\n",
    "mask = np.triu(np.ones_like(corr, dtype=bool))\n",
    "\n",
    "# Set up the matplotlib figure\n",
    "f, ax = plt.subplots(figsize=(9, 7))\n",
    "\n",
    "# Generate a custom diverging colormap\n",
    "cmap = sns.color_palette(\"coolwarm\", as_cmap=True)\n",
    "\n",
    "# Draw the heatmap with the mask and correct aspect ratio\n",
    "sns.heatmap(corr, mask=mask, cmap=cmap, square=True, linewidths=.05, vmin=0, vmax=1, annot=True);"
   ]
  },
  {
   "cell_type": "code",
   "execution_count": null,
   "id": "a36f4b8b",
   "metadata": {},
   "outputs": [],
   "source": []
  }
 ],
 "metadata": {
  "hide_input": false,
  "interpreter": {
   "hash": "aa8e4de9f4426ab75fdef01f3d7947e2b3e9cfbdb80ba65115d4f20988c8517e"
  },
  "kernelspec": {
   "display_name": "Python 3 (ipykernel)",
   "language": "python",
   "name": "python3"
  },
  "language_info": {
   "codemirror_mode": {
    "name": "ipython",
    "version": 3
   },
   "file_extension": ".py",
   "mimetype": "text/x-python",
   "name": "python",
   "nbconvert_exporter": "python",
   "pygments_lexer": "ipython3",
   "version": "3.9.7"
  },
  "toc": {
   "base_numbering": 1,
   "nav_menu": {},
   "number_sections": true,
   "sideBar": true,
   "skip_h1_title": false,
   "title_cell": "Table of Contents",
   "title_sidebar": "Contents",
   "toc_cell": false,
   "toc_position": {},
   "toc_section_display": true,
   "toc_window_display": false
  }
 },
 "nbformat": 4,
 "nbformat_minor": 5
}
